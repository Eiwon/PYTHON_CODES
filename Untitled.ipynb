{
 "cells": [
  {
   "cell_type": "markdown",
   "id": "bcf8b74f-b4b3-487e-bf9f-6d78e30abe63",
   "metadata": {},
   "source": [
    "# 파이썬 라이브러리"
   ]
  },
  {
   "cell_type": "markdown",
   "id": "5b4f2b77-e68d-4b5d-b545-ef341982a802",
   "metadata": {},
   "source": [
    "## NumPy(Numerical Python)\n",
    "- 자료구조"
   ]
  },
  {
   "cell_type": "code",
   "execution_count": 1,
   "id": "9ed62868-2b1d-49f6-99d2-fbae41aa14f1",
   "metadata": {},
   "outputs": [],
   "source": [
    "import pandas as pd"
   ]
  },
  {
   "cell_type": "code",
   "execution_count": 2,
   "id": "b9217c0c-4216-463c-8feb-f6669d4015d8",
   "metadata": {},
   "outputs": [],
   "source": [
    "import numpy as np"
   ]
  },
  {
   "cell_type": "code",
   "execution_count": 5,
   "id": "2a405718-4915-4874-b658-c2edaf0b9427",
   "metadata": {},
   "outputs": [],
   "source": [
    "from pandas import Series, DataFrame"
   ]
  },
  {
   "cell_type": "code",
   "execution_count": 6,
   "id": "b2e61f67-be1a-4ce2-ace7-0cf9b4db212d",
   "metadata": {},
   "outputs": [],
   "source": [
    "obj = pd.Series([4, 7, -5, 3])"
   ]
  },
  {
   "cell_type": "code",
   "execution_count": 7,
   "id": "27d23d2a-2185-446f-89ca-1a9564b2cbb1",
   "metadata": {},
   "outputs": [
    {
     "data": {
      "text/plain": [
       "0    4\n",
       "1    7\n",
       "2   -5\n",
       "3    3\n",
       "dtype: int64"
      ]
     },
     "execution_count": 7,
     "metadata": {},
     "output_type": "execute_result"
    }
   ],
   "source": [
    "obj"
   ]
  },
  {
   "cell_type": "code",
   "execution_count": 9,
   "id": "7c0d6aef-039a-437d-9ba6-da953a1a26fd",
   "metadata": {},
   "outputs": [
    {
     "data": {
      "text/plain": [
       "array([ 4,  7, -5,  3], dtype=int64)"
      ]
     },
     "execution_count": 9,
     "metadata": {},
     "output_type": "execute_result"
    }
   ],
   "source": [
    "obj.values"
   ]
  },
  {
   "cell_type": "code",
   "execution_count": null,
   "id": "a532d8b7-cb60-4320-972d-7165aa5241d4",
   "metadata": {},
   "outputs": [],
   "source": []
  }
 ],
 "metadata": {
  "kernelspec": {
   "display_name": "Python 3 (ipykernel)",
   "language": "python",
   "name": "python3"
  },
  "language_info": {
   "codemirror_mode": {
    "name": "ipython",
    "version": 3
   },
   "file_extension": ".py",
   "mimetype": "text/x-python",
   "name": "python",
   "nbconvert_exporter": "python",
   "pygments_lexer": "ipython3",
   "version": "3.11.7"
  }
 },
 "nbformat": 4,
 "nbformat_minor": 5
}
