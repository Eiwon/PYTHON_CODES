{
 "cells": [
  {
   "cell_type": "markdown",
   "metadata": {},
   "source": [
    "# 데이터 로딩, 저장, 파일 형식"
   ]
  },
  {
   "cell_type": "code",
   "execution_count": 3,
   "metadata": {},
   "outputs": [],
   "source": [
    "import numpy as np\n",
    "import pandas as pd"
   ]
  },
  {
   "cell_type": "markdown",
   "metadata": {},
   "source": [
    "## 텍스트 파일 읽기/쓰기\n",
    "- 파이썬 pandas를 이용하여 표 형식의 자료를 DataFrame 객체로 읽을 수 있음.\n",
    "- 대표적인 파일 저장 형식은 excel, csv, json, txt 등이 존재"
   ]
  },
  {
   "cell_type": "code",
   "execution_count": 4,
   "metadata": {},
   "outputs": [
    {
     "data": {
      "text/html": [
       "<div>\n",
       "<style scoped>\n",
       "    .dataframe tbody tr th:only-of-type {\n",
       "        vertical-align: middle;\n",
       "    }\n",
       "\n",
       "    .dataframe tbody tr th {\n",
       "        vertical-align: top;\n",
       "    }\n",
       "\n",
       "    .dataframe thead th {\n",
       "        text-align: right;\n",
       "    }\n",
       "</style>\n",
       "<table border=\"1\" class=\"dataframe\">\n",
       "  <thead>\n",
       "    <tr style=\"text-align: right;\">\n",
       "      <th></th>\n",
       "      <th>이름</th>\n",
       "      <th>전화번호</th>\n",
       "      <th>주소</th>\n",
       "    </tr>\n",
       "  </thead>\n",
       "  <tbody>\n",
       "    <tr>\n",
       "      <th>0</th>\n",
       "      <td>kim</td>\n",
       "      <td>010-1111-1111</td>\n",
       "      <td>seoul</td>\n",
       "    </tr>\n",
       "    <tr>\n",
       "      <th>1</th>\n",
       "      <td>park</td>\n",
       "      <td>010-1111-2222</td>\n",
       "      <td>seoul</td>\n",
       "    </tr>\n",
       "    <tr>\n",
       "      <th>2</th>\n",
       "      <td>mok</td>\n",
       "      <td>010-1111-3333</td>\n",
       "      <td>incheon</td>\n",
       "    </tr>\n",
       "  </tbody>\n",
       "</table>\n",
       "</div>"
      ],
      "text/plain": [
       "     이름           전화번호       주소\n",
       "0   kim  010-1111-1111    seoul\n",
       "1  park  010-1111-2222    seoul\n",
       "2   mok  010-1111-3333  incheon"
      ]
     },
     "execution_count": 4,
     "metadata": {},
     "output_type": "execute_result"
    }
   ],
   "source": [
    "# csv(comma-seperated variables) : 표 형식으로 데이터를 저장하는 파일 구조. \n",
    "df = pd.read_csv('examples/ex1.csv') # csv 파일 저장\n",
    "df"
   ]
  },
  {
   "cell_type": "code",
   "execution_count": 5,
   "metadata": {},
   "outputs": [
    {
     "data": {
      "text/html": [
       "<div>\n",
       "<style scoped>\n",
       "    .dataframe tbody tr th:only-of-type {\n",
       "        vertical-align: middle;\n",
       "    }\n",
       "\n",
       "    .dataframe tbody tr th {\n",
       "        vertical-align: top;\n",
       "    }\n",
       "\n",
       "    .dataframe thead th {\n",
       "        text-align: right;\n",
       "    }\n",
       "</style>\n",
       "<table border=\"1\" class=\"dataframe\">\n",
       "  <thead>\n",
       "    <tr style=\"text-align: right;\">\n",
       "      <th></th>\n",
       "      <th>kim</th>\n",
       "      <th>010-1111-1111</th>\n",
       "      <th>seoul</th>\n",
       "    </tr>\n",
       "  </thead>\n",
       "  <tbody>\n",
       "    <tr>\n",
       "      <th>0</th>\n",
       "      <td>park</td>\n",
       "      <td>010-1111-2222</td>\n",
       "      <td>seoul</td>\n",
       "    </tr>\n",
       "    <tr>\n",
       "      <th>1</th>\n",
       "      <td>mok</td>\n",
       "      <td>010-1111-3333</td>\n",
       "      <td>incheon</td>\n",
       "    </tr>\n",
       "  </tbody>\n",
       "</table>\n",
       "</div>"
      ],
      "text/plain": [
       "    kim  010-1111-1111    seoul\n",
       "0  park  010-1111-2222    seoul\n",
       "1   mok  010-1111-3333  incheon"
      ]
     },
     "execution_count": 5,
     "metadata": {},
     "output_type": "execute_result"
    }
   ],
   "source": [
    "pd.read_csv('examples/ex1.csv', skiprows=[0]) # skiprows : 행 건너뛰기"
   ]
  },
  {
   "cell_type": "code",
   "execution_count": 6,
   "metadata": {},
   "outputs": [
    {
     "data": {
      "text/html": [
       "<div>\n",
       "<style scoped>\n",
       "    .dataframe tbody tr th:only-of-type {\n",
       "        vertical-align: middle;\n",
       "    }\n",
       "\n",
       "    .dataframe tbody tr th {\n",
       "        vertical-align: top;\n",
       "    }\n",
       "\n",
       "    .dataframe thead th {\n",
       "        text-align: right;\n",
       "    }\n",
       "</style>\n",
       "<table border=\"1\" class=\"dataframe\">\n",
       "  <thead>\n",
       "    <tr style=\"text-align: right;\">\n",
       "      <th></th>\n",
       "      <th>A</th>\n",
       "      <th>B</th>\n",
       "      <th>C</th>\n",
       "    </tr>\n",
       "  </thead>\n",
       "  <tbody>\n",
       "    <tr>\n",
       "      <th>aaa</th>\n",
       "      <td>-0.264438</td>\n",
       "      <td>-1.026059</td>\n",
       "      <td>-0.619500</td>\n",
       "    </tr>\n",
       "    <tr>\n",
       "      <th>bbb</th>\n",
       "      <td>0.927272</td>\n",
       "      <td>0.302904</td>\n",
       "      <td>-0.032399</td>\n",
       "    </tr>\n",
       "    <tr>\n",
       "      <th>ccc</th>\n",
       "      <td>-0.264273</td>\n",
       "      <td>-0.386314</td>\n",
       "      <td>-0.217601</td>\n",
       "    </tr>\n",
       "    <tr>\n",
       "      <th>ddd</th>\n",
       "      <td>-0.871858</td>\n",
       "      <td>-0.348382</td>\n",
       "      <td>1.100491</td>\n",
       "    </tr>\n",
       "  </tbody>\n",
       "</table>\n",
       "</div>"
      ],
      "text/plain": [
       "            A         B         C\n",
       "aaa -0.264438 -1.026059 -0.619500\n",
       "bbb  0.927272  0.302904 -0.032399\n",
       "ccc -0.264273 -0.386314 -0.217601\n",
       "ddd -0.871858 -0.348382  1.100491"
      ]
     },
     "execution_count": 6,
     "metadata": {},
     "output_type": "execute_result"
    }
   ],
   "source": [
    "result = pd.read_table('examples/ex2.txt', sep='\\s+') # 정규 표현식으로 처리\n",
    "result"
   ]
  },
  {
   "cell_type": "code",
   "execution_count": 5,
   "metadata": {},
   "outputs": [
    {
     "name": "stdout",
     "output_type": "stream",
     "text": [
      "  something  a   b     c   d message\n",
      "0       one  1   2   3.0   4     NaN\n",
      "1       two  5   6   NaN   8   world\n",
      "2     three  9  10  11.0  12     foo\n"
     ]
    },
    {
     "data": {
      "text/html": [
       "<div>\n",
       "<style scoped>\n",
       "    .dataframe tbody tr th:only-of-type {\n",
       "        vertical-align: middle;\n",
       "    }\n",
       "\n",
       "    .dataframe tbody tr th {\n",
       "        vertical-align: top;\n",
       "    }\n",
       "\n",
       "    .dataframe thead th {\n",
       "        text-align: right;\n",
       "    }\n",
       "</style>\n",
       "<table border=\"1\" class=\"dataframe\">\n",
       "  <thead>\n",
       "    <tr style=\"text-align: right;\">\n",
       "      <th></th>\n",
       "      <th>something</th>\n",
       "      <th>a</th>\n",
       "      <th>b</th>\n",
       "      <th>c</th>\n",
       "      <th>d</th>\n",
       "      <th>message</th>\n",
       "    </tr>\n",
       "  </thead>\n",
       "  <tbody>\n",
       "    <tr>\n",
       "      <th>0</th>\n",
       "      <td>False</td>\n",
       "      <td>False</td>\n",
       "      <td>False</td>\n",
       "      <td>False</td>\n",
       "      <td>False</td>\n",
       "      <td>True</td>\n",
       "    </tr>\n",
       "    <tr>\n",
       "      <th>1</th>\n",
       "      <td>False</td>\n",
       "      <td>False</td>\n",
       "      <td>False</td>\n",
       "      <td>True</td>\n",
       "      <td>False</td>\n",
       "      <td>False</td>\n",
       "    </tr>\n",
       "    <tr>\n",
       "      <th>2</th>\n",
       "      <td>False</td>\n",
       "      <td>False</td>\n",
       "      <td>False</td>\n",
       "      <td>False</td>\n",
       "      <td>False</td>\n",
       "      <td>False</td>\n",
       "    </tr>\n",
       "  </tbody>\n",
       "</table>\n",
       "</div>"
      ],
      "text/plain": [
       "   something      a      b      c      d  message\n",
       "0      False  False  False  False  False     True\n",
       "1      False  False  False   True  False    False\n",
       "2      False  False  False  False  False    False"
      ]
     },
     "execution_count": 5,
     "metadata": {},
     "output_type": "execute_result"
    }
   ],
   "source": [
    "result = pd.read_csv('examples/ex3.csv')\n",
    "print(result)\n",
    "pd.isnull(result) # null 체크"
   ]
  },
  {
   "cell_type": "code",
   "execution_count": 6,
   "metadata": {},
   "outputs": [
    {
     "data": {
      "text/html": [
       "<div>\n",
       "<style scoped>\n",
       "    .dataframe tbody tr th:only-of-type {\n",
       "        vertical-align: middle;\n",
       "    }\n",
       "\n",
       "    .dataframe tbody tr th {\n",
       "        vertical-align: top;\n",
       "    }\n",
       "\n",
       "    .dataframe thead th {\n",
       "        text-align: right;\n",
       "    }\n",
       "</style>\n",
       "<table border=\"1\" class=\"dataframe\">\n",
       "  <thead>\n",
       "    <tr style=\"text-align: right;\">\n",
       "      <th></th>\n",
       "      <th>something</th>\n",
       "      <th>a</th>\n",
       "      <th>b</th>\n",
       "      <th>c</th>\n",
       "      <th>d</th>\n",
       "      <th>message</th>\n",
       "    </tr>\n",
       "  </thead>\n",
       "  <tbody>\n",
       "    <tr>\n",
       "      <th>0</th>\n",
       "      <td>one</td>\n",
       "      <td>1</td>\n",
       "      <td>2</td>\n",
       "      <td>3.0</td>\n",
       "      <td>4</td>\n",
       "      <td>NaN</td>\n",
       "    </tr>\n",
       "    <tr>\n",
       "      <th>1</th>\n",
       "      <td>two</td>\n",
       "      <td>5</td>\n",
       "      <td>6</td>\n",
       "      <td>NaN</td>\n",
       "      <td>8</td>\n",
       "      <td>NaN</td>\n",
       "    </tr>\n",
       "    <tr>\n",
       "      <th>2</th>\n",
       "      <td>three</td>\n",
       "      <td>9</td>\n",
       "      <td>10</td>\n",
       "      <td>11.0</td>\n",
       "      <td>12</td>\n",
       "      <td>foo</td>\n",
       "    </tr>\n",
       "  </tbody>\n",
       "</table>\n",
       "</div>"
      ],
      "text/plain": [
       "  something  a   b     c   d message\n",
       "0       one  1   2   3.0   4     NaN\n",
       "1       two  5   6   NaN   8     NaN\n",
       "2     three  9  10  11.0  12     foo"
      ]
     },
     "execution_count": 6,
     "metadata": {},
     "output_type": "execute_result"
    }
   ],
   "source": [
    "result = pd.read_csv('examples/ex3.csv', na_values=['world']) \n",
    "# na_values : 리스트나 문자열 집합을 받아서 누락된값으로 처리\n",
    "result"
   ]
  },
  {
   "cell_type": "code",
   "execution_count": 7,
   "metadata": {},
   "outputs": [
    {
     "data": {
      "text/html": [
       "<div>\n",
       "<style scoped>\n",
       "    .dataframe tbody tr th:only-of-type {\n",
       "        vertical-align: middle;\n",
       "    }\n",
       "\n",
       "    .dataframe tbody tr th {\n",
       "        vertical-align: top;\n",
       "    }\n",
       "\n",
       "    .dataframe thead th {\n",
       "        text-align: right;\n",
       "    }\n",
       "</style>\n",
       "<table border=\"1\" class=\"dataframe\">\n",
       "  <thead>\n",
       "    <tr style=\"text-align: right;\">\n",
       "      <th></th>\n",
       "      <th>something</th>\n",
       "      <th>a</th>\n",
       "      <th>b</th>\n",
       "      <th>c</th>\n",
       "      <th>d</th>\n",
       "      <th>message</th>\n",
       "    </tr>\n",
       "  </thead>\n",
       "  <tbody>\n",
       "    <tr>\n",
       "      <th>0</th>\n",
       "      <td>one</td>\n",
       "      <td>1</td>\n",
       "      <td>2</td>\n",
       "      <td>3.0</td>\n",
       "      <td>4</td>\n",
       "      <td>NaN</td>\n",
       "    </tr>\n",
       "    <tr>\n",
       "      <th>1</th>\n",
       "      <td>NaN</td>\n",
       "      <td>5</td>\n",
       "      <td>6</td>\n",
       "      <td>NaN</td>\n",
       "      <td>8</td>\n",
       "      <td>world</td>\n",
       "    </tr>\n",
       "    <tr>\n",
       "      <th>2</th>\n",
       "      <td>three</td>\n",
       "      <td>9</td>\n",
       "      <td>10</td>\n",
       "      <td>11.0</td>\n",
       "      <td>12</td>\n",
       "      <td>NaN</td>\n",
       "    </tr>\n",
       "  </tbody>\n",
       "</table>\n",
       "</div>"
      ],
      "text/plain": [
       "  something  a   b     c   d message\n",
       "0       one  1   2   3.0   4     NaN\n",
       "1       NaN  5   6   NaN   8   world\n",
       "2     three  9  10  11.0  12     NaN"
      ]
     },
     "execution_count": 7,
     "metadata": {},
     "output_type": "execute_result"
    }
   ],
   "source": [
    "# 사전형식으로 데이터 값 변경\n",
    "sentinels = {'message': ['foo', 'NA'], 'something': ['two']}\n",
    "pd.read_csv('examples/ex3.csv', na_values=sentinels)\n"
   ]
  },
  {
   "cell_type": "markdown",
   "metadata": {},
   "source": [
    "### 텍스트 파일 부분 읽기"
   ]
  },
  {
   "cell_type": "code",
   "execution_count": 8,
   "metadata": {},
   "outputs": [],
   "source": [
    "pd.options.display.max_rows = 10 # 최대 10개의 데이터만 출력되도록 설정"
   ]
  },
  {
   "cell_type": "code",
   "execution_count": 9,
   "metadata": {},
   "outputs": [
    {
     "data": {
      "text/html": [
       "<div>\n",
       "<style scoped>\n",
       "    .dataframe tbody tr th:only-of-type {\n",
       "        vertical-align: middle;\n",
       "    }\n",
       "\n",
       "    .dataframe tbody tr th {\n",
       "        vertical-align: top;\n",
       "    }\n",
       "\n",
       "    .dataframe thead th {\n",
       "        text-align: right;\n",
       "    }\n",
       "</style>\n",
       "<table border=\"1\" class=\"dataframe\">\n",
       "  <thead>\n",
       "    <tr style=\"text-align: right;\">\n",
       "      <th></th>\n",
       "      <th>one</th>\n",
       "      <th>two</th>\n",
       "      <th>three</th>\n",
       "      <th>four</th>\n",
       "      <th>key</th>\n",
       "    </tr>\n",
       "  </thead>\n",
       "  <tbody>\n",
       "    <tr>\n",
       "      <th>0</th>\n",
       "      <td>0.467976</td>\n",
       "      <td>-0.038649</td>\n",
       "      <td>-0.295344</td>\n",
       "      <td>-1.824726</td>\n",
       "      <td>L</td>\n",
       "    </tr>\n",
       "    <tr>\n",
       "      <th>1</th>\n",
       "      <td>-0.358893</td>\n",
       "      <td>1.404453</td>\n",
       "      <td>0.704965</td>\n",
       "      <td>-0.200638</td>\n",
       "      <td>B</td>\n",
       "    </tr>\n",
       "    <tr>\n",
       "      <th>2</th>\n",
       "      <td>-0.501840</td>\n",
       "      <td>0.659254</td>\n",
       "      <td>-0.421691</td>\n",
       "      <td>-0.057688</td>\n",
       "      <td>G</td>\n",
       "    </tr>\n",
       "    <tr>\n",
       "      <th>3</th>\n",
       "      <td>0.204886</td>\n",
       "      <td>1.074134</td>\n",
       "      <td>1.388361</td>\n",
       "      <td>-0.982404</td>\n",
       "      <td>R</td>\n",
       "    </tr>\n",
       "    <tr>\n",
       "      <th>4</th>\n",
       "      <td>0.354628</td>\n",
       "      <td>-0.133116</td>\n",
       "      <td>0.283763</td>\n",
       "      <td>-0.837063</td>\n",
       "      <td>Q</td>\n",
       "    </tr>\n",
       "    <tr>\n",
       "      <th>...</th>\n",
       "      <td>...</td>\n",
       "      <td>...</td>\n",
       "      <td>...</td>\n",
       "      <td>...</td>\n",
       "      <td>...</td>\n",
       "    </tr>\n",
       "    <tr>\n",
       "      <th>9995</th>\n",
       "      <td>2.311896</td>\n",
       "      <td>-0.417070</td>\n",
       "      <td>-1.409599</td>\n",
       "      <td>-0.515821</td>\n",
       "      <td>L</td>\n",
       "    </tr>\n",
       "    <tr>\n",
       "      <th>9996</th>\n",
       "      <td>-0.479893</td>\n",
       "      <td>-0.650419</td>\n",
       "      <td>0.745152</td>\n",
       "      <td>-0.646038</td>\n",
       "      <td>E</td>\n",
       "    </tr>\n",
       "    <tr>\n",
       "      <th>9997</th>\n",
       "      <td>0.523331</td>\n",
       "      <td>0.787112</td>\n",
       "      <td>0.486066</td>\n",
       "      <td>1.093156</td>\n",
       "      <td>K</td>\n",
       "    </tr>\n",
       "    <tr>\n",
       "      <th>9998</th>\n",
       "      <td>-0.362559</td>\n",
       "      <td>0.598894</td>\n",
       "      <td>-1.843201</td>\n",
       "      <td>0.887292</td>\n",
       "      <td>G</td>\n",
       "    </tr>\n",
       "    <tr>\n",
       "      <th>9999</th>\n",
       "      <td>-0.096376</td>\n",
       "      <td>-1.012999</td>\n",
       "      <td>-0.657431</td>\n",
       "      <td>-0.573315</td>\n",
       "      <td>0</td>\n",
       "    </tr>\n",
       "  </tbody>\n",
       "</table>\n",
       "<p>10000 rows × 5 columns</p>\n",
       "</div>"
      ],
      "text/plain": [
       "           one       two     three      four key\n",
       "0     0.467976 -0.038649 -0.295344 -1.824726   L\n",
       "1    -0.358893  1.404453  0.704965 -0.200638   B\n",
       "2    -0.501840  0.659254 -0.421691 -0.057688   G\n",
       "3     0.204886  1.074134  1.388361 -0.982404   R\n",
       "4     0.354628 -0.133116  0.283763 -0.837063   Q\n",
       "...        ...       ...       ...       ...  ..\n",
       "9995  2.311896 -0.417070 -1.409599 -0.515821   L\n",
       "9996 -0.479893 -0.650419  0.745152 -0.646038   E\n",
       "9997  0.523331  0.787112  0.486066  1.093156   K\n",
       "9998 -0.362559  0.598894 -1.843201  0.887292   G\n",
       "9999 -0.096376 -1.012999 -0.657431 -0.573315   0\n",
       "\n",
       "[10000 rows x 5 columns]"
      ]
     },
     "execution_count": 9,
     "metadata": {},
     "output_type": "execute_result"
    }
   ],
   "source": [
    "result = pd.read_csv('examples/ex4.csv')\n",
    "result"
   ]
  },
  {
   "cell_type": "code",
   "execution_count": 10,
   "metadata": {},
   "outputs": [
    {
     "data": {
      "text/html": [
       "<div>\n",
       "<style scoped>\n",
       "    .dataframe tbody tr th:only-of-type {\n",
       "        vertical-align: middle;\n",
       "    }\n",
       "\n",
       "    .dataframe tbody tr th {\n",
       "        vertical-align: top;\n",
       "    }\n",
       "\n",
       "    .dataframe thead th {\n",
       "        text-align: right;\n",
       "    }\n",
       "</style>\n",
       "<table border=\"1\" class=\"dataframe\">\n",
       "  <thead>\n",
       "    <tr style=\"text-align: right;\">\n",
       "      <th></th>\n",
       "      <th>one</th>\n",
       "      <th>two</th>\n",
       "      <th>three</th>\n",
       "      <th>four</th>\n",
       "      <th>key</th>\n",
       "    </tr>\n",
       "  </thead>\n",
       "  <tbody>\n",
       "    <tr>\n",
       "      <th>0</th>\n",
       "      <td>0.467976</td>\n",
       "      <td>-0.038649</td>\n",
       "      <td>-0.295344</td>\n",
       "      <td>-1.824726</td>\n",
       "      <td>L</td>\n",
       "    </tr>\n",
       "    <tr>\n",
       "      <th>1</th>\n",
       "      <td>-0.358893</td>\n",
       "      <td>1.404453</td>\n",
       "      <td>0.704965</td>\n",
       "      <td>-0.200638</td>\n",
       "      <td>B</td>\n",
       "    </tr>\n",
       "    <tr>\n",
       "      <th>2</th>\n",
       "      <td>-0.501840</td>\n",
       "      <td>0.659254</td>\n",
       "      <td>-0.421691</td>\n",
       "      <td>-0.057688</td>\n",
       "      <td>G</td>\n",
       "    </tr>\n",
       "    <tr>\n",
       "      <th>3</th>\n",
       "      <td>0.204886</td>\n",
       "      <td>1.074134</td>\n",
       "      <td>1.388361</td>\n",
       "      <td>-0.982404</td>\n",
       "      <td>R</td>\n",
       "    </tr>\n",
       "    <tr>\n",
       "      <th>4</th>\n",
       "      <td>0.354628</td>\n",
       "      <td>-0.133116</td>\n",
       "      <td>0.283763</td>\n",
       "      <td>-0.837063</td>\n",
       "      <td>Q</td>\n",
       "    </tr>\n",
       "  </tbody>\n",
       "</table>\n",
       "</div>"
      ],
      "text/plain": [
       "        one       two     three      four key\n",
       "0  0.467976 -0.038649 -0.295344 -1.824726   L\n",
       "1 -0.358893  1.404453  0.704965 -0.200638   B\n",
       "2 -0.501840  0.659254 -0.421691 -0.057688   G\n",
       "3  0.204886  1.074134  1.388361 -0.982404   R\n",
       "4  0.354628 -0.133116  0.283763 -0.837063   Q"
      ]
     },
     "execution_count": 10,
     "metadata": {},
     "output_type": "execute_result"
    }
   ],
   "source": [
    "pd.read_csv('examples/ex4.csv', nrows=5)"
   ]
  },
  {
   "cell_type": "markdown",
   "metadata": {},
   "source": [
    "### 데이터를 텍스트 형식으로 저장"
   ]
  },
  {
   "cell_type": "code",
   "execution_count": 11,
   "metadata": {},
   "outputs": [
    {
     "data": {
      "text/html": [
       "<div>\n",
       "<style scoped>\n",
       "    .dataframe tbody tr th:only-of-type {\n",
       "        vertical-align: middle;\n",
       "    }\n",
       "\n",
       "    .dataframe tbody tr th {\n",
       "        vertical-align: top;\n",
       "    }\n",
       "\n",
       "    .dataframe thead th {\n",
       "        text-align: right;\n",
       "    }\n",
       "</style>\n",
       "<table border=\"1\" class=\"dataframe\">\n",
       "  <thead>\n",
       "    <tr style=\"text-align: right;\">\n",
       "      <th></th>\n",
       "      <th>이름</th>\n",
       "      <th>전화번호</th>\n",
       "      <th>주소</th>\n",
       "    </tr>\n",
       "  </thead>\n",
       "  <tbody>\n",
       "    <tr>\n",
       "      <th>0</th>\n",
       "      <td>kim</td>\n",
       "      <td>010-1111-1111</td>\n",
       "      <td>seoul</td>\n",
       "    </tr>\n",
       "    <tr>\n",
       "      <th>1</th>\n",
       "      <td>park</td>\n",
       "      <td>010-1111-2222</td>\n",
       "      <td>seoul</td>\n",
       "    </tr>\n",
       "    <tr>\n",
       "      <th>2</th>\n",
       "      <td>mok</td>\n",
       "      <td>010-1111-3333</td>\n",
       "      <td>incheon</td>\n",
       "    </tr>\n",
       "  </tbody>\n",
       "</table>\n",
       "</div>"
      ],
      "text/plain": [
       "     이름           전화번호       주소\n",
       "0   kim  010-1111-1111    seoul\n",
       "1  park  010-1111-2222    seoul\n",
       "2   mok  010-1111-3333  incheon"
      ]
     },
     "execution_count": 11,
     "metadata": {},
     "output_type": "execute_result"
    }
   ],
   "source": [
    "data = pd.read_csv('examples/ex1.csv')\n",
    "data"
   ]
  },
  {
   "cell_type": "code",
   "execution_count": 12,
   "metadata": {},
   "outputs": [],
   "source": [
    "data.to_csv('examples/out.csv') # to_csv() : csv 형식으로 저장"
   ]
  },
  {
   "cell_type": "code",
   "execution_count": 13,
   "metadata": {},
   "outputs": [
    {
     "name": "stdout",
     "output_type": "stream",
     "text": [
      "|이름|전화번호|주소\r\n",
      "0|kim|010-1111-1111|seoul\r\n",
      "1|park|010-1111-2222|seoul\r\n",
      "2|mok|010-1111-3333|incheon\r\n"
     ]
    }
   ],
   "source": [
    "import sys\n",
    "data.to_csv(sys.stdout, sep='|') # 구분자를 '|'로 지정"
   ]
  },
  {
   "cell_type": "code",
   "execution_count": 14,
   "metadata": {
    "scrolled": true
   },
   "outputs": [
    {
     "name": "stdout",
     "output_type": "stream",
     "text": [
      ",이름,전화번호,주소\r\n",
      "0,kim,010-1111-1111,seoul\r\n",
      "1,park,010-1111-2222,seoul\r\n",
      "2,mok,010-1111-3333,incheon\r\n"
     ]
    }
   ],
   "source": [
    "data.to_csv(sys.stdout, na_rep='NULL') # 누락된 값을 NULL로 지정"
   ]
  },
  {
   "cell_type": "code",
   "execution_count": 15,
   "metadata": {},
   "outputs": [
    {
     "name": "stdout",
     "output_type": "stream",
     "text": [
      "2020-01-01    0\n",
      "2020-01-02    1\n",
      "2020-01-03    2\n",
      "2020-01-04    3\n",
      "2020-01-05    4\n",
      "2020-01-06    5\n",
      "2020-01-07    6\n",
      "Freq: D, dtype: int32\n"
     ]
    }
   ],
   "source": [
    "# 날짜 기간 데이터 csv로 저장\n",
    "dates = pd.date_range('1/1/2020', periods=7)\n",
    "ts = pd.Series(np.arange(7), index=dates)\n",
    "print(ts)\n",
    "ts.to_csv('examples/tseries.csv')"
   ]
  },
  {
   "cell_type": "markdown",
   "metadata": {},
   "source": [
    "### JSON 데이터\n",
    "- JSON(JavaScript Object Notation) : 웹브라우저와 다른 애플리케이션이 HTTP 요청으로 데이터를 보낼때 널리 사용되는 표준 파일 형식\n",
    "- CSV보다 유연하며, 웹 데이터를 가져올 경우 유용\n",
    "- 기본 자료형은 객체(사전), 배열(리스트), 문자열, 숫자, 논리형, 널 "
   ]
  },
  {
   "cell_type": "code",
   "execution_count": 16,
   "metadata": {},
   "outputs": [
    {
     "data": {
      "text/plain": [
       "str"
      ]
     },
     "execution_count": 16,
     "metadata": {},
     "output_type": "execute_result"
    }
   ],
   "source": [
    "obj = \"\"\"\n",
    "{\"name\": \"mok\",\n",
    " \"places_lived\": [\"Korea\", \"USA\", \"Germany\"],\n",
    " \"pet\": null,\n",
    " \"siblings\": [{\"name\": \"Jin\", \"age\": 30, \"pets\": [\"choco\", \"badook\"]},\n",
    "              {\"name\": \"Hyuk\", \"age\": 32,\n",
    "               \"pets\": [\"back-gu\", \"jearong\"]}]\n",
    "}\n",
    "\"\"\"\n",
    "type(obj)"
   ]
  },
  {
   "cell_type": "code",
   "execution_count": 17,
   "metadata": {},
   "outputs": [
    {
     "data": {
      "text/plain": [
       "{'name': 'mok',\n",
       " 'places_lived': ['Korea', 'USA', 'Germany'],\n",
       " 'pet': None,\n",
       " 'siblings': [{'name': 'Jin', 'age': 30, 'pets': ['choco', 'badook']},\n",
       "  {'name': 'Hyuk', 'age': 32, 'pets': ['back-gu', 'jearong']}]}"
      ]
     },
     "execution_count": 17,
     "metadata": {},
     "output_type": "execute_result"
    }
   ],
   "source": [
    "import json\n",
    "result = json.loads(obj) # json 데이터 로드\n",
    "result"
   ]
  },
  {
   "cell_type": "code",
   "execution_count": 18,
   "metadata": {},
   "outputs": [],
   "source": [
    "asjson = json.dumps(result) # 파이썬 객체를 json으로 변환"
   ]
  },
  {
   "cell_type": "code",
   "execution_count": 8,
   "metadata": {},
   "outputs": [
    {
     "ename": "KeyError",
     "evalue": "'siblings'",
     "output_type": "error",
     "traceback": [
      "\u001b[1;31m---------------------------------------------------------------------------\u001b[0m",
      "\u001b[1;31mKeyError\u001b[0m                                  Traceback (most recent call last)",
      "File \u001b[1;32m~\\anaconda3\\Lib\\site-packages\\pandas\\core\\indexes\\base.py:3791\u001b[0m, in \u001b[0;36mIndex.get_loc\u001b[1;34m(self, key)\u001b[0m\n\u001b[0;32m   3790\u001b[0m \u001b[38;5;28;01mtry\u001b[39;00m:\n\u001b[1;32m-> 3791\u001b[0m     \u001b[38;5;28;01mreturn\u001b[39;00m \u001b[38;5;28mself\u001b[39m\u001b[38;5;241m.\u001b[39m_engine\u001b[38;5;241m.\u001b[39mget_loc(casted_key)\n\u001b[0;32m   3792\u001b[0m \u001b[38;5;28;01mexcept\u001b[39;00m \u001b[38;5;167;01mKeyError\u001b[39;00m \u001b[38;5;28;01mas\u001b[39;00m err:\n",
      "File \u001b[1;32mindex.pyx:152\u001b[0m, in \u001b[0;36mpandas._libs.index.IndexEngine.get_loc\u001b[1;34m()\u001b[0m\n",
      "File \u001b[1;32mindex.pyx:181\u001b[0m, in \u001b[0;36mpandas._libs.index.IndexEngine.get_loc\u001b[1;34m()\u001b[0m\n",
      "File \u001b[1;32mpandas\\_libs\\hashtable_class_helper.pxi:7080\u001b[0m, in \u001b[0;36mpandas._libs.hashtable.PyObjectHashTable.get_item\u001b[1;34m()\u001b[0m\n",
      "File \u001b[1;32mpandas\\_libs\\hashtable_class_helper.pxi:7088\u001b[0m, in \u001b[0;36mpandas._libs.hashtable.PyObjectHashTable.get_item\u001b[1;34m()\u001b[0m\n",
      "\u001b[1;31mKeyError\u001b[0m: 'siblings'",
      "\nThe above exception was the direct cause of the following exception:\n",
      "\u001b[1;31mKeyError\u001b[0m                                  Traceback (most recent call last)",
      "Cell \u001b[1;32mIn[8], line 1\u001b[0m\n\u001b[1;32m----> 1\u001b[0m siblings \u001b[38;5;241m=\u001b[39m pd\u001b[38;5;241m.\u001b[39mDataFrame(result[\u001b[38;5;124m'\u001b[39m\u001b[38;5;124msiblings\u001b[39m\u001b[38;5;124m'\u001b[39m], columns\u001b[38;5;241m=\u001b[39m[\u001b[38;5;124m'\u001b[39m\u001b[38;5;124mname\u001b[39m\u001b[38;5;124m'\u001b[39m, \u001b[38;5;124m'\u001b[39m\u001b[38;5;124mage\u001b[39m\u001b[38;5;124m'\u001b[39m])\n\u001b[0;32m      2\u001b[0m siblings\n",
      "File \u001b[1;32m~\\anaconda3\\Lib\\site-packages\\pandas\\core\\frame.py:3893\u001b[0m, in \u001b[0;36mDataFrame.__getitem__\u001b[1;34m(self, key)\u001b[0m\n\u001b[0;32m   3891\u001b[0m \u001b[38;5;28;01mif\u001b[39;00m \u001b[38;5;28mself\u001b[39m\u001b[38;5;241m.\u001b[39mcolumns\u001b[38;5;241m.\u001b[39mnlevels \u001b[38;5;241m>\u001b[39m \u001b[38;5;241m1\u001b[39m:\n\u001b[0;32m   3892\u001b[0m     \u001b[38;5;28;01mreturn\u001b[39;00m \u001b[38;5;28mself\u001b[39m\u001b[38;5;241m.\u001b[39m_getitem_multilevel(key)\n\u001b[1;32m-> 3893\u001b[0m indexer \u001b[38;5;241m=\u001b[39m \u001b[38;5;28mself\u001b[39m\u001b[38;5;241m.\u001b[39mcolumns\u001b[38;5;241m.\u001b[39mget_loc(key)\n\u001b[0;32m   3894\u001b[0m \u001b[38;5;28;01mif\u001b[39;00m is_integer(indexer):\n\u001b[0;32m   3895\u001b[0m     indexer \u001b[38;5;241m=\u001b[39m [indexer]\n",
      "File \u001b[1;32m~\\anaconda3\\Lib\\site-packages\\pandas\\core\\indexes\\base.py:3798\u001b[0m, in \u001b[0;36mIndex.get_loc\u001b[1;34m(self, key)\u001b[0m\n\u001b[0;32m   3793\u001b[0m     \u001b[38;5;28;01mif\u001b[39;00m \u001b[38;5;28misinstance\u001b[39m(casted_key, \u001b[38;5;28mslice\u001b[39m) \u001b[38;5;129;01mor\u001b[39;00m (\n\u001b[0;32m   3794\u001b[0m         \u001b[38;5;28misinstance\u001b[39m(casted_key, abc\u001b[38;5;241m.\u001b[39mIterable)\n\u001b[0;32m   3795\u001b[0m         \u001b[38;5;129;01mand\u001b[39;00m \u001b[38;5;28many\u001b[39m(\u001b[38;5;28misinstance\u001b[39m(x, \u001b[38;5;28mslice\u001b[39m) \u001b[38;5;28;01mfor\u001b[39;00m x \u001b[38;5;129;01min\u001b[39;00m casted_key)\n\u001b[0;32m   3796\u001b[0m     ):\n\u001b[0;32m   3797\u001b[0m         \u001b[38;5;28;01mraise\u001b[39;00m InvalidIndexError(key)\n\u001b[1;32m-> 3798\u001b[0m     \u001b[38;5;28;01mraise\u001b[39;00m \u001b[38;5;167;01mKeyError\u001b[39;00m(key) \u001b[38;5;28;01mfrom\u001b[39;00m \u001b[38;5;21;01merr\u001b[39;00m\n\u001b[0;32m   3799\u001b[0m \u001b[38;5;28;01mexcept\u001b[39;00m \u001b[38;5;167;01mTypeError\u001b[39;00m:\n\u001b[0;32m   3800\u001b[0m     \u001b[38;5;66;03m# If we have a listlike key, _check_indexing_error will raise\u001b[39;00m\n\u001b[0;32m   3801\u001b[0m     \u001b[38;5;66;03m#  InvalidIndexError. Otherwise we fall through and re-raise\u001b[39;00m\n\u001b[0;32m   3802\u001b[0m     \u001b[38;5;66;03m#  the TypeError.\u001b[39;00m\n\u001b[0;32m   3803\u001b[0m     \u001b[38;5;28mself\u001b[39m\u001b[38;5;241m.\u001b[39m_check_indexing_error(key)\n",
      "\u001b[1;31mKeyError\u001b[0m: 'siblings'"
     ]
    }
   ],
   "source": [
    "siblings = pd.DataFrame(result['siblings'], columns=['name', 'age'])\n",
    "siblings"
   ]
  },
  {
   "cell_type": "code",
   "execution_count": 20,
   "metadata": {
    "scrolled": true
   },
   "outputs": [
    {
     "data": {
      "text/html": [
       "<div>\n",
       "<style scoped>\n",
       "    .dataframe tbody tr th:only-of-type {\n",
       "        vertical-align: middle;\n",
       "    }\n",
       "\n",
       "    .dataframe tbody tr th {\n",
       "        vertical-align: top;\n",
       "    }\n",
       "\n",
       "    .dataframe thead th {\n",
       "        text-align: right;\n",
       "    }\n",
       "</style>\n",
       "<table border=\"1\" class=\"dataframe\">\n",
       "  <thead>\n",
       "    <tr style=\"text-align: right;\">\n",
       "      <th></th>\n",
       "      <th>a</th>\n",
       "      <th>b</th>\n",
       "      <th>c</th>\n",
       "    </tr>\n",
       "  </thead>\n",
       "  <tbody>\n",
       "    <tr>\n",
       "      <th>0</th>\n",
       "      <td>1</td>\n",
       "      <td>2</td>\n",
       "      <td>3</td>\n",
       "    </tr>\n",
       "    <tr>\n",
       "      <th>1</th>\n",
       "      <td>4</td>\n",
       "      <td>5</td>\n",
       "      <td>6</td>\n",
       "    </tr>\n",
       "    <tr>\n",
       "      <th>2</th>\n",
       "      <td>7</td>\n",
       "      <td>8</td>\n",
       "      <td>9</td>\n",
       "    </tr>\n",
       "  </tbody>\n",
       "</table>\n",
       "</div>"
      ],
      "text/plain": [
       "   a  b  c\n",
       "0  1  2  3\n",
       "1  4  5  6\n",
       "2  7  8  9"
      ]
     },
     "execution_count": 20,
     "metadata": {},
     "output_type": "execute_result"
    }
   ],
   "source": [
    "data = pd.read_json('examples/example.json')\n",
    "data"
   ]
  },
  {
   "cell_type": "markdown",
   "metadata": {},
   "source": [
    "### XML과 HTML: 웹 스크래핑\n",
    "- 웹 스크래핑 : 웹 페이지의 데이터를 스크랩\n",
    "- lxml : HTML과 XML 처리에 효율적인 라이브러리"
   ]
  },
  {
   "cell_type": "code",
   "execution_count": 9,
   "metadata": {},
   "outputs": [
    {
     "name": "stdout",
     "output_type": "stream",
     "text": [
      "Requirement already satisfied: beautifulsoup4 in c:\\users\\sdedu\\anaconda3\\lib\\site-packages (4.12.2)\n",
      "Requirement already satisfied: html5lib in c:\\users\\sdedu\\anaconda3\\lib\\site-packages (1.1)\n",
      "Requirement already satisfied: soupsieve>1.2 in c:\\users\\sdedu\\anaconda3\\lib\\site-packages (from beautifulsoup4) (2.5)\n",
      "Requirement already satisfied: six>=1.9 in c:\\users\\sdedu\\anaconda3\\lib\\site-packages (from html5lib) (1.16.0)\n",
      "Requirement already satisfied: webencodings in c:\\users\\sdedu\\anaconda3\\lib\\site-packages (from html5lib) (0.5.1)\n"
     ]
    }
   ],
   "source": [
    "!pip install beautifulsoup4 html5lib"
   ]
  },
  {
   "cell_type": "code",
   "execution_count": 12,
   "metadata": {},
   "outputs": [
    {
     "name": "stdout",
     "output_type": "stream",
     "text": [
      "1\n"
     ]
    },
    {
     "data": {
      "text/html": [
       "<div>\n",
       "<style scoped>\n",
       "    .dataframe tbody tr th:only-of-type {\n",
       "        vertical-align: middle;\n",
       "    }\n",
       "\n",
       "    .dataframe tbody tr th {\n",
       "        vertical-align: top;\n",
       "    }\n",
       "\n",
       "    .dataframe thead th {\n",
       "        text-align: right;\n",
       "    }\n",
       "</style>\n",
       "<table border=\"1\" class=\"dataframe\">\n",
       "  <thead>\n",
       "    <tr style=\"text-align: right;\">\n",
       "      <th></th>\n",
       "      <th>예보요소</th>\n",
       "      <th>평년(오늘)</th>\n",
       "      <th>어제(04일)</th>\n",
       "      <th>오늘(05일)</th>\n",
       "      <th>내일(06일)</th>\n",
       "      <th>모레(07일)</th>\n",
       "    </tr>\n",
       "  </thead>\n",
       "  <tbody>\n",
       "    <tr>\n",
       "      <th>0</th>\n",
       "      <td>최저기온 (℃)</td>\n",
       "      <td>13.7 ~ 17.6</td>\n",
       "      <td>8.4 ~ 18.4</td>\n",
       "      <td>-</td>\n",
       "      <td>13 ~ 19</td>\n",
       "      <td>13 ~ 19</td>\n",
       "    </tr>\n",
       "    <tr>\n",
       "      <th>1</th>\n",
       "      <td>최고기온 (℃)</td>\n",
       "      <td>22.3 ~ 28.4</td>\n",
       "      <td>20.6 ~ 29.3</td>\n",
       "      <td>23 ~ 31</td>\n",
       "      <td>22 ~ 31</td>\n",
       "      <td>24 ~ 30</td>\n",
       "    </tr>\n",
       "    <tr>\n",
       "      <th>2</th>\n",
       "      <td>파고(m)</td>\n",
       "      <td>서해 앞바다/안쪽먼바다/바깥먼바다</td>\n",
       "      <td>서해 앞바다/안쪽먼바다/바깥먼바다</td>\n",
       "      <td>0.5 / 0.5~1.0 / 0.5~1.0</td>\n",
       "      <td>0.5 / 0.5~1.0 / 0.5~1.0</td>\n",
       "      <td>0.5 / 0.5~1.0 / 0.5~1.0</td>\n",
       "    </tr>\n",
       "    <tr>\n",
       "      <th>3</th>\n",
       "      <td>파고(m)</td>\n",
       "      <td>남해 앞바다/안쪽먼바다/바깥먼바다</td>\n",
       "      <td>남해 앞바다/안쪽먼바다/바깥먼바다</td>\n",
       "      <td>0.5~1.0 / 0.5~1.5 / 0.5~1.5</td>\n",
       "      <td>0.5~1.0 / 0.5~1.5 / 0.5~1.5</td>\n",
       "      <td>0.5~1.0 / 0.5~1.5 / 0.5~1.5</td>\n",
       "    </tr>\n",
       "    <tr>\n",
       "      <th>4</th>\n",
       "      <td>파고(m)</td>\n",
       "      <td>동해 앞바다/안쪽먼바다/바깥먼바다</td>\n",
       "      <td>동해 앞바다/안쪽먼바다/바깥먼바다</td>\n",
       "      <td>0.5~1.0 / 0.5~1.5 / 0.5~1.5</td>\n",
       "      <td>0.5~1.0 / 0.5~1.5 / 0.5~1.5</td>\n",
       "      <td>0.5~1.0 / 0.5~1.5 / 0.5~1.5</td>\n",
       "    </tr>\n",
       "  </tbody>\n",
       "</table>\n",
       "</div>"
      ],
      "text/plain": [
       "       예보요소              평년(오늘)             어제(04일)  \\\n",
       "0  최저기온 (℃)         13.7 ~ 17.6          8.4 ~ 18.4   \n",
       "1  최고기온 (℃)         22.3 ~ 28.4         20.6 ~ 29.3   \n",
       "2     파고(m)  서해 앞바다/안쪽먼바다/바깥먼바다  서해 앞바다/안쪽먼바다/바깥먼바다   \n",
       "3     파고(m)  남해 앞바다/안쪽먼바다/바깥먼바다  남해 앞바다/안쪽먼바다/바깥먼바다   \n",
       "4     파고(m)  동해 앞바다/안쪽먼바다/바깥먼바다  동해 앞바다/안쪽먼바다/바깥먼바다   \n",
       "\n",
       "                       오늘(05일)                      내일(06일)  \\\n",
       "0                            -                      13 ~ 19   \n",
       "1                      23 ~ 31                      22 ~ 31   \n",
       "2      0.5 / 0.5~1.0 / 0.5~1.0      0.5 / 0.5~1.0 / 0.5~1.0   \n",
       "3  0.5~1.0 / 0.5~1.5 / 0.5~1.5  0.5~1.0 / 0.5~1.5 / 0.5~1.5   \n",
       "4  0.5~1.0 / 0.5~1.5 / 0.5~1.5  0.5~1.0 / 0.5~1.5 / 0.5~1.5   \n",
       "\n",
       "                       모레(07일)  \n",
       "0                      13 ~ 19  \n",
       "1                      24 ~ 30  \n",
       "2      0.5 / 0.5~1.0 / 0.5~1.0  \n",
       "3  0.5~1.0 / 0.5~1.5 / 0.5~1.5  \n",
       "4  0.5~1.0 / 0.5~1.5 / 0.5~1.5  "
      ]
     },
     "execution_count": 12,
     "metadata": {},
     "output_type": "execute_result"
    }
   ],
   "source": [
    "# read_html() : html에서 table 태그를 찾아 데이터를 가져옴\n",
    "tables = pd.read_html('https://www.weather.go.kr/w/weather/forecast/short-term.do', encoding='UTF-8')\n",
    "print(len(tables))\n",
    "weather = tables[0]\n",
    "weather.head()"
   ]
  },
  {
   "cell_type": "markdown",
   "metadata": {},
   "source": [
    "### 마이크로소프트 엑셀 파일에서 데이터 읽어오기\n",
    "- 2003 이후 버전의 엑셀 데이터를 읽어올 수 있음"
   ]
  },
  {
   "cell_type": "code",
   "execution_count": 37,
   "metadata": {},
   "outputs": [
    {
     "data": {
      "text/plain": [
       "<pandas.io.excel._base.ExcelFile at 0x1a6cd3f8400>"
      ]
     },
     "execution_count": 37,
     "metadata": {},
     "output_type": "execute_result"
    }
   ],
   "source": [
    "xlsx = pd.ExcelFile('examples/file1.xlsx') # 엑셀 파일 객체 저장\n",
    "xlsx"
   ]
  },
  {
   "cell_type": "code",
   "execution_count": 38,
   "metadata": {},
   "outputs": [
    {
     "data": {
      "text/html": [
       "<div>\n",
       "<style scoped>\n",
       "    .dataframe tbody tr th:only-of-type {\n",
       "        vertical-align: middle;\n",
       "    }\n",
       "\n",
       "    .dataframe tbody tr th {\n",
       "        vertical-align: top;\n",
       "    }\n",
       "\n",
       "    .dataframe thead th {\n",
       "        text-align: right;\n",
       "    }\n",
       "</style>\n",
       "<table border=\"1\" class=\"dataframe\">\n",
       "  <thead>\n",
       "    <tr style=\"text-align: right;\">\n",
       "      <th></th>\n",
       "      <th>Unnamed: 0</th>\n",
       "      <th>a</th>\n",
       "      <th>b</th>\n",
       "      <th>c</th>\n",
       "      <th>d</th>\n",
       "      <th>message</th>\n",
       "    </tr>\n",
       "  </thead>\n",
       "  <tbody>\n",
       "    <tr>\n",
       "      <th>0</th>\n",
       "      <td>0</td>\n",
       "      <td>1</td>\n",
       "      <td>2</td>\n",
       "      <td>3</td>\n",
       "      <td>4</td>\n",
       "      <td>hello</td>\n",
       "    </tr>\n",
       "    <tr>\n",
       "      <th>1</th>\n",
       "      <td>1</td>\n",
       "      <td>5</td>\n",
       "      <td>6</td>\n",
       "      <td>7</td>\n",
       "      <td>8</td>\n",
       "      <td>world</td>\n",
       "    </tr>\n",
       "    <tr>\n",
       "      <th>2</th>\n",
       "      <td>2</td>\n",
       "      <td>9</td>\n",
       "      <td>10</td>\n",
       "      <td>11</td>\n",
       "      <td>12</td>\n",
       "      <td>foo</td>\n",
       "    </tr>\n",
       "  </tbody>\n",
       "</table>\n",
       "</div>"
      ],
      "text/plain": [
       "   Unnamed: 0  a   b   c   d message\n",
       "0           0  1   2   3   4   hello\n",
       "1           1  5   6   7   8   world\n",
       "2           2  9  10  11  12     foo"
      ]
     },
     "execution_count": 38,
     "metadata": {},
     "output_type": "execute_result"
    }
   ],
   "source": [
    "pd.read_excel(xlsx, 'Sheet1')  # Sheet1 페이지 가져오기"
   ]
  },
  {
   "cell_type": "code",
   "execution_count": 39,
   "metadata": {},
   "outputs": [
    {
     "data": {
      "text/html": [
       "<div>\n",
       "<style scoped>\n",
       "    .dataframe tbody tr th:only-of-type {\n",
       "        vertical-align: middle;\n",
       "    }\n",
       "\n",
       "    .dataframe tbody tr th {\n",
       "        vertical-align: top;\n",
       "    }\n",
       "\n",
       "    .dataframe thead th {\n",
       "        text-align: right;\n",
       "    }\n",
       "</style>\n",
       "<table border=\"1\" class=\"dataframe\">\n",
       "  <thead>\n",
       "    <tr style=\"text-align: right;\">\n",
       "      <th></th>\n",
       "      <th>Unnamed: 0</th>\n",
       "      <th>a</th>\n",
       "      <th>b</th>\n",
       "      <th>c</th>\n",
       "      <th>d</th>\n",
       "      <th>message</th>\n",
       "    </tr>\n",
       "  </thead>\n",
       "  <tbody>\n",
       "    <tr>\n",
       "      <th>0</th>\n",
       "      <td>0</td>\n",
       "      <td>1</td>\n",
       "      <td>2</td>\n",
       "      <td>3</td>\n",
       "      <td>4</td>\n",
       "      <td>hello</td>\n",
       "    </tr>\n",
       "    <tr>\n",
       "      <th>1</th>\n",
       "      <td>1</td>\n",
       "      <td>5</td>\n",
       "      <td>6</td>\n",
       "      <td>7</td>\n",
       "      <td>8</td>\n",
       "      <td>world</td>\n",
       "    </tr>\n",
       "    <tr>\n",
       "      <th>2</th>\n",
       "      <td>2</td>\n",
       "      <td>9</td>\n",
       "      <td>10</td>\n",
       "      <td>11</td>\n",
       "      <td>12</td>\n",
       "      <td>foo</td>\n",
       "    </tr>\n",
       "  </tbody>\n",
       "</table>\n",
       "</div>"
      ],
      "text/plain": [
       "   Unnamed: 0  a   b   c   d message\n",
       "0           0  1   2   3   4   hello\n",
       "1           1  5   6   7   8   world\n",
       "2           2  9  10  11  12     foo"
      ]
     },
     "execution_count": 39,
     "metadata": {},
     "output_type": "execute_result"
    }
   ],
   "source": [
    "frame = pd.read_excel('examples/file1.xlsx', 'Sheet1')\n",
    "frame"
   ]
  },
  {
   "cell_type": "code",
   "execution_count": 40,
   "metadata": {},
   "outputs": [
    {
     "name": "stderr",
     "output_type": "stream",
     "text": [
      "C:\\Users\\goott\\AppData\\Local\\Temp\\ipykernel_16652\\1369464048.py:3: FutureWarning: save is not part of the public API, usage can give unexpected results and will be removed in a future version\n",
      "  writer.save() # 저장\n"
     ]
    }
   ],
   "source": [
    "writer = pd.ExcelWriter('examples/file2.xlsx')\n",
    "frame.to_excel(writer, 'Sheet1') # 엑셀로 작성\n",
    "writer.save() # 저장"
   ]
  },
  {
   "cell_type": "code",
   "execution_count": 42,
   "metadata": {},
   "outputs": [],
   "source": [
    "frame.to_excel('examples/file2.xlsx')"
   ]
  },
  {
   "cell_type": "markdown",
   "metadata": {
    "jp-MarkdownHeadingCollapsed": true
   },
   "source": [
    "## 웹 API와 함께 사용하기\n",
    "- request 패키지를 사용하여 데이터 처리\n",
    "- https://www.data.go.kr/\n"
   ]
  },
  {
   "cell_type": "code",
   "execution_count": 43,
   "metadata": {},
   "outputs": [
    {
     "data": {
      "text/plain": [
       "<Response [200]>"
      ]
     },
     "execution_count": 43,
     "metadata": {},
     "output_type": "execute_result"
    }
   ],
   "source": [
    "import requests \n",
    "url = 'https://api.github.com/repos/pandas-dev/pandas/issues'\n",
    "resp = requests.get(url)\n",
    "resp"
   ]
  },
  {
   "cell_type": "code",
   "execution_count": 44,
   "metadata": {},
   "outputs": [
    {
     "name": "stdout",
     "output_type": "stream",
     "text": [
      "[{'url': 'https://api.github.com/repos/pandas-dev/pandas/issues/53788', 'repository_url': 'https://api.github.com/repos/pandas-dev/pandas', 'labels_url': 'https://api.github.com/repos/pandas-dev/pandas/issues/53788/labels{/name}', 'comments_url': 'https://api.github.com/repos/pandas-dev/pandas/issues/53788/comments', 'events_url': 'https://api.github.com/repos/pandas-dev/pandas/issues/53788/events', 'html_url': 'https://github.com/pandas-dev/pandas/pull/53788', 'id': 1768846712, 'node_id': 'PR_kwDOAA0YD85TnL0s', 'number': 53788, 'title': 'DOC: fix Sphinx parallel build error caused for `doc/source/getting_started/intro_tutorials/04_plotting.rst`', 'user': {'login': 'tpaxman', 'id': 39451402, 'node_id': 'MDQ6VXNlcjM5NDUxNDAy', 'avatar_url': 'https://avatars.githubusercontent.com/u/39451402?v=4', 'gravatar_id': '', 'url': 'https://api.github.com/users/tpaxman', 'html_url': 'https://github.com/tpaxman', 'followers_url': 'https://api.github.com/users/tpaxman/followers', 'following_url': 'https://api.github.com/users/tpaxman/following{/other_user}', 'gists_url': 'https://api.github.com/users/tpaxman/gists{/gist_id}', 'starred_url': 'https://api.github.com/users/tpaxman/starred{/owner}{/repo}', 'subscriptions_url': 'https://api.github.com/users/tpaxman/subscriptions', 'organizations_url': 'https://api.github.com/users/tpaxman/orgs', 'repos_url': 'https://api.github.com/users/tpaxman/repos', 'events_url': 'https://api.github.com/users/tpaxman/events{/privacy}', 'received_events_url': 'https://api.github.com/users/tpaxman/received_events', 'type': 'User', 'site_admin': False}, 'labels': [], 'state': 'open', 'locked': False, 'assignee': None, 'assignees': [], 'milestone': None, 'comments': 0, 'created_at': '2023-06-22T03:01:44Z', 'updated_at': '2023-06-22T03:01:44Z', 'closed_at': None, 'author_association': 'CONTRIBUTOR', 'active_lock_reason': None, 'draft': False, 'pull_request': {'url': 'https://api.github.com/repos/pandas-dev/pandas/pulls/53788', 'html_url': 'https://github.com/pandas-dev/pandas/pull/53788', 'diff_url': 'https://github.com/pandas-dev/pandas/pull/53788.diff', 'patch_url': 'https://github.com/pandas-dev/pandas/pull/53788.patch', 'merged_at': None}, 'body': '- [x] closes #53777\\r\\n- [ ] [Tests added and passed](https://pandas.pydata.org/pandas-docs/dev/development/contributing_codebase.html#writing-tests) if fixing a bug or adding a new feature\\r\\n- [ ] All [code checks passed](https://pandas.pydata.org/pandas-docs/dev/development/contributing_codebase.html#pre-commit).\\r\\n- [ ] Added an entry in the latest `doc/source/whatsnew/vX.X.X.rst` file if fixing a bug or adding a new feature.\\r\\n\\r\\nThis PR appears to correct the specific issue. Need to do a full build again to verify that no other similar issues exist.', 'reactions': {'url': 'https://api.github.com/repos/pandas-dev/pandas/issues/53788/reactions', 'total_count': 0, '+1': 0, '-1': 0, 'laugh': 0, 'hooray': 0, 'confused': 0, 'heart': 0, 'rocket': 0, 'eyes': 0}, 'timeline_url': 'https://api.github.com/repos/pandas-dev/pandas/issues/53788/timeline', 'performed_via_github_app': None, 'state_reason': None}, {'url': 'https://api.github.com/repos/pandas-dev/pandas/issues/53787', 'repository_url': 'https://api.github.com/repos/pandas-dev/pandas', 'labels_url': 'https://api.github.com/repos/pandas-dev/pandas/issues/53787/labels{/name}', 'comments_url': 'https://api.github.com/repos/pandas-dev/pandas/issues/53787/comments', 'events_url': 'https://api.github.com/repos/pandas-dev/pandas/issues/53787/events', 'html_url': 'https://github.com/pandas-dev/pandas/pull/53787', 'id': 1768840136, 'node_id': 'PR_kwDOAA0YD85TnKaB', 'number': 53787, 'title': 'BUG: DataFrame.stack sorts columns', 'user': {'login': 'rhshadrach', 'id': 45562402, 'node_id': 'MDQ6VXNlcjQ1NTYyNDAy', 'avatar_url': 'https://avatars.githubusercontent.com/u/45562402?v=4', 'gravatar_id': '', 'url': 'https://api.github.com/users/rhshadrach', 'html_url': 'https://github.com/rhshadrach', 'followers_url': 'https://api.github.com/users/rhshadrach/followers', 'following_url': 'https://api.github.com/users/rhshadrach/following{/other_user}', 'gists_url': 'https://api.github.com/users/rhshadrach/gists{/gist_id}', 'starred_url': 'https://api.github.com/users/rhshadrach/starred{/owner}{/repo}', 'subscriptions_url': 'https://api.github.com/users/rhshadrach/subscriptions', 'organizations_url': 'https://api.github.com/users/rhshadrach/orgs', 'repos_url': 'https://api.github.com/users/rhshadrach/repos', 'events_url': 'https://api.github.com/users/rhshadrach/events{/privacy}', 'received_events_url': 'https://api.github.com/users/rhshadrach/received_events', 'type': 'User', 'site_admin': False}, 'labels': [{'id': 76811, 'node_id': 'MDU6TGFiZWw3NjgxMQ==', 'url': 'https://api.github.com/repos/pandas-dev/pandas/labels/Bug', 'name': 'Bug', 'color': 'e10c02', 'default': False, 'description': None}, {'id': 13098779, 'node_id': 'MDU6TGFiZWwxMzA5ODc3OQ==', 'url': 'https://api.github.com/repos/pandas-dev/pandas/labels/Reshaping', 'name': 'Reshaping', 'color': '02d7e1', 'default': False, 'description': 'Concat, Merge/Join, Stack/Unstack, Explode'}], 'state': 'open', 'locked': False, 'assignee': None, 'assignees': [], 'milestone': None, 'comments': 0, 'created_at': '2023-06-22T02:53:20Z', 'updated_at': '2023-06-22T02:53:20Z', 'closed_at': None, 'author_association': 'MEMBER', 'active_lock_reason': None, 'draft': False, 'pull_request': {'url': 'https://api.github.com/repos/pandas-dev/pandas/pulls/53787', 'html_url': 'https://github.com/pandas-dev/pandas/pull/53787', 'diff_url': 'https://github.com/pandas-dev/pandas/pull/53787.diff', 'patch_url': 'https://github.com/pandas-dev/pandas/pull/53787.patch', 'merged_at': None}, 'body': '- [x] closes #53786 (Replace xxxx with the GitHub issue number)\\r\\n- [x] [Tests added and passed](https://pandas.pydata.org/pandas-docs/dev/development/contributing_codebase.html#writing-tests) if fixing a bug or adding a new feature\\r\\n- [x] All [code checks passed](https://pandas.pydata.org/pandas-docs/dev/development/contributing_codebase.html#pre-commit).\\r\\n- [x] Added [type annotations](https://pandas.pydata.org/pandas-docs/dev/development/contributing_codebase.html#type-hints) to new arguments/methods/functions.\\r\\n- [x] Added an entry in the latest `doc/source/whatsnew/vX.X.X.rst` file if fixing a bug or adding a new feature.\\r\\n', 'reactions': {'url': 'https://api.github.com/repos/pandas-dev/pandas/issues/53787/reactions', 'total_count': 0, '+1': 0, '-1': 0, 'laugh': 0, 'hooray': 0, 'confused': 0, 'heart': 0, 'rocket': 0, 'eyes': 0}, 'timeline_url': 'https://api.github.com/repos/pandas-dev/pandas/issues/53787/timeline', 'performed_via_github_app': None, 'state_reason': None}, {'url': 'https://api.github.com/repos/pandas-dev/pandas/issues/53786', 'repository_url': 'https://api.github.com/repos/pandas-dev/pandas', 'labels_url': 'https://api.github.com/repos/pandas-dev/pandas/issues/53786/labels{/name}', 'comments_url': 'https://api.github.com/repos/pandas-dev/pandas/issues/53786/comments', 'events_url': 'https://api.github.com/repos/pandas-dev/pandas/issues/53786/events', 'html_url': 'https://github.com/pandas-dev/pandas/issues/53786', 'id': 1768838070, 'node_id': 'I_kwDOAA0YD85pblO2', 'number': 53786, 'title': 'BUG: DataFrame.stack sorts columns', 'user': {'login': 'rhshadrach', 'id': 45562402, 'node_id': 'MDQ6VXNlcjQ1NTYyNDAy', 'avatar_url': 'https://avatars.githubusercontent.com/u/45562402?v=4', 'gravatar_id': '', 'url': 'https://api.github.com/users/rhshadrach', 'html_url': 'https://github.com/rhshadrach', 'followers_url': 'https://api.github.com/users/rhshadrach/followers', 'following_url': 'https://api.github.com/users/rhshadrach/following{/other_user}', 'gists_url': 'https://api.github.com/users/rhshadrach/gists{/gist_id}', 'starred_url': 'https://api.github.com/users/rhshadrach/starred{/owner}{/repo}', 'subscriptions_url': 'https://api.github.com/users/rhshadrach/subscriptions', 'organizations_url': 'https://api.github.com/users/rhshadrach/orgs', 'repos_url': 'https://api.github.com/users/rhshadrach/repos', 'events_url': 'https://api.github.com/users/rhshadrach/events{/privacy}', 'received_events_url': 'https://api.github.com/users/rhshadrach/received_events', 'type': 'User', 'site_admin': False}, 'labels': [{'id': 76811, 'node_id': 'MDU6TGFiZWw3NjgxMQ==', 'url': 'https://api.github.com/repos/pandas-dev/pandas/labels/Bug', 'name': 'Bug', 'color': 'e10c02', 'default': False, 'description': None}, {'id': 13098779, 'node_id': 'MDU6TGFiZWwxMzA5ODc3OQ==', 'url': 'https://api.github.com/repos/pandas-dev/pandas/labels/Reshaping', 'name': 'Reshaping', 'color': '02d7e1', 'default': False, 'description': 'Concat, Merge/Join, Stack/Unstack, Explode'}], 'state': 'open', 'locked': False, 'assignee': None, 'assignees': [], 'milestone': None, 'comments': 0, 'created_at': '2023-06-22T02:49:43Z', 'updated_at': '2023-06-22T02:49:43Z', 'closed_at': None, 'author_association': 'MEMBER', 'active_lock_reason': None, 'body': '```\\r\\nmi = MultiIndex(\\r\\n    levels=[[\"foo\", \"bar\"], [\"one\", \"two\"], [\"a\", \"b\"]],\\r\\n    codes=[[0, 0, 1, 1], [0, 1, 0, 1], [1, 0, 1, 0]],\\r\\n    names=[\"first\", \"second\", \"third\"],\\r\\n)\\r\\ns = Series(0, index=mi)\\r\\nunstacked = s.unstack([1, 2])\\r\\nprint(unstacked)\\r\\n# second one two\\r\\n# third    b   a\\r\\n# first         \\r\\n# foo      0   0\\r\\n# bar      0   0\\r\\n\\r\\nresult = unstacked.stack(0)\\r\\nprint(result)\\r\\n# third           a    b\\r\\n# first second          \\r\\n# foo   one     NaN  0.0\\r\\n#       two     0.0  NaN\\r\\n# bar   one     NaN  0.0\\r\\n#       two     0.0  NaN\\r\\n```\\r\\n\\r\\nThe expected result should have the columns `b` and then `a`, the order in the original DataFrame.', 'reactions': {'url': 'https://api.github.com/repos/pandas-dev/pandas/issues/53786/reactions', 'total_count': 0, '+1': 0, '-1': 0, 'laugh': 0, 'hooray': 0, 'confused': 0, 'heart': 0, 'rocket': 0, 'eyes': 0}, 'timeline_url': 'https://api.github.com/repos/pandas-dev/pandas/issues/53786/timeline', 'performed_via_github_app': None, 'state_reason': None}, {'url': 'https://api.github.com/repos/pandas-dev/pandas/issues/53785', 'repository_url': 'https://api.github.com/repos/pandas-dev/pandas', 'labels_url': 'https://api.github.com/repos/pandas-dev/pandas/issues/53785/labels{/name}', 'comments_url': 'https://api.github.com/repos/pandas-dev/pandas/issues/53785/comments', 'events_url': 'https://api.github.com/repos/pandas-dev/pandas/issues/53785/events', 'html_url': 'https://github.com/pandas-dev/pandas/pull/53785', 'id': 1768815668, 'node_id': 'PR_kwDOAA0YD85TnFSW', 'number': 53785, 'title': 'DEPR: Remove literal string/bytes input from read_excel, read_html, and read_xml', 'user': {'login': 'rmhowe425', 'id': 45905457, 'node_id': 'MDQ6VXNlcjQ1OTA1NDU3', 'avatar_url': 'https://avatars.githubusercontent.com/u/45905457?v=4', 'gravatar_id': '', 'url': 'https://api.github.com/users/rmhowe425', 'html_url': 'https://github.com/rmhowe425', 'followers_url': 'https://api.github.com/users/rmhowe425/followers', 'following_url': 'https://api.github.com/users/rmhowe425/following{/other_user}', 'gists_url': 'https://api.github.com/users/rmhowe425/gists{/gist_id}', 'starred_url': 'https://api.github.com/users/rmhowe425/starred{/owner}{/repo}', 'subscriptions_url': 'https://api.github.com/users/rmhowe425/subscriptions', 'organizations_url': 'https://api.github.com/users/rmhowe425/orgs', 'repos_url': 'https://api.github.com/users/rmhowe425/repos', 'events_url': 'https://api.github.com/users/rmhowe425/events{/privacy}', 'received_events_url': 'https://api.github.com/users/rmhowe425/received_events', 'type': 'User', 'site_admin': False}, 'labels': [], 'state': 'open', 'locked': False, 'assignee': None, 'assignees': [], 'milestone': None, 'comments': 0, 'created_at': '2023-06-22T02:19:20Z', 'updated_at': '2023-06-22T03:04:57Z', 'closed_at': None, 'author_association': 'CONTRIBUTOR', 'active_lock_reason': None, 'draft': True, 'pull_request': {'url': 'https://api.github.com/repos/pandas-dev/pandas/pulls/53785', 'html_url': 'https://github.com/pandas-dev/pandas/pull/53785', 'diff_url': 'https://github.com/pandas-dev/pandas/pull/53785.diff', 'patch_url': 'https://github.com/pandas-dev/pandas/pull/53785.patch', 'merged_at': None}, 'body': '- [X] closes #53767 \\r\\n- [ ] [Tests added and passed](https://pandas.pydata.org/pandas-docs/dev/development/contributing_codebase.html#writing-tests) if fixing a bug or adding a new feature\\r\\n- [ ] All [code checks passed](https://pandas.pydata.org/pandas-docs/dev/development/contributing_codebase.html#pre-commit).\\r\\n- [ ] Added [type annotations](https://pandas.pydata.org/pandas-docs/dev/development/contributing_codebase.html#type-hints) to new arguments/methods/functions.\\r\\n- [X] Added an entry in the latest `doc/source/whatsnew/vX.X.X.rst` file if fixing a bug or adding a new feature.\\r\\n', 'reactions': {'url': 'https://api.github.com/repos/pandas-dev/pandas/issues/53785/reactions', 'total_count': 0, '+1': 0, '-1': 0, 'laugh': 0, 'hooray': 0, 'confused': 0, 'heart': 0, 'rocket': 0, 'eyes': 0}, 'timeline_url': 'https://api.github.com/repos/pandas-dev/pandas/issues/53785/timeline', 'performed_via_github_app': None, 'state_reason': None}, {'url': 'https://api.github.com/repos/pandas-dev/pandas/issues/53784', 'repository_url': 'https://api.github.com/repos/pandas-dev/pandas', 'labels_url': 'https://api.github.com/repos/pandas-dev/pandas/issues/53784/labels{/name}', 'comments_url': 'https://api.github.com/repos/pandas-dev/pandas/issues/53784/comments', 'events_url': 'https://api.github.com/repos/pandas-dev/pandas/issues/53784/events', 'html_url': 'https://github.com/pandas-dev/pandas/pull/53784', 'id': 1768748686, 'node_id': 'PR_kwDOAA0YD85Tm2ae', 'number': 53784, 'title': 'TST: Refactor some slow tests', 'user': {'login': 'mroeschke', 'id': 10647082, 'node_id': 'MDQ6VXNlcjEwNjQ3MDgy', 'avatar_url': 'https://avatars.githubusercontent.com/u/10647082?v=4', 'gravatar_id': '', 'url': 'https://api.github.com/users/mroeschke', 'html_url': 'https://github.com/mroeschke', 'followers_url': 'https://api.github.com/users/mroeschke/followers', 'following_url': 'https://api.github.com/users/mroeschke/following{/other_user}', 'gists_url': 'https://api.github.com/users/mroeschke/gists{/gist_id}', 'starred_url': 'https://api.github.com/users/mroeschke/starred{/owner}{/repo}', 'subscriptions_url': 'https://api.github.com/users/mroeschke/subscriptions', 'organizations_url': 'https://api.github.com/users/mroeschke/orgs', 'repos_url': 'https://api.github.com/users/mroeschke/repos', 'events_url': 'https://api.github.com/users/mroeschke/events{/privacy}', 'received_events_url': 'https://api.github.com/users/mroeschke/received_events', 'type': 'User', 'site_admin': False}, 'labels': [{'id': 127685, 'node_id': 'MDU6TGFiZWwxMjc2ODU=', 'url': 'https://api.github.com/repos/pandas-dev/pandas/labels/Testing', 'name': 'Testing', 'color': 'C4A000', 'default': False, 'description': 'pandas testing functions or related to the test suite'}], 'state': 'open', 'locked': False, 'assignee': None, 'assignees': [], 'milestone': {'url': 'https://api.github.com/repos/pandas-dev/pandas/milestones/103', 'html_url': 'https://github.com/pandas-dev/pandas/milestone/103', 'labels_url': 'https://api.github.com/repos/pandas-dev/pandas/milestones/103/labels', 'id': 9068593, 'node_id': 'MI_kwDOAA0YD84AimAx', 'number': 103, 'title': '2.1', 'description': '', 'creator': {'login': 'phofl', 'id': 61934744, 'node_id': 'MDQ6VXNlcjYxOTM0NzQ0', 'avatar_url': 'https://avatars.githubusercontent.com/u/61934744?v=4', 'gravatar_id': '', 'url': 'https://api.github.com/users/phofl', 'html_url': 'https://github.com/phofl', 'followers_url': 'https://api.github.com/users/phofl/followers', 'following_url': 'https://api.github.com/users/phofl/following{/other_user}', 'gists_url': 'https://api.github.com/users/phofl/gists{/gist_id}', 'starred_url': 'https://api.github.com/users/phofl/starred{/owner}{/repo}', 'subscriptions_url': 'https://api.github.com/users/phofl/subscriptions', 'organizations_url': 'https://api.github.com/users/phofl/orgs', 'repos_url': 'https://api.github.com/users/phofl/repos', 'events_url': 'https://api.github.com/users/phofl/events{/privacy}', 'received_events_url': 'https://api.github.com/users/phofl/received_events', 'type': 'User', 'site_admin': False}, 'open_issues': 26, 'closed_issues': 774, 'state': 'open', 'created_at': '2023-02-20T21:04:36Z', 'updated_at': '2023-06-22T01:09:56Z', 'due_on': '2023-08-20T07:00:00Z', 'closed_at': None}, 'comments': 0, 'created_at': '2023-06-22T01:09:56Z', 'updated_at': '2023-06-22T01:12:21Z', 'closed_at': None, 'author_association': 'MEMBER', 'active_lock_reason': None, 'draft': False, 'pull_request': {'url': 'https://api.github.com/repos/pandas-dev/pandas/pulls/53784', 'html_url': 'https://github.com/pandas-dev/pandas/pull/53784', 'diff_url': 'https://github.com/pandas-dev/pandas/pull/53784.diff', 'patch_url': 'https://github.com/pandas-dev/pandas/pull/53784.patch', 'merged_at': None}, 'body': 'Mainly refactoring tests by reducing the data size not associated with the bug or refactoring the test to more directly test the issue', 'reactions': {'url': 'https://api.github.com/repos/pandas-dev/pandas/issues/53784/reactions', 'total_count': 0, '+1': 0, '-1': 0, 'laugh': 0, 'hooray': 0, 'confused': 0, 'heart': 0, 'rocket': 0, 'eyes': 0}, 'timeline_url': 'https://api.github.com/repos/pandas-dev/pandas/issues/53784/timeline', 'performed_via_github_app': None, 'state_reason': None}, {'url': 'https://api.github.com/repos/pandas-dev/pandas/issues/53783', 'repository_url': 'https://api.github.com/repos/pandas-dev/pandas', 'labels_url': 'https://api.github.com/repos/pandas-dev/pandas/issues/53783/labels{/name}', 'comments_url': 'https://api.github.com/repos/pandas-dev/pandas/issues/53783/comments', 'events_url': 'https://api.github.com/repos/pandas-dev/pandas/issues/53783/events', 'html_url': 'https://github.com/pandas-dev/pandas/issues/53783', 'id': 1768738831, 'node_id': 'I_kwDOAA0YD85pbNAP', 'number': 53783, 'title': 'DEPR: left_index, right_index in pd.merge', 'user': {'login': 'jbrockmendel', 'id': 8078968, 'node_id': 'MDQ6VXNlcjgwNzg5Njg=', 'avatar_url': 'https://avatars.githubusercontent.com/u/8078968?v=4', 'gravatar_id': '', 'url': 'https://api.github.com/users/jbrockmendel', 'html_url': 'https://github.com/jbrockmendel', 'followers_url': 'https://api.github.com/users/jbrockmendel/followers', 'following_url': 'https://api.github.com/users/jbrockmendel/following{/other_user}', 'gists_url': 'https://api.github.com/users/jbrockmendel/gists{/gist_id}', 'starred_url': 'https://api.github.com/users/jbrockmendel/starred{/owner}{/repo}', 'subscriptions_url': 'https://api.github.com/users/jbrockmendel/subscriptions', 'organizations_url': 'https://api.github.com/users/jbrockmendel/orgs', 'repos_url': 'https://api.github.com/users/jbrockmendel/repos', 'events_url': 'https://api.github.com/users/jbrockmendel/events{/privacy}', 'received_events_url': 'https://api.github.com/users/jbrockmendel/received_events', 'type': 'User', 'site_admin': False}, 'labels': [{'id': 76811, 'node_id': 'MDU6TGFiZWw3NjgxMQ==', 'url': 'https://api.github.com/repos/pandas-dev/pandas/labels/Bug', 'name': 'Bug', 'color': 'e10c02', 'default': False, 'description': None}, {'id': 1954720290, 'node_id': 'MDU6TGFiZWwxOTU0NzIwMjkw', 'url': 'https://api.github.com/repos/pandas-dev/pandas/labels/Needs%20Triage', 'name': 'Needs Triage', 'color': '0052cc', 'default': False, 'description': 'Issue that has not been reviewed by a pandas team member'}], 'state': 'open', 'locked': False, 'assignee': None, 'assignees': [], 'milestone': None, 'comments': 0, 'created_at': '2023-06-22T01:02:38Z', 'updated_at': '2023-06-22T01:02:38Z', 'closed_at': None, 'author_association': 'MEMBER', 'active_lock_reason': None, 'body': '### Pandas version checks\\n\\n- [X] I have checked that this issue has not already been reported.\\n\\n- [X] I have confirmed this bug exists on the [latest version](https://pandas.pydata.org/docs/whatsnew/index.html) of pandas.\\n\\n- [X] I have confirmed this bug exists on the [main branch](https://pandas.pydata.org/docs/dev/getting_started/install.html#installing-the-development-version-of-pandas) of pandas.\\n\\n\\n### Reproducible Example\\n\\n```python\\nNAleft = pd.DataFrame({\"A\": range(3), \"B\": range(9, 12)})\\r\\nright = pd.DataFrame({\"A\": range(1, 4), \"C\": range(2, 5)}).set_index(\"A\")\\r\\n\\r\\n>>> pd.merge(left=left, right=right, left_on=\"A\", right_index=True)\\r\\n   A   B  C\\r\\n1  1  10  2\\r\\n2  2  11  3\\r\\n\\r\\n\\r\\n>>> pd.merge(left=left, right=right.reset_index(), left_on=\"A\", right_on=\"A\")\\r\\n   A   B  C\\r\\n0  1  10  2\\r\\n1  2  11  3\\n```\\n\\n\\n### Issue Description\\n\\nWe could deprecate the right_index and left_index keywords in pd.merge and DataFrame.merge and tell users to do .reset_index first instead.  Potential problems are 1) unwanted copies in reset_index, even in a CoW world, and 2) the result index isn\\'t quite the same.\\n\\n### Expected Behavior\\n\\nNA\\n\\n### Installed Versions\\n\\n<details>\\r\\n\\r\\nReplace this line with the output of pd.show_versions()\\r\\n\\r\\n</details>\\r\\n', 'reactions': {'url': 'https://api.github.com/repos/pandas-dev/pandas/issues/53783/reactions', 'total_count': 0, '+1': 0, '-1': 0, 'laugh': 0, 'hooray': 0, 'confused': 0, 'heart': 0, 'rocket': 0, 'eyes': 0}, 'timeline_url': 'https://api.github.com/repos/pandas-dev/pandas/issues/53783/timeline', 'performed_via_github_app': None, 'state_reason': None}, {'url': 'https://api.github.com/repos/pandas-dev/pandas/issues/53782', 'repository_url': 'https://api.github.com/repos/pandas-dev/pandas', 'labels_url': 'https://api.github.com/repos/pandas-dev/pandas/issues/53782/labels{/name}', 'comments_url': 'https://api.github.com/repos/pandas-dev/pandas/issues/53782/comments', 'events_url': 'https://api.github.com/repos/pandas-dev/pandas/issues/53782/events', 'html_url': 'https://github.com/pandas-dev/pandas/pull/53782', 'id': 1768567951, 'node_id': 'PR_kwDOAA0YD85TmOjT', 'number': 53782, 'title': 'Improve frame histogram', 'user': {'login': 'Rylie-W', 'id': 49891048, 'node_id': 'MDQ6VXNlcjQ5ODkxMDQ4', 'avatar_url': 'https://avatars.githubusercontent.com/u/49891048?v=4', 'gravatar_id': '', 'url': 'https://api.github.com/users/Rylie-W', 'html_url': 'https://github.com/Rylie-W', 'followers_url': 'https://api.github.com/users/Rylie-W/followers', 'following_url': 'https://api.github.com/users/Rylie-W/following{/other_user}', 'gists_url': 'https://api.github.com/users/Rylie-W/gists{/gist_id}', 'starred_url': 'https://api.github.com/users/Rylie-W/starred{/owner}{/repo}', 'subscriptions_url': 'https://api.github.com/users/Rylie-W/subscriptions', 'organizations_url': 'https://api.github.com/users/Rylie-W/orgs', 'repos_url': 'https://api.github.com/users/Rylie-W/repos', 'events_url': 'https://api.github.com/users/Rylie-W/events{/privacy}', 'received_events_url': 'https://api.github.com/users/Rylie-W/received_events', 'type': 'User', 'site_admin': False}, 'labels': [], 'state': 'open', 'locked': False, 'assignee': None, 'assignees': [], 'milestone': None, 'comments': 0, 'created_at': '2023-06-21T22:00:46Z', 'updated_at': '2023-06-21T22:00:46Z', 'closed_at': None, 'author_association': 'CONTRIBUTOR', 'active_lock_reason': None, 'draft': False, 'pull_request': {'url': 'https://api.github.com/repos/pandas-dev/pandas/pulls/53782', 'html_url': 'https://github.com/pandas-dev/pandas/pull/53782', 'diff_url': 'https://github.com/pandas-dev/pandas/pull/53782.diff', 'patch_url': 'https://github.com/pandas-dev/pandas/pull/53782.patch', 'merged_at': None}, 'body': '- [x] closes #53281 \\r\\n- [x] [Tests added and passed](https://pandas.pydata.org/pandas-docs/dev/development/contributing_codebase.html#writing-tests) if fixing a bug or adding a new feature\\r\\n- [x] All [code checks passed](https://pandas.pydata.org/pandas-docs/dev/development/contributing_codebase.html#pre-commit).\\r\\n- [x] Added [type annotations](https://pandas.pydata.org/pandas-docs/dev/development/contributing_codebase.html#type-hints) to new arguments/methods/functions.\\r\\n- [x] Added an entry in the latest `doc/source/whatsnew/vX.X.X.rst` file if fixing a bug or adding a new feature.\\r\\n', 'reactions': {'url': 'https://api.github.com/repos/pandas-dev/pandas/issues/53782/reactions', 'total_count': 0, '+1': 0, '-1': 0, 'laugh': 0, 'hooray': 0, 'confused': 0, 'heart': 0, 'rocket': 0, 'eyes': 0}, 'timeline_url': 'https://api.github.com/repos/pandas-dev/pandas/issues/53782/timeline', 'performed_via_github_app': None, 'state_reason': None}, {'url': 'https://api.github.com/repos/pandas-dev/pandas/issues/53781', 'repository_url': 'https://api.github.com/repos/pandas-dev/pandas', 'labels_url': 'https://api.github.com/repos/pandas-dev/pandas/issues/53781/labels{/name}', 'comments_url': 'https://api.github.com/repos/pandas-dev/pandas/issues/53781/comments', 'events_url': 'https://api.github.com/repos/pandas-dev/pandas/issues/53781/events', 'html_url': 'https://github.com/pandas-dev/pandas/issues/53781', 'id': 1768516988, 'node_id': 'I_kwDOAA0YD85paW18', 'number': 53781, 'title': 'API: Avoid Hidden numeric heuristics', 'user': {'login': 'mroeschke', 'id': 10647082, 'node_id': 'MDQ6VXNlcjEwNjQ3MDgy', 'avatar_url': 'https://avatars.githubusercontent.com/u/10647082?v=4', 'gravatar_id': '', 'url': 'https://api.github.com/users/mroeschke', 'html_url': 'https://github.com/mroeschke', 'followers_url': 'https://api.github.com/users/mroeschke/followers', 'following_url': 'https://api.github.com/users/mroeschke/following{/other_user}', 'gists_url': 'https://api.github.com/users/mroeschke/gists{/gist_id}', 'starred_url': 'https://api.github.com/users/mroeschke/starred{/owner}{/repo}', 'subscriptions_url': 'https://api.github.com/users/mroeschke/subscriptions', 'organizations_url': 'https://api.github.com/users/mroeschke/orgs', 'repos_url': 'https://api.github.com/users/mroeschke/repos', 'events_url': 'https://api.github.com/users/mroeschke/events{/privacy}', 'received_events_url': 'https://api.github.com/users/mroeschke/received_events', 'type': 'User', 'site_admin': False}, 'labels': [{'id': 35818298, 'node_id': 'MDU6TGFiZWwzNTgxODI5OA==', 'url': 'https://api.github.com/repos/pandas-dev/pandas/labels/API%20Design', 'name': 'API Design', 'color': 'AD7FA8', 'default': False, 'description': None}], 'state': 'open', 'locked': False, 'assignee': None, 'assignees': [], 'milestone': None, 'comments': 2, 'created_at': '2023-06-21T21:26:19Z', 'updated_at': '2023-06-22T03:24:27Z', 'closed_at': None, 'author_association': 'MEMBER', 'active_lock_reason': None, 'body': 'There are several places where pandas has hidden heuristics/thresholds dictating certain behavior that is not immediately obvious or configurable to the user. IIRC, there have been bugs in `rolling` and `to_datetime` where buggy behavior was encountered when data had a particular value or the data was a certain size for example which can be hard to diagnose.\\r\\n\\r\\nIdeally we should:\\r\\n\\r\\n1. Not change behavior due to some data characteristic introspection\\r\\n2. At lease expose the option to the user to control the heuristic\\r\\n\\r\\n\\r\\nCSV reading tokenizer chunksize\\r\\nhttps://github.com/pandas-dev/pandas/blob/bb0403b25b1935a608b324a93a483bd22e6c43d3/pandas/_libs/parsers.pyx#L119\\r\\n\\r\\nCSV line buffer size\\r\\nhttps://github.com/pandas-dev/pandas/blob/bb0403b25b1935a608b324a93a483bd22e6c43d3/pandas/_libs/parsers.pyx#L587\\r\\n\\r\\nNumber of elements when to auto use numexpr\\r\\nhttps://github.com/pandas-dev/pandas/blob/bb0403b25b1935a608b324a93a483bd22e6c43d3/pandas/core/computation/expressions.py#L42\\r\\n\\r\\nTDA iter chunk size processing\\r\\nhttps://github.com/pandas-dev/pandas/blob/bb0403b25b1935a608b324a93a483bd22e6c43d3/pandas/core/arrays/timedeltas.py#L387\\r\\n\\r\\nSomething pytables related\\r\\nhttps://github.com/pandas-dev/pandas/blob/bb0403b25b1935a608b324a93a483bd22e6c43d3/pandas/core/computation/pytables.py#L101\\r\\nhttps://github.com/pandas-dev/pandas/blob/bb0403b25b1935a608b324a93a483bd22e6c43d3/pandas/io/pytables.py#L1887\\r\\n\\r\\nNumber of element to automatically use caching in to_datetime\\r\\nhttps://github.com/pandas-dev/pandas/blob/bb0403b25b1935a608b324a93a483bd22e6c43d3/pandas/core/tools/datetimes.py#L124\\r\\n\\r\\nChunk size to use when writing csv\\r\\nhttps://github.com/pandas-dev/pandas/blob/bb0403b25b1935a608b324a93a483bd22e6c43d3/pandas/io/formats/csvs.py#L166\\r\\n\\r\\nNumber of regexes to store when time parsing\\r\\nhttps://github.com/pandas-dev/pandas/blob/bb0403b25b1935a608b324a93a483bd22e6c43d3/pandas/_libs/tslibs/strptime.pyx#L576\\r\\n\\r\\nRank tolerance\\r\\nhttps://github.com/pandas-dev/pandas/blob/bb0403b25b1935a608b324a93a483bd22e6c43d3/pandas/_libs/algos.pyx#L61\\r\\n\\r\\nisin algo determination\\r\\nhttps://github.com/pandas-dev/pandas/blob/bb0403b25b1935a608b324a93a483bd22e6c43d3/pandas/core/algorithms.py#L521\\r\\n\\r\\nValue formatting\\r\\nhttps://github.com/pandas-dev/pandas/blob/bb0403b25b1935a608b324a93a483bd22e6c43d3/pandas/io/formats/format.py#L1562\\r\\n\\r\\nNumber of elements to populate hash table\\r\\nhttps://github.com/pandas-dev/pandas/blob/bb0403b25b1935a608b324a93a483bd22e6c43d3/pandas/_libs/index.pyx#L99', 'reactions': {'url': 'https://api.github.com/repos/pandas-dev/pandas/issues/53781/reactions', 'total_count': 0, '+1': 0, '-1': 0, 'laugh': 0, 'hooray': 0, 'confused': 0, 'heart': 0, 'rocket': 0, 'eyes': 0}, 'timeline_url': 'https://api.github.com/repos/pandas-dev/pandas/issues/53781/timeline', 'performed_via_github_app': None, 'state_reason': None}, {'url': 'https://api.github.com/repos/pandas-dev/pandas/issues/53780', 'repository_url': 'https://api.github.com/repos/pandas-dev/pandas', 'labels_url': 'https://api.github.com/repos/pandas-dev/pandas/issues/53780/labels{/name}', 'comments_url': 'https://api.github.com/repos/pandas-dev/pandas/issues/53780/comments', 'events_url': 'https://api.github.com/repos/pandas-dev/pandas/issues/53780/events', 'html_url': 'https://github.com/pandas-dev/pandas/pull/53780', 'id': 1768449388, 'node_id': 'PR_kwDOAA0YD85Tlz-l', 'number': 53780, 'title': 'TYP: reshape.merge', 'user': {'login': 'jbrockmendel', 'id': 8078968, 'node_id': 'MDQ6VXNlcjgwNzg5Njg=', 'avatar_url': 'https://avatars.githubusercontent.com/u/8078968?v=4', 'gravatar_id': '', 'url': 'https://api.github.com/users/jbrockmendel', 'html_url': 'https://github.com/jbrockmendel', 'followers_url': 'https://api.github.com/users/jbrockmendel/followers', 'following_url': 'https://api.github.com/users/jbrockmendel/following{/other_user}', 'gists_url': 'https://api.github.com/users/jbrockmendel/gists{/gist_id}', 'starred_url': 'https://api.github.com/users/jbrockmendel/starred{/owner}{/repo}', 'subscriptions_url': 'https://api.github.com/users/jbrockmendel/subscriptions', 'organizations_url': 'https://api.github.com/users/jbrockmendel/orgs', 'repos_url': 'https://api.github.com/users/jbrockmendel/repos', 'events_url': 'https://api.github.com/users/jbrockmendel/events{/privacy}', 'received_events_url': 'https://api.github.com/users/jbrockmendel/received_events', 'type': 'User', 'site_admin': False}, 'labels': [], 'state': 'open', 'locked': False, 'assignee': None, 'assignees': [], 'milestone': None, 'comments': 0, 'created_at': '2023-06-21T20:42:09Z', 'updated_at': '2023-06-21T20:42:09Z', 'closed_at': None, 'author_association': 'MEMBER', 'active_lock_reason': None, 'draft': False, 'pull_request': {'url': 'https://api.github.com/repos/pandas-dev/pandas/pulls/53780', 'html_url': 'https://github.com/pandas-dev/pandas/pull/53780', 'diff_url': 'https://github.com/pandas-dev/pandas/pull/53780.diff', 'patch_url': 'https://github.com/pandas-dev/pandas/pull/53780.patch', 'merged_at': None}, 'body': '- [ ] closes #xxxx (Replace xxxx with the GitHub issue number)\\r\\n- [ ] [Tests added and passed](https://pandas.pydata.org/pandas-docs/dev/development/contributing_codebase.html#writing-tests) if fixing a bug or adding a new feature\\r\\n- [ ] All [code checks passed](https://pandas.pydata.org/pandas-docs/dev/development/contributing_codebase.html#pre-commit).\\r\\n- [ ] Added [type annotations](https://pandas.pydata.org/pandas-docs/dev/development/contributing_codebase.html#type-hints) to new arguments/methods/functions.\\r\\n- [ ] Added an entry in the latest `doc/source/whatsnew/vX.X.X.rst` file if fixing a bug or adding a new feature.\\r\\n', 'reactions': {'url': 'https://api.github.com/repos/pandas-dev/pandas/issues/53780/reactions', 'total_count': 0, '+1': 0, '-1': 0, 'laugh': 0, 'hooray': 0, 'confused': 0, 'heart': 0, 'rocket': 0, 'eyes': 0}, 'timeline_url': 'https://api.github.com/repos/pandas-dev/pandas/issues/53780/timeline', 'performed_via_github_app': None, 'state_reason': None}, {'url': 'https://api.github.com/repos/pandas-dev/pandas/issues/53779', 'repository_url': 'https://api.github.com/repos/pandas-dev/pandas', 'labels_url': 'https://api.github.com/repos/pandas-dev/pandas/issues/53779/labels{/name}', 'comments_url': 'https://api.github.com/repos/pandas-dev/pandas/issues/53779/comments', 'events_url': 'https://api.github.com/repos/pandas-dev/pandas/issues/53779/events', 'html_url': 'https://github.com/pandas-dev/pandas/pull/53779', 'id': 1768432572, 'node_id': 'PR_kwDOAA0YD85TlwTi', 'number': 53779, 'title': 'CoW: Add warning for chained assignment with fillna', 'user': {'login': 'phofl', 'id': 61934744, 'node_id': 'MDQ6VXNlcjYxOTM0NzQ0', 'avatar_url': 'https://avatars.githubusercontent.com/u/61934744?v=4', 'gravatar_id': '', 'url': 'https://api.github.com/users/phofl', 'html_url': 'https://github.com/phofl', 'followers_url': 'https://api.github.com/users/phofl/followers', 'following_url': 'https://api.github.com/users/phofl/following{/other_user}', 'gists_url': 'https://api.github.com/users/phofl/gists{/gist_id}', 'starred_url': 'https://api.github.com/users/phofl/starred{/owner}{/repo}', 'subscriptions_url': 'https://api.github.com/users/phofl/subscriptions', 'organizations_url': 'https://api.github.com/users/phofl/orgs', 'repos_url': 'https://api.github.com/users/phofl/repos', 'events_url': 'https://api.github.com/users/phofl/events{/privacy}', 'received_events_url': 'https://api.github.com/users/phofl/received_events', 'type': 'User', 'site_admin': False}, 'labels': [], 'state': 'open', 'locked': False, 'assignee': None, 'assignees': [], 'milestone': None, 'comments': 1, 'created_at': '2023-06-21T20:34:04Z', 'updated_at': '2023-06-21T21:43:31Z', 'closed_at': None, 'author_association': 'MEMBER', 'active_lock_reason': None, 'draft': False, 'pull_request': {'url': 'https://api.github.com/repos/pandas-dev/pandas/pulls/53779', 'html_url': 'https://github.com/pandas-dev/pandas/pull/53779', 'diff_url': 'https://github.com/pandas-dev/pandas/pull/53779.diff', 'patch_url': 'https://github.com/pandas-dev/pandas/pull/53779.patch', 'merged_at': None}, 'body': '- [ ] closes #xxxx (Replace xxxx with the GitHub issue number)\\r\\n- [x] [Tests added and passed](https://pandas.pydata.org/pandas-docs/dev/development/contributing_codebase.html#writing-tests) if fixing a bug or adding a new feature\\r\\n- [x] All [code checks passed](https://pandas.pydata.org/pandas-docs/dev/development/contributing_codebase.html#pre-commit).\\r\\n- [x] Added [type annotations](https://pandas.pydata.org/pandas-docs/dev/development/contributing_codebase.html#type-hints) to new arguments/methods/functions.\\r\\n- [x] Added an entry in the latest `doc/source/whatsnew/vX.X.X.rst` file if fixing a bug or adding a new feature.\\r\\n', 'reactions': {'url': 'https://api.github.com/repos/pandas-dev/pandas/issues/53779/reactions', 'total_count': 0, '+1': 0, '-1': 0, 'laugh': 0, 'hooray': 0, 'confused': 0, 'heart': 0, 'rocket': 0, 'eyes': 0}, 'timeline_url': 'https://api.github.com/repos/pandas-dev/pandas/issues/53779/timeline', 'performed_via_github_app': None, 'state_reason': None}, {'url': 'https://api.github.com/repos/pandas-dev/pandas/issues/53778', 'repository_url': 'https://api.github.com/repos/pandas-dev/pandas', 'labels_url': 'https://api.github.com/repos/pandas-dev/pandas/issues/53778/labels{/name}', 'comments_url': 'https://api.github.com/repos/pandas-dev/pandas/issues/53778/comments', 'events_url': 'https://api.github.com/repos/pandas-dev/pandas/issues/53778/events', 'html_url': 'https://github.com/pandas-dev/pandas/issues/53778', 'id': 1768424628, 'node_id': 'I_kwDOAA0YD85paAS0', 'number': 53778, 'title': 'DISC: Make all user-facing dtypes ExtensionDtype', 'user': {'login': 'jbrockmendel', 'id': 8078968, 'node_id': 'MDQ6VXNlcjgwNzg5Njg=', 'avatar_url': 'https://avatars.githubusercontent.com/u/8078968?v=4', 'gravatar_id': '', 'url': 'https://api.github.com/users/jbrockmendel', 'html_url': 'https://github.com/jbrockmendel', 'followers_url': 'https://api.github.com/users/jbrockmendel/followers', 'following_url': 'https://api.github.com/users/jbrockmendel/following{/other_user}', 'gists_url': 'https://api.github.com/users/jbrockmendel/gists{/gist_id}', 'starred_url': 'https://api.github.com/users/jbrockmendel/starred{/owner}{/repo}', 'subscriptions_url': 'https://api.github.com/users/jbrockmendel/subscriptions', 'organizations_url': 'https://api.github.com/users/jbrockmendel/orgs', 'repos_url': 'https://api.github.com/users/jbrockmendel/repos', 'events_url': 'https://api.github.com/users/jbrockmendel/events{/privacy}', 'received_events_url': 'https://api.github.com/users/jbrockmendel/received_events', 'type': 'User', 'site_admin': False}, 'labels': [{'id': 127681, 'node_id': 'MDU6TGFiZWwxMjc2ODE=', 'url': 'https://api.github.com/repos/pandas-dev/pandas/labels/Refactor', 'name': 'Refactor', 'color': 'FCE94F', 'default': False, 'description': 'Internal refactoring of code'}, {'id': 35818298, 'node_id': 'MDU6TGFiZWwzNTgxODI5OA==', 'url': 'https://api.github.com/repos/pandas-dev/pandas/labels/API%20Design', 'name': 'API Design', 'color': 'AD7FA8', 'default': False, 'description': None}, {'id': 211029535, 'node_id': 'MDU6TGFiZWwyMTEwMjk1MzU=', 'url': 'https://api.github.com/repos/pandas-dev/pandas/labels/Clean', 'name': 'Clean', 'color': '207de5', 'default': False, 'description': None}, {'id': 849023693, 'node_id': 'MDU6TGFiZWw4NDkwMjM2OTM=', 'url': 'https://api.github.com/repos/pandas-dev/pandas/labels/ExtensionArray', 'name': 'ExtensionArray', 'color': '6138b5', 'default': False, 'description': 'Extending pandas with custom dtypes or arrays.'}], 'state': 'open', 'locked': False, 'assignee': None, 'assignees': [], 'milestone': None, 'comments': 0, 'created_at': '2023-06-21T20:28:33Z', 'updated_at': '2023-06-21T23:35:41Z', 'closed_at': None, 'author_association': 'MEMBER', 'active_lock_reason': None, 'body': 'A lot of code could be simplified internally if we were always working with EAs instead of having to check for EA-vs-ndarray.  In particular I\\'m thinking of Block.values, ArrayManager.arrays, Series._values, Index._data, Index._values, maybe frame._values.\\r\\n\\r\\nThe other big upside is that essentially all numpy-specific logic could eventually be migrated into PandasArray methods.\\r\\n\\r\\nWe could make that change without changing the .dtype/.dtypes properties, but on the margin I think the inconsistency that would introduce would be a footgun.\\r\\n\\r\\nThis might be a hassle for users who rely on obj.dtype/dtypes being np.dtype objects, or on the ndarray attributes listed above being ndarrays.\\r\\n\\r\\nIf we go down this road I think it\\'d be important to rename PandasDtype->NumpyExtensionDtype or something like it xref #53694.  Maybe even rename ExtensionDtype->Dtype.\\r\\n\\r\\nxref #24662 about implementing a dtype for tznaive dt64 and td64.\\r\\nxref #40021 which would be \"fixed\" bc the monkeypatching in the PandasArray tests would no longer be necessary.\\r\\nxref #24877 would be much more appealing if we didn\\'t need to unwrap PandasArray anytime we see it.\\r\\n\\r\\nBTW I\\'m not \"+1\" on this ATM, just thinking about it.\\r\\n', 'reactions': {'url': 'https://api.github.com/repos/pandas-dev/pandas/issues/53778/reactions', 'total_count': 0, '+1': 0, '-1': 0, 'laugh': 0, 'hooray': 0, 'confused': 0, 'heart': 0, 'rocket': 0, 'eyes': 0}, 'timeline_url': 'https://api.github.com/repos/pandas-dev/pandas/issues/53778/timeline', 'performed_via_github_app': None, 'state_reason': None}, {'url': 'https://api.github.com/repos/pandas-dev/pandas/issues/53777', 'repository_url': 'https://api.github.com/repos/pandas-dev/pandas', 'labels_url': 'https://api.github.com/repos/pandas-dev/pandas/issues/53777/labels{/name}', 'comments_url': 'https://api.github.com/repos/pandas-dev/pandas/issues/53777/comments', 'events_url': 'https://api.github.com/repos/pandas-dev/pandas/issues/53777/events', 'html_url': 'https://github.com/pandas-dev/pandas/issues/53777', 'id': 1768399717, 'node_id': 'I_kwDOAA0YD85pZ6Nl', 'number': 53777, 'title': 'BUG: \"Spinx parallel build error\" when running `python make.py html`', 'user': {'login': 'tpaxman', 'id': 39451402, 'node_id': 'MDQ6VXNlcjM5NDUxNDAy', 'avatar_url': 'https://avatars.githubusercontent.com/u/39451402?v=4', 'gravatar_id': '', 'url': 'https://api.github.com/users/tpaxman', 'html_url': 'https://github.com/tpaxman', 'followers_url': 'https://api.github.com/users/tpaxman/followers', 'following_url': 'https://api.github.com/users/tpaxman/following{/other_user}', 'gists_url': 'https://api.github.com/users/tpaxman/gists{/gist_id}', 'starred_url': 'https://api.github.com/users/tpaxman/starred{/owner}{/repo}', 'subscriptions_url': 'https://api.github.com/users/tpaxman/subscriptions', 'organizations_url': 'https://api.github.com/users/tpaxman/orgs', 'repos_url': 'https://api.github.com/users/tpaxman/repos', 'events_url': 'https://api.github.com/users/tpaxman/events{/privacy}', 'received_events_url': 'https://api.github.com/users/tpaxman/received_events', 'type': 'User', 'site_admin': False}, 'labels': [{'id': 134699, 'node_id': 'MDU6TGFiZWwxMzQ2OTk=', 'url': 'https://api.github.com/repos/pandas-dev/pandas/labels/Docs', 'name': 'Docs', 'color': '3465A4', 'default': False, 'description': None}, {'id': 307649777, 'node_id': 'MDU6TGFiZWwzMDc2NDk3Nzc=', 'url': 'https://api.github.com/repos/pandas-dev/pandas/labels/Needs%20Info', 'name': 'Needs Info', 'color': '207de5', 'default': False, 'description': 'Clarification about behavior needed to assess issue'}, {'id': 1628184320, 'node_id': 'MDU6TGFiZWwxNjI4MTg0MzIw', 'url': 'https://api.github.com/repos/pandas-dev/pandas/labels/Warnings', 'name': 'Warnings', 'color': 'f2f074', 'default': False, 'description': 'Warnings that appear or should be added to pandas'}], 'state': 'open', 'locked': False, 'assignee': None, 'assignees': [], 'milestone': None, 'comments': 2, 'created_at': '2023-06-21T20:12:02Z', 'updated_at': '2023-06-22T03:03:14Z', 'closed_at': None, 'author_association': 'CONTRIBUTOR', 'active_lock_reason': None, 'body': '### Pandas version checks\\r\\n\\r\\n- [X] I have checked that this issue has not already been reported.\\r\\n\\r\\n- [X] I have confirmed this bug exists on the [latest version](https://pandas.pydata.org/docs/whatsnew/index.html) of pandas.\\r\\n\\r\\n- [X] I have confirmed this bug exists on the [main branch](https://pandas.pydata.org/docs/dev/getting_started/install.html#installing-the-development-version-of-pandas) of pandas.\\r\\n\\r\\n\\r\\n### Reproducible Example\\r\\n\\r\\nafter setting up the pandas-dev environment and building pandas as described in the instructions, and changing to `doc/` directory run these commands:\\r\\n\\r\\n```bash\\r\\npython make.py clean\\r\\npython make.py html\\r\\n```\\r\\n\\r\\n\\r\\n### Issue Description\\r\\n\\r\\nGetting this error:\\r\\n\\r\\n```\\r\\nSphinx parallel build error:\\r\\nRuntimeError: Non Expected warning in `/home/tpaxman/code/pandas-tpaxman/doc/source/getting_started/intro_tutorials/04_plotting.rst` line 70\\r\\n```\\r\\n\\r\\nI believe there was a similar error occurring previously that was fixed with #53726 but seems that the error is happening again.\\r\\n\\r\\n### Expected Behavior\\r\\n\\r\\nNo error\\r\\n\\r\\n### Installed Versions\\r\\n\\r\\n<details>\\r\\n\\r\\nINSTALLED VERSIONS\\r\\n------------------\\r\\ncommit           : bd9a67131a48ca51248bee15df79d6a9f7f0b14a\\r\\npython           : 3.10.11.final.0\\r\\npython-bits      : 64\\r\\nOS               : Linux\\r\\nOS-release       : 5.15.90.1-microsoft-standard-WSL2\\r\\nVersion          : #1 SMP Fri Jan 27 02:56:13 UTC 2023\\r\\nmachine          : x86_64\\r\\nprocessor        : x86_64\\r\\nbyteorder        : little\\r\\nLC_ALL           : None\\r\\nLANG             : C.UTF-8\\r\\nLOCALE           : en_US.UTF-8\\r\\n\\r\\npandas           : 2.1.0.dev0+1018.gbd9a67131a\\r\\nnumpy            : 1.24.3\\r\\npytz             : 2023.3\\r\\ndateutil         : 2.8.2\\r\\nsetuptools       : 67.7.2\\r\\npip              : 23.1.2\\r\\nCython           : 0.29.33\\r\\npytest           : 7.3.2\\r\\nhypothesis       : 6.79.1\\r\\nsphinx           : 6.2.1\\r\\nblosc            : None\\r\\nfeather          : None\\r\\nxlsxwriter       : 3.1.2\\r\\nlxml.etree       : 4.9.2\\r\\nhtml5lib         : 1.1\\r\\npymysql          : 1.0.3\\r\\npsycopg2         : 2.9.3\\r\\njinja2           : 3.1.2\\r\\nIPython          : 8.14.0\\r\\npandas_datareader: None\\r\\nbs4              : 4.12.2\\r\\nbottleneck       : 1.3.7\\r\\nbrotli           :\\r\\nfastparquet      : 2023.4.0\\r\\nfsspec           : 2023.6.0\\r\\ngcsfs            : 2023.6.0\\r\\nmatplotlib       : 3.7.1\\r\\nnumba            : 0.57.0\\r\\nnumexpr          : 2.8.4\\r\\nodfpy            : None\\r\\nopenpyxl         : 3.1.2\\r\\npandas_gbq       : None\\r\\npyarrow          : 12.0.0\\r\\npyreadstat       : 1.2.2\\r\\npyxlsb           : 1.0.10\\r\\ns3fs             : 2023.6.0\\r\\nscipy            : 1.10.1\\r\\nsnappy           :\\r\\nsqlalchemy       : 2.0.16\\r\\ntables           : 3.8.0\\r\\ntabulate         : 0.9.0\\r\\nxarray           : 2023.5.0\\r\\nxlrd             : 2.0.1\\r\\nzstandard        : 0.19.0\\r\\ntzdata           : 2023.3\\r\\nqtpy             : None\\r\\npyqt5            : None\\r\\n</details>\\r\\n', 'reactions': {'url': 'https://api.github.com/repos/pandas-dev/pandas/issues/53777/reactions', 'total_count': 0, '+1': 0, '-1': 0, 'laugh': 0, 'hooray': 0, 'confused': 0, 'heart': 0, 'rocket': 0, 'eyes': 0}, 'timeline_url': 'https://api.github.com/repos/pandas-dev/pandas/issues/53777/timeline', 'performed_via_github_app': None, 'state_reason': None}, {'url': 'https://api.github.com/repos/pandas-dev/pandas/issues/53773', 'repository_url': 'https://api.github.com/repos/pandas-dev/pandas', 'labels_url': 'https://api.github.com/repos/pandas-dev/pandas/issues/53773/labels{/name}', 'comments_url': 'https://api.github.com/repos/pandas-dev/pandas/issues/53773/comments', 'events_url': 'https://api.github.com/repos/pandas-dev/pandas/issues/53773/events', 'html_url': 'https://github.com/pandas-dev/pandas/pull/53773', 'id': 1768079187, 'node_id': 'PR_kwDOAA0YD85TkrB0', 'number': 53773, 'title': 'BUG: handle none values in `json.normalize()`', 'user': {'login': 'punndcoder28', 'id': 32433964, 'node_id': 'MDQ6VXNlcjMyNDMzOTY0', 'avatar_url': 'https://avatars.githubusercontent.com/u/32433964?v=4', 'gravatar_id': '', 'url': 'https://api.github.com/users/punndcoder28', 'html_url': 'https://github.com/punndcoder28', 'followers_url': 'https://api.github.com/users/punndcoder28/followers', 'following_url': 'https://api.github.com/users/punndcoder28/following{/other_user}', 'gists_url': 'https://api.github.com/users/punndcoder28/gists{/gist_id}', 'starred_url': 'https://api.github.com/users/punndcoder28/starred{/owner}{/repo}', 'subscriptions_url': 'https://api.github.com/users/punndcoder28/subscriptions', 'organizations_url': 'https://api.github.com/users/punndcoder28/orgs', 'repos_url': 'https://api.github.com/users/punndcoder28/repos', 'events_url': 'https://api.github.com/users/punndcoder28/events{/privacy}', 'received_events_url': 'https://api.github.com/users/punndcoder28/received_events', 'type': 'User', 'site_admin': False}, 'labels': [], 'state': 'open', 'locked': False, 'assignee': None, 'assignees': [], 'milestone': None, 'comments': 0, 'created_at': '2023-06-21T17:24:19Z', 'updated_at': '2023-06-22T03:15:00Z', 'closed_at': None, 'author_association': 'CONTRIBUTOR', 'active_lock_reason': None, 'draft': False, 'pull_request': {'url': 'https://api.github.com/repos/pandas-dev/pandas/pulls/53773', 'html_url': 'https://github.com/pandas-dev/pandas/pull/53773', 'diff_url': 'https://github.com/pandas-dev/pandas/pull/53773.diff', 'patch_url': 'https://github.com/pandas-dev/pandas/pull/53773.patch', 'merged_at': None}, 'body': 'This PR fixes the error which is thrown when a field value in `json` is `null` while `json_normalize` it to a `DataFrame`. Implemented tests to validate the change\\r\\n\\r\\n- [x] closes #53719 \\r\\n- [x] [Tests added and passed](https://pandas.pydata.org/pandas-docs/dev/development/contributing_codebase.html#writing-tests) if fixing a bug or adding a new feature\\r\\n- [x] All [code checks passed](https://pandas.pydata.org/pandas-docs/dev/development/contributing_codebase.html#pre-commit).\\r\\n- [ ] Added [type annotations](https://pandas.pydata.org/pandas-docs/dev/development/contributing_codebase.html#type-hints) to new arguments/methods/functions.\\r\\n- [ ] Added an entry in the latest `doc/source/whatsnew/vX.X.X.rst` file if fixing a bug or adding a new feature.\\r\\n', 'reactions': {'url': 'https://api.github.com/repos/pandas-dev/pandas/issues/53773/reactions', 'total_count': 0, '+1': 0, '-1': 0, 'laugh': 0, 'hooray': 0, 'confused': 0, 'heart': 0, 'rocket': 0, 'eyes': 0}, 'timeline_url': 'https://api.github.com/repos/pandas-dev/pandas/issues/53773/timeline', 'performed_via_github_app': None, 'state_reason': None}, {'url': 'https://api.github.com/repos/pandas-dev/pandas/issues/53772', 'repository_url': 'https://api.github.com/repos/pandas-dev/pandas', 'labels_url': 'https://api.github.com/repos/pandas-dev/pandas/issues/53772/labels{/name}', 'comments_url': 'https://api.github.com/repos/pandas-dev/pandas/issues/53772/comments', 'events_url': 'https://api.github.com/repos/pandas-dev/pandas/issues/53772/events', 'html_url': 'https://github.com/pandas-dev/pandas/pull/53772', 'id': 1767861713, 'node_id': 'PR_kwDOAA0YD85Tj9Yl', 'number': 53772, 'title': 'PERF: concat in no-reindexing case', 'user': {'login': 'jbrockmendel', 'id': 8078968, 'node_id': 'MDQ6VXNlcjgwNzg5Njg=', 'avatar_url': 'https://avatars.githubusercontent.com/u/8078968?v=4', 'gravatar_id': '', 'url': 'https://api.github.com/users/jbrockmendel', 'html_url': 'https://github.com/jbrockmendel', 'followers_url': 'https://api.github.com/users/jbrockmendel/followers', 'following_url': 'https://api.github.com/users/jbrockmendel/following{/other_user}', 'gists_url': 'https://api.github.com/users/jbrockmendel/gists{/gist_id}', 'starred_url': 'https://api.github.com/users/jbrockmendel/starred{/owner}{/repo}', 'subscriptions_url': 'https://api.github.com/users/jbrockmendel/subscriptions', 'organizations_url': 'https://api.github.com/users/jbrockmendel/orgs', 'repos_url': 'https://api.github.com/users/jbrockmendel/repos', 'events_url': 'https://api.github.com/users/jbrockmendel/events{/privacy}', 'received_events_url': 'https://api.github.com/users/jbrockmendel/received_events', 'type': 'User', 'site_admin': False}, 'labels': [{'id': 8935311, 'node_id': 'MDU6TGFiZWw4OTM1MzEx', 'url': 'https://api.github.com/repos/pandas-dev/pandas/labels/Performance', 'name': 'Performance', 'color': 'a10c02', 'default': False, 'description': 'Memory or execution speed performance'}, {'id': 13098779, 'node_id': 'MDU6TGFiZWwxMzA5ODc3OQ==', 'url': 'https://api.github.com/repos/pandas-dev/pandas/labels/Reshaping', 'name': 'Reshaping', 'color': '02d7e1', 'default': False, 'description': 'Concat, Merge/Join, Stack/Unstack, Explode'}], 'state': 'open', 'locked': False, 'assignee': None, 'assignees': [], 'milestone': None, 'comments': 0, 'created_at': '2023-06-21T15:24:15Z', 'updated_at': '2023-06-21T15:46:53Z', 'closed_at': None, 'author_association': 'MEMBER', 'active_lock_reason': None, 'draft': False, 'pull_request': {'url': 'https://api.github.com/repos/pandas-dev/pandas/pulls/53772', 'html_url': 'https://github.com/pandas-dev/pandas/pull/53772', 'diff_url': 'https://github.com/pandas-dev/pandas/pull/53772.diff', 'patch_url': 'https://github.com/pandas-dev/pandas/pull/53772.patch', 'merged_at': None}, 'body': '- [ ] closes #xxxx (Replace xxxx with the GitHub issue number)\\r\\n- [ ] [Tests added and passed](https://pandas.pydata.org/pandas-docs/dev/development/contributing_codebase.html#writing-tests) if fixing a bug or adding a new feature\\r\\n- [ ] All [code checks passed](https://pandas.pydata.org/pandas-docs/dev/development/contributing_codebase.html#pre-commit).\\r\\n- [ ] Added [type annotations](https://pandas.pydata.org/pandas-docs/dev/development/contributing_codebase.html#type-hints) to new arguments/methods/functions.\\r\\n- [ ] Added an entry in the latest `doc/source/whatsnew/vX.X.X.rst` file if fixing a bug or adding a new feature.\\r\\n', 'reactions': {'url': 'https://api.github.com/repos/pandas-dev/pandas/issues/53772/reactions', 'total_count': 0, '+1': 0, '-1': 0, 'laugh': 0, 'hooray': 0, 'confused': 0, 'heart': 0, 'rocket': 0, 'eyes': 0}, 'timeline_url': 'https://api.github.com/repos/pandas-dev/pandas/issues/53772/timeline', 'performed_via_github_app': None, 'state_reason': None}, {'url': 'https://api.github.com/repos/pandas-dev/pandas/issues/53771', 'repository_url': 'https://api.github.com/repos/pandas-dev/pandas', 'labels_url': 'https://api.github.com/repos/pandas-dev/pandas/issues/53771/labels{/name}', 'comments_url': 'https://api.github.com/repos/pandas-dev/pandas/issues/53771/comments', 'events_url': 'https://api.github.com/repos/pandas-dev/pandas/issues/53771/events', 'html_url': 'https://github.com/pandas-dev/pandas/pull/53771', 'id': 1767851183, 'node_id': 'PR_kwDOAA0YD85Tj7GT', 'number': 53771, 'title': 'PERF: avoid unnecessary casting in merge', 'user': {'login': 'jbrockmendel', 'id': 8078968, 'node_id': 'MDQ6VXNlcjgwNzg5Njg=', 'avatar_url': 'https://avatars.githubusercontent.com/u/8078968?v=4', 'gravatar_id': '', 'url': 'https://api.github.com/users/jbrockmendel', 'html_url': 'https://github.com/jbrockmendel', 'followers_url': 'https://api.github.com/users/jbrockmendel/followers', 'following_url': 'https://api.github.com/users/jbrockmendel/following{/other_user}', 'gists_url': 'https://api.github.com/users/jbrockmendel/gists{/gist_id}', 'starred_url': 'https://api.github.com/users/jbrockmendel/starred{/owner}{/repo}', 'subscriptions_url': 'https://api.github.com/users/jbrockmendel/subscriptions', 'organizations_url': 'https://api.github.com/users/jbrockmendel/orgs', 'repos_url': 'https://api.github.com/users/jbrockmendel/repos', 'events_url': 'https://api.github.com/users/jbrockmendel/events{/privacy}', 'received_events_url': 'https://api.github.com/users/jbrockmendel/received_events', 'type': 'User', 'site_admin': False}, 'labels': [{'id': 8935311, 'node_id': 'MDU6TGFiZWw4OTM1MzEx', 'url': 'https://api.github.com/repos/pandas-dev/pandas/labels/Performance', 'name': 'Performance', 'color': 'a10c02', 'default': False, 'description': 'Memory or execution speed performance'}, {'id': 13098779, 'node_id': 'MDU6TGFiZWwxMzA5ODc3OQ==', 'url': 'https://api.github.com/repos/pandas-dev/pandas/labels/Reshaping', 'name': 'Reshaping', 'color': '02d7e1', 'default': False, 'description': 'Concat, Merge/Join, Stack/Unstack, Explode'}], 'state': 'open', 'locked': False, 'assignee': None, 'assignees': [], 'milestone': None, 'comments': 0, 'created_at': '2023-06-21T15:19:01Z', 'updated_at': '2023-06-21T17:07:29Z', 'closed_at': None, 'author_association': 'MEMBER', 'active_lock_reason': None, 'draft': False, 'pull_request': {'url': 'https://api.github.com/repos/pandas-dev/pandas/pulls/53771', 'html_url': 'https://github.com/pandas-dev/pandas/pull/53771', 'diff_url': 'https://github.com/pandas-dev/pandas/pull/53771.diff', 'patch_url': 'https://github.com/pandas-dev/pandas/pull/53771.patch', 'merged_at': None}, 'body': '- [ ] closes #xxxx (Replace xxxx with the GitHub issue number)\\r\\n- [ ] [Tests added and passed](https://pandas.pydata.org/pandas-docs/dev/development/contributing_codebase.html#writing-tests) if fixing a bug or adding a new feature\\r\\n- [ ] All [code checks passed](https://pandas.pydata.org/pandas-docs/dev/development/contributing_codebase.html#pre-commit).\\r\\n- [ ] Added [type annotations](https://pandas.pydata.org/pandas-docs/dev/development/contributing_codebase.html#type-hints) to new arguments/methods/functions.\\r\\n- [ ] Added an entry in the latest `doc/source/whatsnew/vX.X.X.rst` file if fixing a bug or adding a new feature.\\r\\n', 'reactions': {'url': 'https://api.github.com/repos/pandas-dev/pandas/issues/53771/reactions', 'total_count': 0, '+1': 0, '-1': 0, 'laugh': 0, 'hooray': 0, 'confused': 0, 'heart': 0, 'rocket': 0, 'eyes': 0}, 'timeline_url': 'https://api.github.com/repos/pandas-dev/pandas/issues/53771/timeline', 'performed_via_github_app': None, 'state_reason': None}, {'url': 'https://api.github.com/repos/pandas-dev/pandas/issues/53769', 'repository_url': 'https://api.github.com/repos/pandas-dev/pandas', 'labels_url': 'https://api.github.com/repos/pandas-dev/pandas/issues/53769/labels{/name}', 'comments_url': 'https://api.github.com/repos/pandas-dev/pandas/issues/53769/comments', 'events_url': 'https://api.github.com/repos/pandas-dev/pandas/issues/53769/events', 'html_url': 'https://github.com/pandas-dev/pandas/pull/53769', 'id': 1767398868, 'node_id': 'PR_kwDOAA0YD85TiXWO', 'number': 53769, 'title': 'DEPR: deprecate returning a tuple from a callable in iloc indexing', 'user': {'login': 'wence-', 'id': 1126981, 'node_id': 'MDQ6VXNlcjExMjY5ODE=', 'avatar_url': 'https://avatars.githubusercontent.com/u/1126981?v=4', 'gravatar_id': '', 'url': 'https://api.github.com/users/wence-', 'html_url': 'https://github.com/wence-', 'followers_url': 'https://api.github.com/users/wence-/followers', 'following_url': 'https://api.github.com/users/wence-/following{/other_user}', 'gists_url': 'https://api.github.com/users/wence-/gists{/gist_id}', 'starred_url': 'https://api.github.com/users/wence-/starred{/owner}{/repo}', 'subscriptions_url': 'https://api.github.com/users/wence-/subscriptions', 'organizations_url': 'https://api.github.com/users/wence-/orgs', 'repos_url': 'https://api.github.com/users/wence-/repos', 'events_url': 'https://api.github.com/users/wence-/events{/privacy}', 'received_events_url': 'https://api.github.com/users/wence-/received_events', 'type': 'User', 'site_admin': False}, 'labels': [{'id': 2822098, 'node_id': 'MDU6TGFiZWwyODIyMDk4', 'url': 'https://api.github.com/repos/pandas-dev/pandas/labels/Indexing', 'name': 'Indexing', 'color': '0b02e1', 'default': False, 'description': 'Related to indexing on series/frames, not to indexes themselves'}, {'id': 87485152, 'node_id': 'MDU6TGFiZWw4NzQ4NTE1Mg==', 'url': 'https://api.github.com/repos/pandas-dev/pandas/labels/Deprecate', 'name': 'Deprecate', 'color': '5319e7', 'default': False, 'description': 'Functionality to remove in pandas'}], 'state': 'open', 'locked': False, 'assignee': None, 'assignees': [], 'milestone': None, 'comments': 1, 'created_at': '2023-06-21T11:40:50Z', 'updated_at': '2023-06-21T17:56:36Z', 'closed_at': None, 'author_association': 'CONTRIBUTOR', 'active_lock_reason': None, 'draft': False, 'pull_request': {'url': 'https://api.github.com/repos/pandas-dev/pandas/pulls/53769', 'html_url': 'https://github.com/pandas-dev/pandas/pull/53769', 'diff_url': 'https://github.com/pandas-dev/pandas/pull/53769.diff', 'patch_url': 'https://github.com/pandas-dev/pandas/pull/53769.patch', 'merged_at': None}, 'body': 'The current semantics are that tuple-destructuring of the key is\\r\\nperformed before unwinding any callables. As such, if a callable\\r\\nreturns a tuple for iloc, it will be handled incorrectly. To avoid\\r\\nthis, explicitly deprecate support for this behaviour.\\r\\n\\r\\n- [x] closes #53533\\r\\n- [x] [Tests added and passed](https://pandas.pydata.org/pandas-docs/dev/development/contributing_codebase.html#writing-tests) if fixing a bug or adding a new feature\\r\\n- [x] All [code checks passed](https://pandas.pydata.org/pandas-docs/dev/development/contributing_codebase.html#pre-commit).\\r\\n- ~[ ] Added [type annotations](https://pandas.pydata.org/pandas-docs/dev/development/contributing_codebase.html#type-hints) to new arguments/methods/functions.~\\r\\n- [x] Added an entry in the latest `doc/source/whatsnew/vX.X.X.rst` file if fixing a bug or adding a new feature.\\r\\n', 'reactions': {'url': 'https://api.github.com/repos/pandas-dev/pandas/issues/53769/reactions', 'total_count': 0, '+1': 0, '-1': 0, 'laugh': 0, 'hooray': 0, 'confused': 0, 'heart': 0, 'rocket': 0, 'eyes': 0}, 'timeline_url': 'https://api.github.com/repos/pandas-dev/pandas/issues/53769/timeline', 'performed_via_github_app': None, 'state_reason': None}, {'url': 'https://api.github.com/repos/pandas-dev/pandas/issues/53767', 'repository_url': 'https://api.github.com/repos/pandas-dev/pandas', 'labels_url': 'https://api.github.com/repos/pandas-dev/pandas/issues/53767/labels{/name}', 'comments_url': 'https://api.github.com/repos/pandas-dev/pandas/issues/53767/comments', 'events_url': 'https://api.github.com/repos/pandas-dev/pandas/issues/53767/events', 'html_url': 'https://github.com/pandas-dev/pandas/issues/53767', 'id': 1767168091, 'node_id': 'I_kwDOAA0YD85pVNhb', 'number': 53767, 'title': '[DEPR]: Remove literal string/bytes input from `read_excel`, `read_html`, and `read_xml`', 'user': {'login': 'wence-', 'id': 1126981, 'node_id': 'MDQ6VXNlcjExMjY5ODE=', 'avatar_url': 'https://avatars.githubusercontent.com/u/1126981?v=4', 'gravatar_id': '', 'url': 'https://api.github.com/users/wence-', 'html_url': 'https://github.com/wence-', 'followers_url': 'https://api.github.com/users/wence-/followers', 'following_url': 'https://api.github.com/users/wence-/following{/other_user}', 'gists_url': 'https://api.github.com/users/wence-/gists{/gist_id}', 'starred_url': 'https://api.github.com/users/wence-/starred{/owner}{/repo}', 'subscriptions_url': 'https://api.github.com/users/wence-/subscriptions', 'organizations_url': 'https://api.github.com/users/wence-/orgs', 'repos_url': 'https://api.github.com/users/wence-/repos', 'events_url': 'https://api.github.com/users/wence-/events{/privacy}', 'received_events_url': 'https://api.github.com/users/wence-/received_events', 'type': 'User', 'site_admin': False}, 'labels': [{'id': 2301354, 'node_id': 'MDU6TGFiZWwyMzAxMzU0', 'url': 'https://api.github.com/repos/pandas-dev/pandas/labels/IO%20Data', 'name': 'IO Data', 'color': '06909A', 'default': False, 'description': \"IO issues that don't fit into a more specific label\"}, {'id': 87485152, 'node_id': 'MDU6TGFiZWw4NzQ4NTE1Mg==', 'url': 'https://api.github.com/repos/pandas-dev/pandas/labels/Deprecate', 'name': 'Deprecate', 'color': '5319e7', 'default': False, 'description': 'Functionality to remove in pandas'}], 'state': 'open', 'locked': False, 'assignee': {'login': 'rmhowe425', 'id': 45905457, 'node_id': 'MDQ6VXNlcjQ1OTA1NDU3', 'avatar_url': 'https://avatars.githubusercontent.com/u/45905457?v=4', 'gravatar_id': '', 'url': 'https://api.github.com/users/rmhowe425', 'html_url': 'https://github.com/rmhowe425', 'followers_url': 'https://api.github.com/users/rmhowe425/followers', 'following_url': 'https://api.github.com/users/rmhowe425/following{/other_user}', 'gists_url': 'https://api.github.com/users/rmhowe425/gists{/gist_id}', 'starred_url': 'https://api.github.com/users/rmhowe425/starred{/owner}{/repo}', 'subscriptions_url': 'https://api.github.com/users/rmhowe425/subscriptions', 'organizations_url': 'https://api.github.com/users/rmhowe425/orgs', 'repos_url': 'https://api.github.com/users/rmhowe425/repos', 'events_url': 'https://api.github.com/users/rmhowe425/events{/privacy}', 'received_events_url': 'https://api.github.com/users/rmhowe425/received_events', 'type': 'User', 'site_admin': False}, 'assignees': [{'login': 'rmhowe425', 'id': 45905457, 'node_id': 'MDQ6VXNlcjQ1OTA1NDU3', 'avatar_url': 'https://avatars.githubusercontent.com/u/45905457?v=4', 'gravatar_id': '', 'url': 'https://api.github.com/users/rmhowe425', 'html_url': 'https://github.com/rmhowe425', 'followers_url': 'https://api.github.com/users/rmhowe425/followers', 'following_url': 'https://api.github.com/users/rmhowe425/following{/other_user}', 'gists_url': 'https://api.github.com/users/rmhowe425/gists{/gist_id}', 'starred_url': 'https://api.github.com/users/rmhowe425/starred{/owner}{/repo}', 'subscriptions_url': 'https://api.github.com/users/rmhowe425/subscriptions', 'organizations_url': 'https://api.github.com/users/rmhowe425/orgs', 'repos_url': 'https://api.github.com/users/rmhowe425/repos', 'events_url': 'https://api.github.com/users/rmhowe425/events{/privacy}', 'received_events_url': 'https://api.github.com/users/rmhowe425/received_events', 'type': 'User', 'site_admin': False}], 'milestone': None, 'comments': 2, 'created_at': '2023-06-21T09:23:50Z', 'updated_at': '2023-06-21T22:36:54Z', 'closed_at': None, 'author_association': 'CONTRIBUTOR', 'active_lock_reason': None, 'body': \"Following on from #52271 and #53409 (and to close out #5924), here is the state of play for IO routines in terms of what they accept as input \\r\\n\\r\\n- `read_clipboard`: doesn't take input argument\\r\\n- `read_csv`: pathlike, BinaryIO, StringIO\\r\\n- `read_excel`: pathlike, BinaryIO, engine-specific objects, literal bytes\\r\\n- `read_feather`: pathlike, BinaryIO\\r\\n- `read_fwf`: pathlike, BinaryIO, StringIO\\r\\n- `read_gbq`: SQL query (str)\\r\\n- `read_hdf`: pathlike, pytables.HDFStore\\r\\n- `read_html`: pathlike, BinaryIO, StringIO, literal bytes, literal string\\r\\n- `read_json`: pathlike, BinaryIO, StringIO, literal string (deprecated in #53409)\\r\\n- `read_orc`: pathlike, BinaryIO\\r\\n- `read_parquet`: pathlike, BinaryIO\\r\\n- `read_pickle`: pathlike, BinaryIO\\r\\n- `read_sas`: pathlike, BinaryIO\\r\\n- `read_spss`: pathlike (pyreadstat doesn't allow reading from a buffer)\\r\\n- `read_sql_query`: SQL query (str)\\r\\n- `read_sql_table`: name of database table (str)\\r\\n- `read_stata`: pathlike, BinaryIO\\r\\n- `read_table`: pathlike, BinaryIO, StringIO\\r\\n- `read_xml`: pathlike, BinaryIO, StringIO, literal bytes, literal string\\r\\n\\r\\nSo some, but not all, of the textual formats support reading literally, some support reading bytes as well as strings, and some of the binary formats support reading literal bytes.\\r\\n\\r\\nHaving deprecated literal input to `read_json` I suggest it makes sense to therefore also do so for:\\r\\n\\r\\n- `read_excel`\\r\\n- `read_html`\\r\\n- `read_xml`\\r\\n\", 'reactions': {'url': 'https://api.github.com/repos/pandas-dev/pandas/issues/53767/reactions', 'total_count': 0, '+1': 0, '-1': 0, 'laugh': 0, 'hooray': 0, 'confused': 0, 'heart': 0, 'rocket': 0, 'eyes': 0}, 'timeline_url': 'https://api.github.com/repos/pandas-dev/pandas/issues/53767/timeline', 'performed_via_github_app': None, 'state_reason': None}, {'url': 'https://api.github.com/repos/pandas-dev/pandas/issues/53764', 'repository_url': 'https://api.github.com/repos/pandas-dev/pandas', 'labels_url': 'https://api.github.com/repos/pandas-dev/pandas/issues/53764/labels{/name}', 'comments_url': 'https://api.github.com/repos/pandas-dev/pandas/issues/53764/comments', 'events_url': 'https://api.github.com/repos/pandas-dev/pandas/issues/53764/events', 'html_url': 'https://github.com/pandas-dev/pandas/pull/53764', 'id': 1766824913, 'node_id': 'PR_kwDOAA0YD85TgaKW', 'number': 53764, 'title': 'BUG: bad display for complex series with nan', 'user': {'login': 'Charlie-XIAO', 'id': 108576690, 'node_id': 'U_kgDOBni_sg', 'avatar_url': 'https://avatars.githubusercontent.com/u/108576690?v=4', 'gravatar_id': '', 'url': 'https://api.github.com/users/Charlie-XIAO', 'html_url': 'https://github.com/Charlie-XIAO', 'followers_url': 'https://api.github.com/users/Charlie-XIAO/followers', 'following_url': 'https://api.github.com/users/Charlie-XIAO/following{/other_user}', 'gists_url': 'https://api.github.com/users/Charlie-XIAO/gists{/gist_id}', 'starred_url': 'https://api.github.com/users/Charlie-XIAO/starred{/owner}{/repo}', 'subscriptions_url': 'https://api.github.com/users/Charlie-XIAO/subscriptions', 'organizations_url': 'https://api.github.com/users/Charlie-XIAO/orgs', 'repos_url': 'https://api.github.com/users/Charlie-XIAO/repos', 'events_url': 'https://api.github.com/users/Charlie-XIAO/events{/privacy}', 'received_events_url': 'https://api.github.com/users/Charlie-XIAO/received_events', 'type': 'User', 'site_admin': False}, 'labels': [{'id': 13101118, 'node_id': 'MDU6TGFiZWwxMzEwMTExOA==', 'url': 'https://api.github.com/repos/pandas-dev/pandas/labels/Output-Formatting', 'name': 'Output-Formatting', 'color': 'ededed', 'default': False, 'description': '__repr__ of pandas objects, to_string'}, {'id': 172091424, 'node_id': 'MDU6TGFiZWwxNzIwOTE0MjQ=', 'url': 'https://api.github.com/repos/pandas-dev/pandas/labels/Complex', 'name': 'Complex', 'color': '009800', 'default': False, 'description': 'Complex Numbers'}], 'state': 'open', 'locked': False, 'assignee': None, 'assignees': [], 'milestone': None, 'comments': 0, 'created_at': '2023-06-21T06:09:34Z', 'updated_at': '2023-06-21T16:37:24Z', 'closed_at': None, 'author_association': 'CONTRIBUTOR', 'active_lock_reason': None, 'draft': False, 'pull_request': {'url': 'https://api.github.com/repos/pandas-dev/pandas/pulls/53764', 'html_url': 'https://github.com/pandas-dev/pandas/pull/53764', 'diff_url': 'https://github.com/pandas-dev/pandas/pull/53764.diff', 'patch_url': 'https://github.com/pandas-dev/pandas/pull/53764.patch', 'merged_at': None}, 'body': '- [ ] Closes #53762\\r\\n- [x] [Tests added and passed](https://pandas.pydata.org/pandas-docs/dev/development/contributing_codebase.html#writing-tests)\\r\\n- [x] All [code checks passed](https://pandas.pydata.org/pandas-docs/dev/development/contributing_codebase.html#pre-commit)\\r\\n- [ ] *Not sure if this needs a changelog entry, because previously series/dataframes with complex nans will raise.*', 'reactions': {'url': 'https://api.github.com/repos/pandas-dev/pandas/issues/53764/reactions', 'total_count': 0, '+1': 0, '-1': 0, 'laugh': 0, 'hooray': 0, 'confused': 0, 'heart': 0, 'rocket': 0, 'eyes': 0}, 'timeline_url': 'https://api.github.com/repos/pandas-dev/pandas/issues/53764/timeline', 'performed_via_github_app': None, 'state_reason': None}, {'url': 'https://api.github.com/repos/pandas-dev/pandas/issues/53763', 'repository_url': 'https://api.github.com/repos/pandas-dev/pandas', 'labels_url': 'https://api.github.com/repos/pandas-dev/pandas/issues/53763/labels{/name}', 'comments_url': 'https://api.github.com/repos/pandas-dev/pandas/issues/53763/comments', 'events_url': 'https://api.github.com/repos/pandas-dev/pandas/issues/53763/events', 'html_url': 'https://github.com/pandas-dev/pandas/issues/53763', 'id': 1766748624, 'node_id': 'I_kwDOAA0YD85pTnHQ', 'number': 53763, 'title': 'DOC: discrepancies in read_csv docstring between docstring guide or type hints', 'user': {'login': 'tpaxman', 'id': 39451402, 'node_id': 'MDQ6VXNlcjM5NDUxNDAy', 'avatar_url': 'https://avatars.githubusercontent.com/u/39451402?v=4', 'gravatar_id': '', 'url': 'https://api.github.com/users/tpaxman', 'html_url': 'https://github.com/tpaxman', 'followers_url': 'https://api.github.com/users/tpaxman/followers', 'following_url': 'https://api.github.com/users/tpaxman/following{/other_user}', 'gists_url': 'https://api.github.com/users/tpaxman/gists{/gist_id}', 'starred_url': 'https://api.github.com/users/tpaxman/starred{/owner}{/repo}', 'subscriptions_url': 'https://api.github.com/users/tpaxman/subscriptions', 'organizations_url': 'https://api.github.com/users/tpaxman/orgs', 'repos_url': 'https://api.github.com/users/tpaxman/repos', 'events_url': 'https://api.github.com/users/tpaxman/events{/privacy}', 'received_events_url': 'https://api.github.com/users/tpaxman/received_events', 'type': 'User', 'site_admin': False}, 'labels': [{'id': 134699, 'node_id': 'MDU6TGFiZWwxMzQ2OTk=', 'url': 'https://api.github.com/repos/pandas-dev/pandas/labels/Docs', 'name': 'Docs', 'color': '3465A4', 'default': False, 'description': None}, {'id': 1954720290, 'node_id': 'MDU6TGFiZWwxOTU0NzIwMjkw', 'url': 'https://api.github.com/repos/pandas-dev/pandas/labels/Needs%20Triage', 'name': 'Needs Triage', 'color': '0052cc', 'default': False, 'description': 'Issue that has not been reviewed by a pandas team member'}], 'state': 'open', 'locked': False, 'assignee': None, 'assignees': [], 'milestone': None, 'comments': 0, 'created_at': '2023-06-21T05:43:46Z', 'updated_at': '2023-06-21T18:53:32Z', 'closed_at': None, 'author_association': 'CONTRIBUTOR', 'active_lock_reason': None, 'body': '### Pandas version checks\\r\\n\\r\\n- [X] I have checked that the issue still exists on the latest versions of the docs on `main` [here](https://pandas.pydata.org/docs/dev/)\\r\\n\\r\\n\\r\\n### Location of the documentation\\r\\n\\r\\nhttps://pandas.pydata.org/docs/reference/api/pandas.read_csv.html\\r\\n\\r\\n### Documentation problem\\r\\n\\r\\nI have been reviewing the docstring for `read_csv` to add some clarifying edits in a PR and encountered some questions while reviewing the parameter descriptions. I found there were a few cases where the parameter types summary did not appear to align with the docstring specifications, as well as a few cases where the description of the types seems to differ from the type hints in the function signature. \\r\\n\\r\\nI have made an attempt at describing those discrepancies here and have added a few questions in as well just to get clarification on how things are done. Once I get things figured out here, I\\'ll plan to make any appropriate corrections to the docstring in a PR.\\r\\n\\r\\n# Parameters potentially needing edits\\r\\n\\r\\n## sep:\\r\\n\\r\\n* **type hint**:   `str | None | lib.NoDefault = lib.no_default`\\r\\n* **description**: *str, default \\',\\'*\\r\\n\\r\\nWhy is the default not just `\\',\\'` rather than `lib.no_default`?\\r\\n\\r\\n\\r\\n## delimiter:\\r\\n\\r\\n* **type hint**:   `str | None | lib.NoDefault = None`\\r\\n* **description**: *str, default None*\\r\\n\\r\\nIt appears that *default None* should be replaced with *str, optional*\\r\\n\\r\\nAlso, I noticed for most parameters if the type hint includes `lib.NoDefault` then the default value is `lib.no_default` but this one has `None` instead. What is the reason this one is different? (And I have more questions about the `no_default` flag later on.)\\r\\n\\r\\n\\r\\n## header:\\r\\n\\r\\n* **type hint**:   `int | Sequence[int] | None | Literal[\"infer\"] = \"infer\"`\\r\\n* **description**: *int, list of int, None, default \\'infer\\'*\\r\\n\\r\\nI would expect *\\'infer\\'* to occur in the list of options before being highlighted as the default, like so:\\r\\n*int, list of int, \\'infer\\' or None, default \\'infer\\'*\\r\\n\\r\\n\\r\\n## names:\\r\\n\\r\\n* **type hint**:   `Sequence[Hashable] | None | lib.NoDefault = lib.no_default`\\r\\n* **description**: *array-like, optional*\\r\\n\\r\\nIs there a reason it is described as *array-like*? It seems to only need to be a sequence of unique names which would be more like an ordered set, or for simplicity maybe just *list-like*? Or should it really be *list of Hashable* to be specific? Or even better *Sequence of Hashable*?\\r\\n\\r\\n\\r\\n## index_col:\\r\\n\\r\\n* **type hint**:   `IndexLabel | Literal[False] | None = None`\\r\\n* **description**: *int, str, sequence of int / str, or False, optional, default None*\\r\\n\\r\\nit appears the *default None* is redundant since *optional* is already specified, so I assume this can be removed, is that correct? Something like:\\r\\n*int, str, list of int, list of str or False, optional*\\r\\n\\r\\nAlso, I notice that *list* is used in the descriptions rather than *sequence* in most cases although*sequence* might be more accurate and descriptive. I\\'m wondering if there\\'s a reason for that being used less often. This seems to be the only parameter that employs *sequence* in its description.\\r\\n\\r\\n\\r\\n## usecols:\\r\\n\\r\\n* **type hint**:   `list[HashableT] | Callable[[Hashable], bool] | None = None`\\r\\n* **description**: *list-like or callable, optional*\\r\\n\\r\\nSince the order of this parameter does not affect the result, and presumably only unique values are allowed, I am wondering if it would be clearer to describe it as *set-like*? *List-like* still seems appropriate but just wondering if it could be more specific to highlight the idea that order will not be preserved.\\r\\n\\r\\n## dtype:\\r\\n\\r\\n* **type hint**:   `DtypeArg | None = None`\\r\\n* **description**: *Type name or dict of column -> type, optional*\\r\\n\\r\\nFrom the docstring guide, it looks like the description of a dict should refer to its data types, not necessarily their meaning. And it says to use *dict of {key : value}* so would something like this be more appropriate?\\r\\n*type, Hashable or dict of {Hashable : type or str}, optional*\\r\\n\\r\\n\\r\\n## engine:\\r\\n\\r\\n* **type hint**:   `CSVEngine | None = None`\\r\\n* **description**: *{\\'c\\', \\'python\\', \\'pyarrow\\'}, optional*\\r\\n\\r\\nThis description does not appear to specify the behavior when `None` is passed. Does it default to the \\'c\\' engine? It seems like older versions used to say this, but I don\\'t see it explicitly described in the current version. And if so, would it then make sense to define the type hint as folllow?\\r\\n`CSVEngine = \\'c\\'`\\r\\n\\r\\n\\r\\n## converters:\\r\\n\\r\\n* **type hint**:   `Mapping[Hashable, Callable] | None = None`\\r\\n* **description**: *dict, optional*\\r\\n\\r\\nThe docstring guide suggest this description should be:\\r\\n*dict of {Hashable : Callable}*\\r\\n\\r\\n\\r\\n\\r\\n## skiprows:\\r\\n\\r\\n* **type hint**:   `list[int] | int | Callable[[Hashable], bool] | None = None`\\r\\n* **description**: *list-like, int or callable, optional*\\r\\n\\r\\nThis could be made more specific by changing to::\\r\\n*list of int, int or Callable, optional*\\r\\n\\r\\n\\r\\n## na_values:\\r\\n\\r\\n* **type hint**:   `Sequence[str] | Mapping[str, Sequence[str]] | None = None`\\r\\n* **description**: *scalar, str, list-like, or dict, optional*\\r\\n\\r\\nThe mention of *scalar* as a valid type is not clear to me; what would that be referring to? Also, it says that *str* is a valid input; however, the type hint does not include that as an option. What should be changed to resolve this?\\r\\n\\r\\n\\r\\n## parse_dates:\\r\\n\\r\\n* **type hint**:   `bool | Sequence[Hashable] | None = None`\\r\\n* **description**: *bool or list of int or names or list of lists or dict, default False*\\r\\n\\r\\nThis also appears to not align with the type hint which says you can only assign either a bool or a list. Also the default seems to actually be `None`, yet the description says it\\'s `False`. Looking for clarification here.\\r\\n\\r\\n\\r\\n## infer_datetime_format:\\r\\n\\r\\n* **type hint**:   `bool | lib.NoDefault = lib.no_default`\\r\\n* **description**: *bool, default False*\\r\\n\\r\\nIt appears that the default is technically `lib.no_default` but descibed to be `False`. What is the reason for doing this rather than assigning its default as `False`, such as how `keep_date_col` is defined?\\r\\n\\r\\n\\r\\n## date_parser:\\r\\n\\r\\n* **type hint**:   `Callable | lib.NoDefault = lib.no_default`\\r\\n* **description**: *function, optional*\\r\\n\\r\\nCould be updated to use a specific type, i.e.:\\r\\n*Callable, optional*\\r\\n\\r\\nAlso, what is the reason for using `lib.no_default` instead of just `None`?\\r\\n\\r\\n\\r\\n## date_format:\\r\\n\\r\\n* **type hint**:   `str | None = None`\\r\\n* **description**: *str or dict of column -> format, default None*\\r\\n\\r\\nThe type hint does not appear to match the description here as there is no mention of `dict` being a valid argument. Is the description out of date or vice versa?\\r\\n\\r\\nIf the description is accurate, then Similar to `dtype`, this could be updated as:\\r\\n*str or dict of {Hashable : str}, optional*\\r\\n\\r\\n\\r\\n## compression:\\r\\n\\r\\n* **type hint**:   `CompressionOptions = \"infer\"`\\r\\n* **description**: *str or dict, default \\'infer\\'*\\r\\n\\r\\nCould the `dict` in the description be updated as `dict of {k : v}`? If so, what would the valid types be for k and v, as I was not totally clear about it from the description.\\r\\n\\r\\n\\r\\n## thousands:\\r\\n\\r\\n* **type hint**:   `str | None = None`\\r\\n* **description**: *str, optional*\\r\\n\\r\\nI assume this should be a *str (length 1)* like some other parameters. Should that be updated?\\r\\n\\r\\n\\r\\n## decimal:\\r\\n\\r\\n* **type hint**:   `str = \".\"`\\r\\n* **description**: *str, default \\'.\\'*\\r\\n\\r\\nI assume this should be a *str (length 1)* like some other parameters. Should that be updated?\\r\\n\\r\\n\\r\\n## quoting:\\r\\n\\r\\n* **type hint**:   `int = csv.QUOTE_MINIMAL`\\r\\n* **description**: *int or csv.QUOTE_\\\\* instance, default 0*\\r\\n\\r\\nIt would make sense to add some context to the default here, maybe something like:\\r\\n*int or csv.QUOTE_\\\\* instance, default 0 meaning csv.QUOTE_MINIMAL*\\r\\n\\r\\n\\r\\n\\r\\n## comment:\\r\\n\\r\\n* **type hint**:   `str | None = None`\\r\\n* **description**: *str, optional*\\r\\n\\r\\nThe description says this should be a single character so it should be changed to:\\r\\n*str (length 1), optional*\\r\\n\\r\\n## encoding:\\r\\n\\r\\n* **type hint**:   `str | None = None`\\r\\n* **description**: *str, optional, default \"utf-8\"*\\r\\n\\r\\n\\r\\nThe default is technically `None` but the description says *optional, default \\'utf-8\\'*. Is there a reason the default is not just \\'utf-8\\' instead of None?\\r\\n\\r\\n\\r\\n## encoding_errors:\\r\\n\\r\\n* **type hint**:   `str | None = \"strict\"`\\r\\n* **description**: *str, optional, default \"strict\"*\\r\\n\\r\\nI am wondering why this is both optional and has a default. What is the behavior when `None` is passed?\\r\\n\\r\\n\\r\\n\\r\\n## on_bad_lines:\\r\\n\\r\\n* **type hint**:   `str = \"error\"`\\r\\n* **description**: *{\\'error\\', \\'warn\\', \\'skip\\'} or callable, default \\'error\\'*\\r\\n\\r\\n\\r\\nThe type hint does not mention Callable as an option as described in the docstring. Does this need to be updated?\\r\\n\\r\\n\\r\\n## float_precision:\\r\\n\\r\\n* **type hint**:   `Literal[\"high\", \"legacy\"] | None = None`\\r\\n* **description**: *str, optional*\\r\\n\\r\\nIt looks like the description should not be the generic `str`, but rather:\\r\\n*{\\'high\\', \\'legacy\\'}, optional*\\r\\n\\r\\n## dtype_backend:\\r\\n\\r\\n* **type hint**:   `DtypeBackend | lib.NoDefault = lib.no_default`\\r\\n* **description**: *{\"numpy_nullable\", \"pyarrow\"}, defaults to NumPy backed DataFrames*\\r\\n\\r\\nGiven that this defaults to NumPy backed DataFrames, why is `lib.no_default` used rather than just `\\'numpy_nullable\\'*?\\r\\n\\r\\n\\r\\n# General Questions:\\r\\n\\r\\nHere is a summary of the most common questions that came up while reviewing the parameters:\\r\\n\\r\\n* Why are some \\'optional\\' parameters not assigned `None` and instead use `lib.no_default` (e.g., `delimiter`, `index_col`, `date_format`)?\\r\\n* Why are some values with defined default behavior not assigned a literal that would trigger that behaviour but instead use `None` or `lib.no_default` as a flag (e.g., `encoding`, `dtype_backend`)?\\r\\n* What is the appropriate way to describe a \\'list-like\\' object? Is there a best practice for using \\'list of <type>\\' vs. \\'list-like\\' vs. \\'array-like\\' vs. \\'sequence`?\\r\\n\\r\\n\\r\\n### Suggested fix for documentation\\r\\n\\r\\nMy suggested fix would be to create a PR where I update each parameter description as described in the Documentation Problem section such that the descriptions align with both the docstring guide and the function signature\\'s type hints in every case.', 'reactions': {'url': 'https://api.github.com/repos/pandas-dev/pandas/issues/53763/reactions', 'total_count': 0, '+1': 0, '-1': 0, 'laugh': 0, 'hooray': 0, 'confused': 0, 'heart': 0, 'rocket': 0, 'eyes': 0}, 'timeline_url': 'https://api.github.com/repos/pandas-dev/pandas/issues/53763/timeline', 'performed_via_github_app': None, 'state_reason': None}, {'url': 'https://api.github.com/repos/pandas-dev/pandas/issues/53762', 'repository_url': 'https://api.github.com/repos/pandas-dev/pandas', 'labels_url': 'https://api.github.com/repos/pandas-dev/pandas/issues/53762/labels{/name}', 'comments_url': 'https://api.github.com/repos/pandas-dev/pandas/issues/53762/comments', 'events_url': 'https://api.github.com/repos/pandas-dev/pandas/issues/53762/events', 'html_url': 'https://github.com/pandas-dev/pandas/issues/53762', 'id': 1766622599, 'node_id': 'I_kwDOAA0YD85pTIWH', 'number': 53762, 'title': 'BUG: bad display for complex series with nan', 'user': {'login': 'Charlie-XIAO', 'id': 108576690, 'node_id': 'U_kgDOBni_sg', 'avatar_url': 'https://avatars.githubusercontent.com/u/108576690?v=4', 'gravatar_id': '', 'url': 'https://api.github.com/users/Charlie-XIAO', 'html_url': 'https://github.com/Charlie-XIAO', 'followers_url': 'https://api.github.com/users/Charlie-XIAO/followers', 'following_url': 'https://api.github.com/users/Charlie-XIAO/following{/other_user}', 'gists_url': 'https://api.github.com/users/Charlie-XIAO/gists{/gist_id}', 'starred_url': 'https://api.github.com/users/Charlie-XIAO/starred{/owner}{/repo}', 'subscriptions_url': 'https://api.github.com/users/Charlie-XIAO/subscriptions', 'organizations_url': 'https://api.github.com/users/Charlie-XIAO/orgs', 'repos_url': 'https://api.github.com/users/Charlie-XIAO/repos', 'events_url': 'https://api.github.com/users/Charlie-XIAO/events{/privacy}', 'received_events_url': 'https://api.github.com/users/Charlie-XIAO/received_events', 'type': 'User', 'site_admin': False}, 'labels': [{'id': 76811, 'node_id': 'MDU6TGFiZWw3NjgxMQ==', 'url': 'https://api.github.com/repos/pandas-dev/pandas/labels/Bug', 'name': 'Bug', 'color': 'e10c02', 'default': False, 'description': None}, {'id': 1954720290, 'node_id': 'MDU6TGFiZWwxOTU0NzIwMjkw', 'url': 'https://api.github.com/repos/pandas-dev/pandas/labels/Needs%20Triage', 'name': 'Needs Triage', 'color': '0052cc', 'default': False, 'description': 'Issue that has not been reviewed by a pandas team member'}], 'state': 'open', 'locked': False, 'assignee': {'login': 'Charlie-XIAO', 'id': 108576690, 'node_id': 'U_kgDOBni_sg', 'avatar_url': 'https://avatars.githubusercontent.com/u/108576690?v=4', 'gravatar_id': '', 'url': 'https://api.github.com/users/Charlie-XIAO', 'html_url': 'https://github.com/Charlie-XIAO', 'followers_url': 'https://api.github.com/users/Charlie-XIAO/followers', 'following_url': 'https://api.github.com/users/Charlie-XIAO/following{/other_user}', 'gists_url': 'https://api.github.com/users/Charlie-XIAO/gists{/gist_id}', 'starred_url': 'https://api.github.com/users/Charlie-XIAO/starred{/owner}{/repo}', 'subscriptions_url': 'https://api.github.com/users/Charlie-XIAO/subscriptions', 'organizations_url': 'https://api.github.com/users/Charlie-XIAO/orgs', 'repos_url': 'https://api.github.com/users/Charlie-XIAO/repos', 'events_url': 'https://api.github.com/users/Charlie-XIAO/events{/privacy}', 'received_events_url': 'https://api.github.com/users/Charlie-XIAO/received_events', 'type': 'User', 'site_admin': False}, 'assignees': [{'login': 'Charlie-XIAO', 'id': 108576690, 'node_id': 'U_kgDOBni_sg', 'avatar_url': 'https://avatars.githubusercontent.com/u/108576690?v=4', 'gravatar_id': '', 'url': 'https://api.github.com/users/Charlie-XIAO', 'html_url': 'https://github.com/Charlie-XIAO', 'followers_url': 'https://api.github.com/users/Charlie-XIAO/followers', 'following_url': 'https://api.github.com/users/Charlie-XIAO/following{/other_user}', 'gists_url': 'https://api.github.com/users/Charlie-XIAO/gists{/gist_id}', 'starred_url': 'https://api.github.com/users/Charlie-XIAO/starred{/owner}{/repo}', 'subscriptions_url': 'https://api.github.com/users/Charlie-XIAO/subscriptions', 'organizations_url': 'https://api.github.com/users/Charlie-XIAO/orgs', 'repos_url': 'https://api.github.com/users/Charlie-XIAO/repos', 'events_url': 'https://api.github.com/users/Charlie-XIAO/events{/privacy}', 'received_events_url': 'https://api.github.com/users/Charlie-XIAO/received_events', 'type': 'User', 'site_admin': False}], 'milestone': None, 'comments': 1, 'created_at': '2023-06-21T03:39:40Z', 'updated_at': '2023-06-21T05:38:10Z', 'closed_at': None, 'author_association': 'CONTRIBUTOR', 'active_lock_reason': None, 'body': '### Pandas version checks\\r\\n\\r\\n- [x] I have checked that this issue has not already been reported.\\r\\n- [ ] I have confirmed this bug exists on the [latest version](https://pandas.pydata.org/docs/whatsnew/index.html) of pandas.\\r\\n- [x] I have confirmed this bug exists on the [main branch](https://pandas.pydata.org/docs/dev/getting_started/install.html#installing-the-development-version-of-pandas) of pandas.\\r\\n\\r\\n\\r\\n### Reproducible Example\\r\\n\\r\\n```python\\r\\n>>> import pandas as pd\\r\\n>>> pd.Series([complex(\"nan\")])\\r\\n0   NaN\\r\\ndtype: complex128\\r\\n>>> pd.Series([1, complex(\"nan\"), 2])\\r\\n0    1.0+0.0j\\r\\n1   N000a000N\\r\\n2    2.0+0.0j\\r\\ndtype: complex128\\r\\n```\\r\\n\\r\\n\\r\\n### Issue Description\\r\\n\\r\\nRelated to #53682, which fixes the problem that series with complex nan raises. See also https://github.com/pandas-dev/pandas/pull/53682#issuecomment-1593419718 in which the repr is buggy. This is likely caused by the `FloatArrayFormatter`, which does not distinguish float nan and complex nan (both treated as `NaN`). However, complex nan will go through the alignment process of complex numbers, which assumes the format of `x.x+x.xj`. One possible solution is to treat complex nans as `NaN+0.0j` (unlike float nans). I will investigate to see if there are better solutions, and if not make a PR for this.\\r\\n\\r\\n### Expected Behavior\\r\\n\\r\\n```python\\r\\n>>> import pandas as pd\\r\\n>>> pd.Series([complex(\"nan\")])\\r\\n0   NaN+0.0j\\r\\ndtype: complex128\\r\\n>>> pd.Series([1, complex(\"nan\"), 2])\\r\\n0   1.0+0.0j\\r\\n1   NaN+0.0j\\r\\n2   2.0+0.0j\\r\\ndtype: complex128\\r\\n```\\r\\n\\r\\n### Installed Versions\\r\\n\\r\\n<details>\\r\\n\\r\\n<p></p>\\r\\n\\r\\n```\\r\\nINSTALLED VERSIONS\\r\\n------------------\\r\\ncommit           : d36da2b77c4e9b6a7e5064bde0f2775bcf989c69\\r\\npython           : 3.9.6.final.0\\r\\npython-bits      : 64\\r\\nOS               : Windows\\r\\nOS-release       : 10\\r\\nVersion          : 10.0.22621\\r\\nmachine          : AMD64\\r\\nprocessor        : Intel64 Family 6 Model 158 Stepping 10, GenuineIntel     \\r\\nbyteorder        : little\\r\\nLC_ALL           : None\\r\\nLANG             : en_US.UTF-8\\r\\nLOCALE           : Chinese (Simplified)_China.936\\r\\n\\r\\npandas           : 2.1.0.dev0+1007.gd36da2b77c\\r\\nnumpy            : 1.24.3\\r\\npytz             : 2023.3\\r\\ndateutil         : 2.8.2\\r\\nsetuptools       : 56.0.0\\r\\npip              : 21.1.3\\r\\nCython           : 0.29.33\\r\\npytest           : 7.3.2\\r\\nhypothesis       : 6.78.2\\r\\nsphinx           : 6.2.1\\r\\nblosc            : 1.11.1\\r\\nfeather          : None\\r\\nxlsxwriter       : 3.1.2\\r\\nlxml.etree       : 4.9.2\\r\\nhtml5lib         : 1.1\\r\\npymysql          : 1.0.3\\r\\npsycopg2         : 2.9.6\\r\\njinja2           : 3.1.2\\r\\nIPython          : 8.14.0\\r\\npandas_datareader: None\\r\\nbs4              : 4.12.2\\r\\nbottleneck       : 1.3.7\\r\\nbrotli           :\\r\\nfastparquet      : 2023.4.0\\r\\nfsspec           : 2023.6.0\\r\\ngcsfs            : 2023.6.0\\r\\nmatplotlib       : 3.7.1\\r\\nnumba            : 0.57.0\\r\\nnumexpr          : 2.8.4\\r\\nodfpy            : None\\r\\nopenpyxl         : 3.1.2\\r\\npandas_gbq       : None\\r\\npyarrow          : 12.0.1\\r\\npyreadstat       : 1.2.2\\r\\npyxlsb           : 1.0.10\\r\\ns3fs             : 2023.6.0\\r\\nscipy            : 1.10.1\\r\\nsnappy           :\\r\\nsqlalchemy       : 2.0.16\\r\\ntables           : 3.8.0\\r\\ntabulate         : 0.9.0\\r\\nxarray           : 2023.5.0\\r\\nxlrd             : 2.0.1\\r\\nzstandard        : 0.21.0\\r\\ntzdata           : 2023.3\\r\\nqtpy             : None\\r\\npyqt5            : None\\r\\n```\\r\\n\\r\\n</details>\\r\\n', 'reactions': {'url': 'https://api.github.com/repos/pandas-dev/pandas/issues/53762/reactions', 'total_count': 0, '+1': 0, '-1': 0, 'laugh': 0, 'hooray': 0, 'confused': 0, 'heart': 0, 'rocket': 0, 'eyes': 0}, 'timeline_url': 'https://api.github.com/repos/pandas-dev/pandas/issues/53762/timeline', 'performed_via_github_app': None, 'state_reason': None}, {'url': 'https://api.github.com/repos/pandas-dev/pandas/issues/53761', 'repository_url': 'https://api.github.com/repos/pandas-dev/pandas', 'labels_url': 'https://api.github.com/repos/pandas-dev/pandas/issues/53761/labels{/name}', 'comments_url': 'https://api.github.com/repos/pandas-dev/pandas/issues/53761/comments', 'events_url': 'https://api.github.com/repos/pandas-dev/pandas/issues/53761/events', 'html_url': 'https://github.com/pandas-dev/pandas/issues/53761', 'id': 1766573701, 'node_id': 'I_kwDOAA0YD85pS8aF', 'number': 53761, 'title': 'DEPR: DataFrame.stack with on columns containing duplicate values', 'user': {'login': 'rhshadrach', 'id': 45562402, 'node_id': 'MDQ6VXNlcjQ1NTYyNDAy', 'avatar_url': 'https://avatars.githubusercontent.com/u/45562402?v=4', 'gravatar_id': '', 'url': 'https://api.github.com/users/rhshadrach', 'html_url': 'https://github.com/rhshadrach', 'followers_url': 'https://api.github.com/users/rhshadrach/followers', 'following_url': 'https://api.github.com/users/rhshadrach/following{/other_user}', 'gists_url': 'https://api.github.com/users/rhshadrach/gists{/gist_id}', 'starred_url': 'https://api.github.com/users/rhshadrach/starred{/owner}{/repo}', 'subscriptions_url': 'https://api.github.com/users/rhshadrach/subscriptions', 'organizations_url': 'https://api.github.com/users/rhshadrach/orgs', 'repos_url': 'https://api.github.com/users/rhshadrach/repos', 'events_url': 'https://api.github.com/users/rhshadrach/events{/privacy}', 'received_events_url': 'https://api.github.com/users/rhshadrach/received_events', 'type': 'User', 'site_admin': False}, 'labels': [{'id': 76811, 'node_id': 'MDU6TGFiZWw3NjgxMQ==', 'url': 'https://api.github.com/repos/pandas-dev/pandas/labels/Bug', 'name': 'Bug', 'color': 'e10c02', 'default': False, 'description': None}, {'id': 13098779, 'node_id': 'MDU6TGFiZWwxMzA5ODc3OQ==', 'url': 'https://api.github.com/repos/pandas-dev/pandas/labels/Reshaping', 'name': 'Reshaping', 'color': '02d7e1', 'default': False, 'description': 'Concat, Merge/Join, Stack/Unstack, Explode'}, {'id': 87485152, 'node_id': 'MDU6TGFiZWw4NzQ4NTE1Mg==', 'url': 'https://api.github.com/repos/pandas-dev/pandas/labels/Deprecate', 'name': 'Deprecate', 'color': '5319e7', 'default': False, 'description': 'Functionality to remove in pandas'}, {'id': 219960758, 'node_id': 'MDU6TGFiZWwyMTk5NjA3NTg=', 'url': 'https://api.github.com/repos/pandas-dev/pandas/labels/Needs%20Discussion', 'name': 'Needs Discussion', 'color': '207de5', 'default': False, 'description': 'Requires discussion from core team before further action'}], 'state': 'open', 'locked': False, 'assignee': None, 'assignees': [], 'milestone': None, 'comments': 0, 'created_at': '2023-06-21T02:42:39Z', 'updated_at': '2023-06-21T02:43:22Z', 'closed_at': None, 'author_association': 'MEMBER', 'active_lock_reason': None, 'body': 'With MultiIndex columns, we get incorrect results\\r\\n\\r\\n```\\r\\n  columns = pd.MultiIndex(\\r\\n      levels=[[\"a\", \"b\"], [\"x\", \"y\"]],\\r\\n      codes=[[0, 1, 0], [0, 1, 0]],\\r\\n      names=[\"l1\", \"l2\"],\\r\\n  )\\r\\n  df = pd.DataFrame(np.arange(6).reshape((2, 3)), columns=columns)\\r\\n  print(df)\\r\\n  # l1  a  b  a\\r\\n  # l2  x  y  z\\r\\n  # 0   0  1  2\\r\\n  # 1   3  4  5\\r\\n  \\r\\n  print(df.stack(0))\\r\\n  # l2    x    y\\r\\n  #   l1\\r\\n  # 0 a   0  NaN\\r\\n  #   b   2  1.0\\r\\n  # 1 a   3  NaN\\r\\n  #   b   5  4.0\\r\\n```\\r\\n\\r\\nIn particular, the value of `df` indexed by `(0, (a, z))` is 2, and this gets moved to the value indexed by `((0, b), x)`. The `z` column gets dropped entirely.\\r\\n\\r\\nTaking the same example but with an Index gives a more reasonable result:\\r\\n\\r\\n```\\r\\ndf = df.droplevel(1, axis=1)\\r\\nprint(df)\\r\\n# l1  a  b  a\\r\\n# 0   0  1  2\\r\\n# 1   3  4  5\\r\\n\\r\\nprint(df.stack(0))\\r\\n#    l1\\r\\n# 0  a     0\\r\\n#    b     1\\r\\n#    a     2\\r\\n# 1  a     3\\r\\n#    b     4\\r\\n#    a     5\\r\\n# dtype: int64\\r\\n```\\r\\n\\r\\nHowever, I think this is still inconsistent with the rest of stack: it\\'s the only case where the values in the index coming from the columns have duplicate values.\\r\\n\\r\\nAccessing particular subsets of a DataFrame when the columns have duplicate values is fraught with difficulty. I think we should deprecate supporting duplicate values and in the future raise instead.', 'reactions': {'url': 'https://api.github.com/repos/pandas-dev/pandas/issues/53761/reactions', 'total_count': 0, '+1': 0, '-1': 0, 'laugh': 0, 'hooray': 0, 'confused': 0, 'heart': 0, 'rocket': 0, 'eyes': 0}, 'timeline_url': 'https://api.github.com/repos/pandas-dev/pandas/issues/53761/timeline', 'performed_via_github_app': None, 'state_reason': None}, {'url': 'https://api.github.com/repos/pandas-dev/pandas/issues/53757', 'repository_url': 'https://api.github.com/repos/pandas-dev/pandas', 'labels_url': 'https://api.github.com/repos/pandas-dev/pandas/issues/53757/labels{/name}', 'comments_url': 'https://api.github.com/repos/pandas-dev/pandas/issues/53757/comments', 'events_url': 'https://api.github.com/repos/pandas-dev/pandas/issues/53757/events', 'html_url': 'https://github.com/pandas-dev/pandas/pull/53757', 'id': 1766493820, 'node_id': 'PR_kwDOAA0YD85TfbeR', 'number': 53757, 'title': 'BUG: to_json not serializing non-nanosecond numpy dt64 correctly', 'user': {'login': 'lithomas1', 'id': 47963215, 'node_id': 'MDQ6VXNlcjQ3OTYzMjE1', 'avatar_url': 'https://avatars.githubusercontent.com/u/47963215?v=4', 'gravatar_id': '', 'url': 'https://api.github.com/users/lithomas1', 'html_url': 'https://github.com/lithomas1', 'followers_url': 'https://api.github.com/users/lithomas1/followers', 'following_url': 'https://api.github.com/users/lithomas1/following{/other_user}', 'gists_url': 'https://api.github.com/users/lithomas1/gists{/gist_id}', 'starred_url': 'https://api.github.com/users/lithomas1/starred{/owner}{/repo}', 'subscriptions_url': 'https://api.github.com/users/lithomas1/subscriptions', 'organizations_url': 'https://api.github.com/users/lithomas1/orgs', 'repos_url': 'https://api.github.com/users/lithomas1/repos', 'events_url': 'https://api.github.com/users/lithomas1/events{/privacy}', 'received_events_url': 'https://api.github.com/users/lithomas1/received_events', 'type': 'User', 'site_admin': False}, 'labels': [{'id': 49379259, 'node_id': 'MDU6TGFiZWw0OTM3OTI1OQ==', 'url': 'https://api.github.com/repos/pandas-dev/pandas/labels/IO%20JSON', 'name': 'IO JSON', 'color': '207de5', 'default': False, 'description': 'read_json, to_json, json_normalize'}], 'state': 'open', 'locked': False, 'assignee': None, 'assignees': [], 'milestone': None, 'comments': 3, 'created_at': '2023-06-21T01:08:32Z', 'updated_at': '2023-06-22T02:44:36Z', 'closed_at': None, 'author_association': 'MEMBER', 'active_lock_reason': None, 'draft': False, 'pull_request': {'url': 'https://api.github.com/repos/pandas-dev/pandas/pulls/53757', 'html_url': 'https://github.com/pandas-dev/pandas/pull/53757', 'diff_url': 'https://github.com/pandas-dev/pandas/pull/53757.diff', 'patch_url': 'https://github.com/pandas-dev/pandas/pull/53757.patch', 'merged_at': None}, 'body': '- [ ] closes #53686 (Replace xxxx with the GitHub issue number)\\r\\n- [ ] [Tests added and passed](https://pandas.pydata.org/pandas-docs/dev/development/contributing_codebase.html#writing-tests) if fixing a bug or adding a new feature\\r\\n- [ ] All [code checks passed](https://pandas.pydata.org/pandas-docs/dev/development/contributing_codebase.html#pre-commit).\\r\\n- [ ] Added [type annotations](https://pandas.pydata.org/pandas-docs/dev/development/contributing_codebase.html#type-hints) to new arguments/methods/functions.\\r\\n- [ ] Added an entry in the latest `doc/source/whatsnew/vX.X.X.rst` file if fixing a bug or adding a new feature.\\r\\n', 'reactions': {'url': 'https://api.github.com/repos/pandas-dev/pandas/issues/53757/reactions', 'total_count': 0, '+1': 0, '-1': 0, 'laugh': 0, 'hooray': 0, 'confused': 0, 'heart': 0, 'rocket': 0, 'eyes': 0}, 'timeline_url': 'https://api.github.com/repos/pandas-dev/pandas/issues/53757/timeline', 'performed_via_github_app': None, 'state_reason': None}, {'url': 'https://api.github.com/repos/pandas-dev/pandas/issues/53756', 'repository_url': 'https://api.github.com/repos/pandas-dev/pandas', 'labels_url': 'https://api.github.com/repos/pandas-dev/pandas/issues/53756/labels{/name}', 'comments_url': 'https://api.github.com/repos/pandas-dev/pandas/issues/53756/comments', 'events_url': 'https://api.github.com/repos/pandas-dev/pandas/issues/53756/events', 'html_url': 'https://github.com/pandas-dev/pandas/pull/53756', 'id': 1766385096, 'node_id': 'PR_kwDOAA0YD85TfMIP', 'number': 53756, 'title': 'POC: DataFrame.stack not including NA rows', 'user': {'login': 'rhshadrach', 'id': 45562402, 'node_id': 'MDQ6VXNlcjQ1NTYyNDAy', 'avatar_url': 'https://avatars.githubusercontent.com/u/45562402?v=4', 'gravatar_id': '', 'url': 'https://api.github.com/users/rhshadrach', 'html_url': 'https://github.com/rhshadrach', 'followers_url': 'https://api.github.com/users/rhshadrach/followers', 'following_url': 'https://api.github.com/users/rhshadrach/following{/other_user}', 'gists_url': 'https://api.github.com/users/rhshadrach/gists{/gist_id}', 'starred_url': 'https://api.github.com/users/rhshadrach/starred{/owner}{/repo}', 'subscriptions_url': 'https://api.github.com/users/rhshadrach/subscriptions', 'organizations_url': 'https://api.github.com/users/rhshadrach/orgs', 'repos_url': 'https://api.github.com/users/rhshadrach/repos', 'events_url': 'https://api.github.com/users/rhshadrach/events{/privacy}', 'received_events_url': 'https://api.github.com/users/rhshadrach/received_events', 'type': 'User', 'site_admin': False}, 'labels': [{'id': 13098779, 'node_id': 'MDU6TGFiZWwxMzA5ODc3OQ==', 'url': 'https://api.github.com/repos/pandas-dev/pandas/labels/Reshaping', 'name': 'Reshaping', 'color': '02d7e1', 'default': False, 'description': 'Concat, Merge/Join, Stack/Unstack, Explode'}], 'state': 'open', 'locked': False, 'assignee': None, 'assignees': [], 'milestone': None, 'comments': 1, 'created_at': '2023-06-21T00:25:50Z', 'updated_at': '2023-06-21T02:45:15Z', 'closed_at': None, 'author_association': 'MEMBER', 'active_lock_reason': None, 'draft': True, 'pull_request': {'url': 'https://api.github.com/repos/pandas-dev/pandas/pulls/53756', 'html_url': 'https://github.com/pandas-dev/pandas/pull/53756', 'diff_url': 'https://github.com/pandas-dev/pandas/pull/53756.diff', 'patch_url': 'https://github.com/pandas-dev/pandas/pull/53756.patch', 'merged_at': None}, 'body': 'Demonstration for #53515\\r\\n\\r\\n- [ ] [Tests added and passed](https://pandas.pydata.org/pandas-docs/dev/development/contributing_codebase.html#writing-tests) if fixing a bug or adding a new feature\\r\\n- [ ] All [code checks passed](https://pandas.pydata.org/pandas-docs/dev/development/contributing_codebase.html#pre-commit).\\r\\n- [ ] Added [type annotations](https://pandas.pydata.org/pandas-docs/dev/development/contributing_codebase.html#type-hints) to new arguments/methods/functions.\\r\\n- [ ] Added an entry in the latest `doc/source/whatsnew/vX.X.X.rst` file if fixing a bug or adding a new feature.\\r\\n', 'reactions': {'url': 'https://api.github.com/repos/pandas-dev/pandas/issues/53756/reactions', 'total_count': 0, '+1': 0, '-1': 0, 'laugh': 0, 'hooray': 0, 'confused': 0, 'heart': 0, 'rocket': 0, 'eyes': 0}, 'timeline_url': 'https://api.github.com/repos/pandas-dev/pandas/issues/53756/timeline', 'performed_via_github_app': None, 'state_reason': None}, {'url': 'https://api.github.com/repos/pandas-dev/pandas/issues/53754', 'repository_url': 'https://api.github.com/repos/pandas-dev/pandas', 'labels_url': 'https://api.github.com/repos/pandas-dev/pandas/issues/53754/labels{/name}', 'comments_url': 'https://api.github.com/repos/pandas-dev/pandas/issues/53754/comments', 'events_url': 'https://api.github.com/repos/pandas-dev/pandas/issues/53754/events', 'html_url': 'https://github.com/pandas-dev/pandas/pull/53754', 'id': 1766295775, 'node_id': 'PR_kwDOAA0YD85Te7rg', 'number': 53754, 'title': 'TST: Make test_complibs deterministic', 'user': {'login': 'mroeschke', 'id': 10647082, 'node_id': 'MDQ6VXNlcjEwNjQ3MDgy', 'avatar_url': 'https://avatars.githubusercontent.com/u/10647082?v=4', 'gravatar_id': '', 'url': 'https://api.github.com/users/mroeschke', 'html_url': 'https://github.com/mroeschke', 'followers_url': 'https://api.github.com/users/mroeschke/followers', 'following_url': 'https://api.github.com/users/mroeschke/following{/other_user}', 'gists_url': 'https://api.github.com/users/mroeschke/gists{/gist_id}', 'starred_url': 'https://api.github.com/users/mroeschke/starred{/owner}{/repo}', 'subscriptions_url': 'https://api.github.com/users/mroeschke/subscriptions', 'organizations_url': 'https://api.github.com/users/mroeschke/orgs', 'repos_url': 'https://api.github.com/users/mroeschke/repos', 'events_url': 'https://api.github.com/users/mroeschke/events{/privacy}', 'received_events_url': 'https://api.github.com/users/mroeschke/received_events', 'type': 'User', 'site_admin': False}, 'labels': [{'id': 48070600, 'node_id': 'MDU6TGFiZWw0ODA3MDYwMA==', 'url': 'https://api.github.com/repos/pandas-dev/pandas/labels/CI', 'name': 'CI', 'color': 'a2bca7', 'default': False, 'description': 'Continuous Integration'}, {'id': 76939933, 'node_id': 'MDU6TGFiZWw3NjkzOTkzMw==', 'url': 'https://api.github.com/repos/pandas-dev/pandas/labels/Unreliable%20Test', 'name': 'Unreliable Test', 'color': '5319e7', 'default': False, 'description': 'Unit tests that occasionally fail'}], 'state': 'open', 'locked': False, 'assignee': None, 'assignees': [], 'milestone': {'url': 'https://api.github.com/repos/pandas-dev/pandas/milestones/106', 'html_url': 'https://github.com/pandas-dev/pandas/milestone/106', 'labels_url': 'https://api.github.com/repos/pandas-dev/pandas/milestones/106/labels', 'id': 9445821, 'node_id': 'MI_kwDOAA0YD84AkCG9', 'number': 106, 'title': '2.0.3', 'description': 'on-merge: backport to 2.0.x', 'creator': {'login': 'datapythonista', 'id': 10058240, 'node_id': 'MDQ6VXNlcjEwMDU4MjQw', 'avatar_url': 'https://avatars.githubusercontent.com/u/10058240?v=4', 'gravatar_id': '', 'url': 'https://api.github.com/users/datapythonista', 'html_url': 'https://github.com/datapythonista', 'followers_url': 'https://api.github.com/users/datapythonista/followers', 'following_url': 'https://api.github.com/users/datapythonista/following{/other_user}', 'gists_url': 'https://api.github.com/users/datapythonista/gists{/gist_id}', 'starred_url': 'https://api.github.com/users/datapythonista/starred{/owner}{/repo}', 'subscriptions_url': 'https://api.github.com/users/datapythonista/subscriptions', 'organizations_url': 'https://api.github.com/users/datapythonista/orgs', 'repos_url': 'https://api.github.com/users/datapythonista/repos', 'events_url': 'https://api.github.com/users/datapythonista/events{/privacy}', 'received_events_url': 'https://api.github.com/users/datapythonista/received_events', 'type': 'User', 'site_admin': False}, 'open_issues': 18, 'closed_issues': 43, 'state': 'open', 'created_at': '2023-05-26T07:34:47Z', 'updated_at': '2023-06-21T20:39:30Z', 'due_on': None, 'closed_at': None}, 'comments': 0, 'created_at': '2023-06-20T22:36:14Z', 'updated_at': '2023-06-22T03:19:19Z', 'closed_at': None, 'author_association': 'MEMBER', 'active_lock_reason': None, 'draft': False, 'pull_request': {'url': 'https://api.github.com/repos/pandas-dev/pandas/pulls/53754', 'html_url': 'https://github.com/pandas-dev/pandas/pull/53754', 'diff_url': 'https://github.com/pandas-dev/pandas/pull/53754.diff', 'patch_url': 'https://github.com/pandas-dev/pandas/pull/53754.patch', 'merged_at': None}, 'body': 'This tests seems to be flaky in the CI, hopefully making this test deterministic fixes things', 'reactions': {'url': 'https://api.github.com/repos/pandas-dev/pandas/issues/53754/reactions', 'total_count': 0, '+1': 0, '-1': 0, 'laugh': 0, 'hooray': 0, 'confused': 0, 'heart': 0, 'rocket': 0, 'eyes': 0}, 'timeline_url': 'https://api.github.com/repos/pandas-dev/pandas/issues/53754/timeline', 'performed_via_github_app': None, 'state_reason': None}, {'url': 'https://api.github.com/repos/pandas-dev/pandas/issues/53753', 'repository_url': 'https://api.github.com/repos/pandas-dev/pandas', 'labels_url': 'https://api.github.com/repos/pandas-dev/pandas/issues/53753/labels{/name}', 'comments_url': 'https://api.github.com/repos/pandas-dev/pandas/issues/53753/comments', 'events_url': 'https://api.github.com/repos/pandas-dev/pandas/issues/53753/events', 'html_url': 'https://github.com/pandas-dev/pandas/pull/53753', 'id': 1766269934, 'node_id': 'PR_kwDOAA0YD85Te2cF', 'number': 53753, 'title': 'CI: Clean GH Action caches older than 1 week', 'user': {'login': 'mroeschke', 'id': 10647082, 'node_id': 'MDQ6VXNlcjEwNjQ3MDgy', 'avatar_url': 'https://avatars.githubusercontent.com/u/10647082?v=4', 'gravatar_id': '', 'url': 'https://api.github.com/users/mroeschke', 'html_url': 'https://github.com/mroeschke', 'followers_url': 'https://api.github.com/users/mroeschke/followers', 'following_url': 'https://api.github.com/users/mroeschke/following{/other_user}', 'gists_url': 'https://api.github.com/users/mroeschke/gists{/gist_id}', 'starred_url': 'https://api.github.com/users/mroeschke/starred{/owner}{/repo}', 'subscriptions_url': 'https://api.github.com/users/mroeschke/subscriptions', 'organizations_url': 'https://api.github.com/users/mroeschke/orgs', 'repos_url': 'https://api.github.com/users/mroeschke/repos', 'events_url': 'https://api.github.com/users/mroeschke/events{/privacy}', 'received_events_url': 'https://api.github.com/users/mroeschke/received_events', 'type': 'User', 'site_admin': False}, 'labels': [{'id': 48070600, 'node_id': 'MDU6TGFiZWw0ODA3MDYwMA==', 'url': 'https://api.github.com/repos/pandas-dev/pandas/labels/CI', 'name': 'CI', 'color': 'a2bca7', 'default': False, 'description': 'Continuous Integration'}], 'state': 'open', 'locked': False, 'assignee': None, 'assignees': [], 'milestone': {'url': 'https://api.github.com/repos/pandas-dev/pandas/milestones/103', 'html_url': 'https://github.com/pandas-dev/pandas/milestone/103', 'labels_url': 'https://api.github.com/repos/pandas-dev/pandas/milestones/103/labels', 'id': 9068593, 'node_id': 'MI_kwDOAA0YD84AimAx', 'number': 103, 'title': '2.1', 'description': '', 'creator': {'login': 'phofl', 'id': 61934744, 'node_id': 'MDQ6VXNlcjYxOTM0NzQ0', 'avatar_url': 'https://avatars.githubusercontent.com/u/61934744?v=4', 'gravatar_id': '', 'url': 'https://api.github.com/users/phofl', 'html_url': 'https://github.com/phofl', 'followers_url': 'https://api.github.com/users/phofl/followers', 'following_url': 'https://api.github.com/users/phofl/following{/other_user}', 'gists_url': 'https://api.github.com/users/phofl/gists{/gist_id}', 'starred_url': 'https://api.github.com/users/phofl/starred{/owner}{/repo}', 'subscriptions_url': 'https://api.github.com/users/phofl/subscriptions', 'organizations_url': 'https://api.github.com/users/phofl/orgs', 'repos_url': 'https://api.github.com/users/phofl/repos', 'events_url': 'https://api.github.com/users/phofl/events{/privacy}', 'received_events_url': 'https://api.github.com/users/phofl/received_events', 'type': 'User', 'site_admin': False}, 'open_issues': 26, 'closed_issues': 774, 'state': 'open', 'created_at': '2023-02-20T21:04:36Z', 'updated_at': '2023-06-22T01:09:56Z', 'due_on': '2023-08-20T07:00:00Z', 'closed_at': None}, 'comments': 0, 'created_at': '2023-06-20T22:07:13Z', 'updated_at': '2023-06-20T22:07:14Z', 'closed_at': None, 'author_association': 'MEMBER', 'active_lock_reason': None, 'draft': False, 'pull_request': {'url': 'https://api.github.com/repos/pandas-dev/pandas/pulls/53753', 'html_url': 'https://github.com/pandas-dev/pandas/pull/53753', 'diff_url': 'https://github.com/pandas-dev/pandas/pull/53753.diff', 'patch_url': 'https://github.com/pandas-dev/pandas/pull/53753.patch', 'merged_at': None}, 'body': 'Adds a job that runs daily to clean GH Action caches older than 1 week old so that dependencies cached in CI jobs can still regularly pick up new version in a reasonable timeline', 'reactions': {'url': 'https://api.github.com/repos/pandas-dev/pandas/issues/53753/reactions', 'total_count': 0, '+1': 0, '-1': 0, 'laugh': 0, 'hooray': 0, 'confused': 0, 'heart': 0, 'rocket': 0, 'eyes': 0}, 'timeline_url': 'https://api.github.com/repos/pandas-dev/pandas/issues/53753/timeline', 'performed_via_github_app': None, 'state_reason': None}, {'url': 'https://api.github.com/repos/pandas-dev/pandas/issues/53746', 'repository_url': 'https://api.github.com/repos/pandas-dev/pandas', 'labels_url': 'https://api.github.com/repos/pandas-dev/pandas/issues/53746/labels{/name}', 'comments_url': 'https://api.github.com/repos/pandas-dev/pandas/issues/53746/comments', 'events_url': 'https://api.github.com/repos/pandas-dev/pandas/issues/53746/events', 'html_url': 'https://github.com/pandas-dev/pandas/pull/53746', 'id': 1766088717, 'node_id': 'PR_kwDOAA0YD85TeVmw', 'number': 53746, 'title': 'ENH / CoW: Add lazy copy to eval', 'user': {'login': 'phofl', 'id': 61934744, 'node_id': 'MDQ6VXNlcjYxOTM0NzQ0', 'avatar_url': 'https://avatars.githubusercontent.com/u/61934744?v=4', 'gravatar_id': '', 'url': 'https://api.github.com/users/phofl', 'html_url': 'https://github.com/phofl', 'followers_url': 'https://api.github.com/users/phofl/followers', 'following_url': 'https://api.github.com/users/phofl/following{/other_user}', 'gists_url': 'https://api.github.com/users/phofl/gists{/gist_id}', 'starred_url': 'https://api.github.com/users/phofl/starred{/owner}{/repo}', 'subscriptions_url': 'https://api.github.com/users/phofl/subscriptions', 'organizations_url': 'https://api.github.com/users/phofl/orgs', 'repos_url': 'https://api.github.com/users/phofl/repos', 'events_url': 'https://api.github.com/users/phofl/events{/privacy}', 'received_events_url': 'https://api.github.com/users/phofl/received_events', 'type': 'User', 'site_admin': False}, 'labels': [{'id': 2085877452, 'node_id': 'MDU6TGFiZWwyMDg1ODc3NDUy', 'url': 'https://api.github.com/repos/pandas-dev/pandas/labels/Copy%20/%20view%20semantics', 'name': 'Copy / view semantics', 'color': '70e5ca', 'default': False, 'description': ''}], 'state': 'open', 'locked': False, 'assignee': None, 'assignees': [], 'milestone': {'url': 'https://api.github.com/repos/pandas-dev/pandas/milestones/103', 'html_url': 'https://github.com/pandas-dev/pandas/milestone/103', 'labels_url': 'https://api.github.com/repos/pandas-dev/pandas/milestones/103/labels', 'id': 9068593, 'node_id': 'MI_kwDOAA0YD84AimAx', 'number': 103, 'title': '2.1', 'description': '', 'creator': {'login': 'phofl', 'id': 61934744, 'node_id': 'MDQ6VXNlcjYxOTM0NzQ0', 'avatar_url': 'https://avatars.githubusercontent.com/u/61934744?v=4', 'gravatar_id': '', 'url': 'https://api.github.com/users/phofl', 'html_url': 'https://github.com/phofl', 'followers_url': 'https://api.github.com/users/phofl/followers', 'following_url': 'https://api.github.com/users/phofl/following{/other_user}', 'gists_url': 'https://api.github.com/users/phofl/gists{/gist_id}', 'starred_url': 'https://api.github.com/users/phofl/starred{/owner}{/repo}', 'subscriptions_url': 'https://api.github.com/users/phofl/subscriptions', 'organizations_url': 'https://api.github.com/users/phofl/orgs', 'repos_url': 'https://api.github.com/users/phofl/repos', 'events_url': 'https://api.github.com/users/phofl/events{/privacy}', 'received_events_url': 'https://api.github.com/users/phofl/received_events', 'type': 'User', 'site_admin': False}, 'open_issues': 26, 'closed_issues': 774, 'state': 'open', 'created_at': '2023-02-20T21:04:36Z', 'updated_at': '2023-06-22T01:09:56Z', 'due_on': '2023-08-20T07:00:00Z', 'closed_at': None}, 'comments': 0, 'created_at': '2023-06-20T20:16:03Z', 'updated_at': '2023-06-21T14:49:41Z', 'closed_at': None, 'author_association': 'MEMBER', 'active_lock_reason': None, 'draft': False, 'pull_request': {'url': 'https://api.github.com/repos/pandas-dev/pandas/pulls/53746', 'html_url': 'https://github.com/pandas-dev/pandas/pull/53746', 'diff_url': 'https://github.com/pandas-dev/pandas/pull/53746.diff', 'patch_url': 'https://github.com/pandas-dev/pandas/pull/53746.patch', 'merged_at': None}, 'body': '- [x] xref #49473 (Replace xxxx with the GitHub issue number)\\r\\n- [x] [Tests added and passed](https://pandas.pydata.org/pandas-docs/dev/development/contributing_codebase.html#writing-tests) if fixing a bug or adding a new feature\\r\\n- [x] All [code checks passed](https://pandas.pydata.org/pandas-docs/dev/development/contributing_codebase.html#pre-commit).\\r\\n- [x] Added [type annotations](https://pandas.pydata.org/pandas-docs/dev/development/contributing_codebase.html#type-hints) to new arguments/methods/functions.\\r\\n- [x] Added an entry in the latest `doc/source/whatsnew/vX.X.X.rst` file if fixing a bug or adding a new feature.\\r\\n', 'reactions': {'url': 'https://api.github.com/repos/pandas-dev/pandas/issues/53746/reactions', 'total_count': 0, '+1': 0, '-1': 0, 'laugh': 0, 'hooray': 0, 'confused': 0, 'heart': 0, 'rocket': 0, 'eyes': 0}, 'timeline_url': 'https://api.github.com/repos/pandas-dev/pandas/issues/53746/timeline', 'performed_via_github_app': None, 'state_reason': None}, {'url': 'https://api.github.com/repos/pandas-dev/pandas/issues/53745', 'repository_url': 'https://api.github.com/repos/pandas-dev/pandas', 'labels_url': 'https://api.github.com/repos/pandas-dev/pandas/issues/53745/labels{/name}', 'comments_url': 'https://api.github.com/repos/pandas-dev/pandas/issues/53745/comments', 'events_url': 'https://api.github.com/repos/pandas-dev/pandas/issues/53745/events', 'html_url': 'https://github.com/pandas-dev/pandas/pull/53745', 'id': 1766069982, 'node_id': 'PR_kwDOAA0YD85TeRi0', 'number': 53745, 'title': 'TST / CoW: Add test for mask', 'user': {'login': 'phofl', 'id': 61934744, 'node_id': 'MDQ6VXNlcjYxOTM0NzQ0', 'avatar_url': 'https://avatars.githubusercontent.com/u/61934744?v=4', 'gravatar_id': '', 'url': 'https://api.github.com/users/phofl', 'html_url': 'https://github.com/phofl', 'followers_url': 'https://api.github.com/users/phofl/followers', 'following_url': 'https://api.github.com/users/phofl/following{/other_user}', 'gists_url': 'https://api.github.com/users/phofl/gists{/gist_id}', 'starred_url': 'https://api.github.com/users/phofl/starred{/owner}{/repo}', 'subscriptions_url': 'https://api.github.com/users/phofl/subscriptions', 'organizations_url': 'https://api.github.com/users/phofl/orgs', 'repos_url': 'https://api.github.com/users/phofl/repos', 'events_url': 'https://api.github.com/users/phofl/events{/privacy}', 'received_events_url': 'https://api.github.com/users/phofl/received_events', 'type': 'User', 'site_admin': False}, 'labels': [{'id': 2085877452, 'node_id': 'MDU6TGFiZWwyMDg1ODc3NDUy', 'url': 'https://api.github.com/repos/pandas-dev/pandas/labels/Copy%20/%20view%20semantics', 'name': 'Copy / view semantics', 'color': '70e5ca', 'default': False, 'description': ''}], 'state': 'open', 'locked': False, 'assignee': None, 'assignees': [], 'milestone': {'url': 'https://api.github.com/repos/pandas-dev/pandas/milestones/103', 'html_url': 'https://github.com/pandas-dev/pandas/milestone/103', 'labels_url': 'https://api.github.com/repos/pandas-dev/pandas/milestones/103/labels', 'id': 9068593, 'node_id': 'MI_kwDOAA0YD84AimAx', 'number': 103, 'title': '2.1', 'description': '', 'creator': {'login': 'phofl', 'id': 61934744, 'node_id': 'MDQ6VXNlcjYxOTM0NzQ0', 'avatar_url': 'https://avatars.githubusercontent.com/u/61934744?v=4', 'gravatar_id': '', 'url': 'https://api.github.com/users/phofl', 'html_url': 'https://github.com/phofl', 'followers_url': 'https://api.github.com/users/phofl/followers', 'following_url': 'https://api.github.com/users/phofl/following{/other_user}', 'gists_url': 'https://api.github.com/users/phofl/gists{/gist_id}', 'starred_url': 'https://api.github.com/users/phofl/starred{/owner}{/repo}', 'subscriptions_url': 'https://api.github.com/users/phofl/subscriptions', 'organizations_url': 'https://api.github.com/users/phofl/orgs', 'repos_url': 'https://api.github.com/users/phofl/repos', 'events_url': 'https://api.github.com/users/phofl/events{/privacy}', 'received_events_url': 'https://api.github.com/users/phofl/received_events', 'type': 'User', 'site_admin': False}, 'open_issues': 26, 'closed_issues': 774, 'state': 'open', 'created_at': '2023-02-20T21:04:36Z', 'updated_at': '2023-06-22T01:09:56Z', 'due_on': '2023-08-20T07:00:00Z', 'closed_at': None}, 'comments': 3, 'created_at': '2023-06-20T20:02:20Z', 'updated_at': '2023-06-21T19:48:53Z', 'closed_at': None, 'author_association': 'MEMBER', 'active_lock_reason': None, 'draft': False, 'pull_request': {'url': 'https://api.github.com/repos/pandas-dev/pandas/pulls/53745', 'html_url': 'https://github.com/pandas-dev/pandas/pull/53745', 'diff_url': 'https://github.com/pandas-dev/pandas/pull/53745.diff', 'patch_url': 'https://github.com/pandas-dev/pandas/pull/53745.patch', 'merged_at': None}, 'body': '- [x] xref #49473 (Replace xxxx with the GitHub issue number)\\r\\n- [x] [Tests added and passed](https://pandas.pydata.org/pandas-docs/dev/development/contributing_codebase.html#writing-tests) if fixing a bug or adding a new feature\\r\\n- [x] All [code checks passed](https://pandas.pydata.org/pandas-docs/dev/development/contributing_codebase.html#pre-commit).\\r\\n- [x] Added [type annotations](https://pandas.pydata.org/pandas-docs/dev/development/contributing_codebase.html#type-hints) to new arguments/methods/functions.\\r\\n- [x] Added an entry in the latest `doc/source/whatsnew/vX.X.X.rst` file if fixing a bug or adding a new feature.\\r\\n', 'reactions': {'url': 'https://api.github.com/repos/pandas-dev/pandas/issues/53745/reactions', 'total_count': 0, '+1': 0, '-1': 0, 'laugh': 0, 'hooray': 0, 'confused': 0, 'heart': 0, 'rocket': 0, 'eyes': 0}, 'timeline_url': 'https://api.github.com/repos/pandas-dev/pandas/issues/53745/timeline', 'performed_via_github_app': None, 'state_reason': None}, {'url': 'https://api.github.com/repos/pandas-dev/pandas/issues/53744', 'repository_url': 'https://api.github.com/repos/pandas-dev/pandas', 'labels_url': 'https://api.github.com/repos/pandas-dev/pandas/issues/53744/labels{/name}', 'comments_url': 'https://api.github.com/repos/pandas-dev/pandas/issues/53744/comments', 'events_url': 'https://api.github.com/repos/pandas-dev/pandas/issues/53744/events', 'html_url': 'https://github.com/pandas-dev/pandas/pull/53744', 'id': 1765980253, 'node_id': 'PR_kwDOAA0YD85Td-K2', 'number': 53744, 'title': 'BUG: df constructor not copying ea backed series', 'user': {'login': 'phofl', 'id': 61934744, 'node_id': 'MDQ6VXNlcjYxOTM0NzQ0', 'avatar_url': 'https://avatars.githubusercontent.com/u/61934744?v=4', 'gravatar_id': '', 'url': 'https://api.github.com/users/phofl', 'html_url': 'https://github.com/phofl', 'followers_url': 'https://api.github.com/users/phofl/followers', 'following_url': 'https://api.github.com/users/phofl/following{/other_user}', 'gists_url': 'https://api.github.com/users/phofl/gists{/gist_id}', 'starred_url': 'https://api.github.com/users/phofl/starred{/owner}{/repo}', 'subscriptions_url': 'https://api.github.com/users/phofl/subscriptions', 'organizations_url': 'https://api.github.com/users/phofl/orgs', 'repos_url': 'https://api.github.com/users/phofl/repos', 'events_url': 'https://api.github.com/users/phofl/events{/privacy}', 'received_events_url': 'https://api.github.com/users/phofl/received_events', 'type': 'User', 'site_admin': False}, 'labels': [{'id': 849023693, 'node_id': 'MDU6TGFiZWw4NDkwMjM2OTM=', 'url': 'https://api.github.com/repos/pandas-dev/pandas/labels/ExtensionArray', 'name': 'ExtensionArray', 'color': '6138b5', 'default': False, 'description': 'Extending pandas with custom dtypes or arrays.'}, {'id': 2085877452, 'node_id': 'MDU6TGFiZWwyMDg1ODc3NDUy', 'url': 'https://api.github.com/repos/pandas-dev/pandas/labels/Copy%20/%20view%20semantics', 'name': 'Copy / view semantics', 'color': '70e5ca', 'default': False, 'description': ''}], 'state': 'open', 'locked': False, 'assignee': None, 'assignees': [], 'milestone': {'url': 'https://api.github.com/repos/pandas-dev/pandas/milestones/103', 'html_url': 'https://github.com/pandas-dev/pandas/milestone/103', 'labels_url': 'https://api.github.com/repos/pandas-dev/pandas/milestones/103/labels', 'id': 9068593, 'node_id': 'MI_kwDOAA0YD84AimAx', 'number': 103, 'title': '2.1', 'description': '', 'creator': {'login': 'phofl', 'id': 61934744, 'node_id': 'MDQ6VXNlcjYxOTM0NzQ0', 'avatar_url': 'https://avatars.githubusercontent.com/u/61934744?v=4', 'gravatar_id': '', 'url': 'https://api.github.com/users/phofl', 'html_url': 'https://github.com/phofl', 'followers_url': 'https://api.github.com/users/phofl/followers', 'following_url': 'https://api.github.com/users/phofl/following{/other_user}', 'gists_url': 'https://api.github.com/users/phofl/gists{/gist_id}', 'starred_url': 'https://api.github.com/users/phofl/starred{/owner}{/repo}', 'subscriptions_url': 'https://api.github.com/users/phofl/subscriptions', 'organizations_url': 'https://api.github.com/users/phofl/orgs', 'repos_url': 'https://api.github.com/users/phofl/repos', 'events_url': 'https://api.github.com/users/phofl/events{/privacy}', 'received_events_url': 'https://api.github.com/users/phofl/received_events', 'type': 'User', 'site_admin': False}, 'open_issues': 26, 'closed_issues': 774, 'state': 'open', 'created_at': '2023-02-20T21:04:36Z', 'updated_at': '2023-06-22T01:09:56Z', 'due_on': '2023-08-20T07:00:00Z', 'closed_at': None}, 'comments': 0, 'created_at': '2023-06-20T18:56:41Z', 'updated_at': '2023-06-20T19:54:00Z', 'closed_at': None, 'author_association': 'MEMBER', 'active_lock_reason': None, 'draft': False, 'pull_request': {'url': 'https://api.github.com/repos/pandas-dev/pandas/pulls/53744', 'html_url': 'https://github.com/pandas-dev/pandas/pull/53744', 'diff_url': 'https://github.com/pandas-dev/pandas/pull/53744.diff', 'patch_url': 'https://github.com/pandas-dev/pandas/pull/53744.patch', 'merged_at': None}, 'body': '- [ ] closes #xxxx (Replace xxxx with the GitHub issue number)\\r\\n- [x] [Tests added and passed](https://pandas.pydata.org/pandas-docs/dev/development/contributing_codebase.html#writing-tests) if fixing a bug or adding a new feature\\r\\n- [x] All [code checks passed](https://pandas.pydata.org/pandas-docs/dev/development/contributing_codebase.html#pre-commit).\\r\\n- [x] Added [type annotations](https://pandas.pydata.org/pandas-docs/dev/development/contributing_codebase.html#type-hints) to new arguments/methods/functions.\\r\\n- [x] Added an entry in the latest `doc/source/whatsnew/vX.X.X.rst` file if fixing a bug or adding a new feature.\\r\\n', 'reactions': {'url': 'https://api.github.com/repos/pandas-dev/pandas/issues/53744/reactions', 'total_count': 0, '+1': 0, '-1': 0, 'laugh': 0, 'hooray': 0, 'confused': 0, 'heart': 0, 'rocket': 0, 'eyes': 0}, 'timeline_url': 'https://api.github.com/repos/pandas-dev/pandas/issues/53744/timeline', 'performed_via_github_app': None, 'state_reason': None}, {'url': 'https://api.github.com/repos/pandas-dev/pandas/issues/53743', 'repository_url': 'https://api.github.com/repos/pandas-dev/pandas', 'labels_url': 'https://api.github.com/repos/pandas-dev/pandas/issues/53743/labels{/name}', 'comments_url': 'https://api.github.com/repos/pandas-dev/pandas/issues/53743/comments', 'events_url': 'https://api.github.com/repos/pandas-dev/pandas/issues/53743/events', 'html_url': 'https://github.com/pandas-dev/pandas/pull/53743', 'id': 1765927654, 'node_id': 'PR_kwDOAA0YD85TdzkN', 'number': 53743, 'title': 'CI: Test Python 3.12', 'user': {'login': 'lithomas1', 'id': 47963215, 'node_id': 'MDQ6VXNlcjQ3OTYzMjE1', 'avatar_url': 'https://avatars.githubusercontent.com/u/47963215?v=4', 'gravatar_id': '', 'url': 'https://api.github.com/users/lithomas1', 'html_url': 'https://github.com/lithomas1', 'followers_url': 'https://api.github.com/users/lithomas1/followers', 'following_url': 'https://api.github.com/users/lithomas1/following{/other_user}', 'gists_url': 'https://api.github.com/users/lithomas1/gists{/gist_id}', 'starred_url': 'https://api.github.com/users/lithomas1/starred{/owner}{/repo}', 'subscriptions_url': 'https://api.github.com/users/lithomas1/subscriptions', 'organizations_url': 'https://api.github.com/users/lithomas1/orgs', 'repos_url': 'https://api.github.com/users/lithomas1/repos', 'events_url': 'https://api.github.com/users/lithomas1/events{/privacy}', 'received_events_url': 'https://api.github.com/users/lithomas1/received_events', 'type': 'User', 'site_admin': False}, 'labels': [{'id': 129350, 'node_id': 'MDU6TGFiZWwxMjkzNTA=', 'url': 'https://api.github.com/repos/pandas-dev/pandas/labels/Build', 'name': 'Build', 'color': '75507B', 'default': False, 'description': 'Library building on various platforms'}, {'id': 48070600, 'node_id': 'MDU6TGFiZWw0ODA3MDYwMA==', 'url': 'https://api.github.com/repos/pandas-dev/pandas/labels/CI', 'name': 'CI', 'color': 'a2bca7', 'default': False, 'description': 'Continuous Integration'}], 'state': 'open', 'locked': False, 'assignee': None, 'assignees': [], 'milestone': None, 'comments': 1, 'created_at': '2023-06-20T18:29:47Z', 'updated_at': '2023-06-20T23:37:04Z', 'closed_at': None, 'author_association': 'MEMBER', 'active_lock_reason': None, 'draft': True, 'pull_request': {'url': 'https://api.github.com/repos/pandas-dev/pandas/pulls/53743', 'html_url': 'https://github.com/pandas-dev/pandas/pull/53743', 'diff_url': 'https://github.com/pandas-dev/pandas/pull/53743.diff', 'patch_url': 'https://github.com/pandas-dev/pandas/pull/53743.patch', 'merged_at': None}, 'body': '- [ ] closes #53665  (Replace xxxx with the GitHub issue number)\\r\\n- [ ] [Tests added and passed](https://pandas.pydata.org/pandas-docs/dev/development/contributing_codebase.html#writing-tests) if fixing a bug or adding a new feature\\r\\n- [ ] All [code checks passed](https://pandas.pydata.org/pandas-docs/dev/development/contributing_codebase.html#pre-commit).\\r\\n- [ ] Added [type annotations](https://pandas.pydata.org/pandas-docs/dev/development/contributing_codebase.html#type-hints) to new arguments/methods/functions.\\r\\n- [ ] Added an entry in the latest `doc/source/whatsnew/vX.X.X.rst` file if fixing a bug or adding a new feature.\\r\\n', 'reactions': {'url': 'https://api.github.com/repos/pandas-dev/pandas/issues/53743/reactions', 'total_count': 0, '+1': 0, '-1': 0, 'laugh': 0, 'hooray': 0, 'confused': 0, 'heart': 0, 'rocket': 0, 'eyes': 0}, 'timeline_url': 'https://api.github.com/repos/pandas-dev/pandas/issues/53743/timeline', 'performed_via_github_app': None, 'state_reason': None}, {'url': 'https://api.github.com/repos/pandas-dev/pandas/issues/53742', 'repository_url': 'https://api.github.com/repos/pandas-dev/pandas', 'labels_url': 'https://api.github.com/repos/pandas-dev/pandas/issues/53742/labels{/name}', 'comments_url': 'https://api.github.com/repos/pandas-dev/pandas/issues/53742/comments', 'events_url': 'https://api.github.com/repos/pandas-dev/pandas/issues/53742/events', 'html_url': 'https://github.com/pandas-dev/pandas/pull/53742', 'id': 1765863027, 'node_id': 'PR_kwDOAA0YD85TdlnF', 'number': 53742, 'title': 'CLN: assorted', 'user': {'login': 'jbrockmendel', 'id': 8078968, 'node_id': 'MDQ6VXNlcjgwNzg5Njg=', 'avatar_url': 'https://avatars.githubusercontent.com/u/8078968?v=4', 'gravatar_id': '', 'url': 'https://api.github.com/users/jbrockmendel', 'html_url': 'https://github.com/jbrockmendel', 'followers_url': 'https://api.github.com/users/jbrockmendel/followers', 'following_url': 'https://api.github.com/users/jbrockmendel/following{/other_user}', 'gists_url': 'https://api.github.com/users/jbrockmendel/gists{/gist_id}', 'starred_url': 'https://api.github.com/users/jbrockmendel/starred{/owner}{/repo}', 'subscriptions_url': 'https://api.github.com/users/jbrockmendel/subscriptions', 'organizations_url': 'https://api.github.com/users/jbrockmendel/orgs', 'repos_url': 'https://api.github.com/users/jbrockmendel/repos', 'events_url': 'https://api.github.com/users/jbrockmendel/events{/privacy}', 'received_events_url': 'https://api.github.com/users/jbrockmendel/received_events', 'type': 'User', 'site_admin': False}, 'labels': [], 'state': 'open', 'locked': False, 'assignee': None, 'assignees': [], 'milestone': None, 'comments': 0, 'created_at': '2023-06-20T17:42:46Z', 'updated_at': '2023-06-21T19:50:55Z', 'closed_at': None, 'author_association': 'MEMBER', 'active_lock_reason': None, 'draft': False, 'pull_request': {'url': 'https://api.github.com/repos/pandas-dev/pandas/pulls/53742', 'html_url': 'https://github.com/pandas-dev/pandas/pull/53742', 'diff_url': 'https://github.com/pandas-dev/pandas/pull/53742.diff', 'patch_url': 'https://github.com/pandas-dev/pandas/pull/53742.patch', 'merged_at': None}, 'body': '- [ ] closes #xxxx (Replace xxxx with the GitHub issue number)\\r\\n- [ ] [Tests added and passed](https://pandas.pydata.org/pandas-docs/dev/development/contributing_codebase.html#writing-tests) if fixing a bug or adding a new feature\\r\\n- [ ] All [code checks passed](https://pandas.pydata.org/pandas-docs/dev/development/contributing_codebase.html#pre-commit).\\r\\n- [ ] Added [type annotations](https://pandas.pydata.org/pandas-docs/dev/development/contributing_codebase.html#type-hints) to new arguments/methods/functions.\\r\\n- [ ] Added an entry in the latest `doc/source/whatsnew/vX.X.X.rst` file if fixing a bug or adding a new feature.\\r\\n', 'reactions': {'url': 'https://api.github.com/repos/pandas-dev/pandas/issues/53742/reactions', 'total_count': 0, '+1': 0, '-1': 0, 'laugh': 0, 'hooray': 0, 'confused': 0, 'heart': 0, 'rocket': 0, 'eyes': 0}, 'timeline_url': 'https://api.github.com/repos/pandas-dev/pandas/issues/53742/timeline', 'performed_via_github_app': None, 'state_reason': None}]\n"
     ]
    }
   ],
   "source": [
    "data = resp.json()\n",
    "data[0]['title']\n",
    "print(data)"
   ]
  },
  {
   "cell_type": "code",
   "execution_count": 46,
   "metadata": {},
   "outputs": [
    {
     "data": {
      "text/html": [
       "<div>\n",
       "<style scoped>\n",
       "    .dataframe tbody tr th:only-of-type {\n",
       "        vertical-align: middle;\n",
       "    }\n",
       "\n",
       "    .dataframe tbody tr th {\n",
       "        vertical-align: top;\n",
       "    }\n",
       "\n",
       "    .dataframe thead th {\n",
       "        text-align: right;\n",
       "    }\n",
       "</style>\n",
       "<table border=\"1\" class=\"dataframe\">\n",
       "  <thead>\n",
       "    <tr style=\"text-align: right;\">\n",
       "      <th></th>\n",
       "      <th>number</th>\n",
       "      <th>title</th>\n",
       "      <th>labels</th>\n",
       "      <th>state</th>\n",
       "    </tr>\n",
       "  </thead>\n",
       "  <tbody>\n",
       "    <tr>\n",
       "      <th>0</th>\n",
       "      <td>53788</td>\n",
       "      <td>DOC: fix Sphinx parallel build error caused fo...</td>\n",
       "      <td>[]</td>\n",
       "      <td>open</td>\n",
       "    </tr>\n",
       "    <tr>\n",
       "      <th>1</th>\n",
       "      <td>53787</td>\n",
       "      <td>BUG: DataFrame.stack sorts columns</td>\n",
       "      <td>[{'id': 76811, 'node_id': 'MDU6TGFiZWw3NjgxMQ=...</td>\n",
       "      <td>open</td>\n",
       "    </tr>\n",
       "    <tr>\n",
       "      <th>2</th>\n",
       "      <td>53786</td>\n",
       "      <td>BUG: DataFrame.stack sorts columns</td>\n",
       "      <td>[{'id': 76811, 'node_id': 'MDU6TGFiZWw3NjgxMQ=...</td>\n",
       "      <td>open</td>\n",
       "    </tr>\n",
       "    <tr>\n",
       "      <th>3</th>\n",
       "      <td>53785</td>\n",
       "      <td>DEPR: Remove literal string/bytes input from r...</td>\n",
       "      <td>[]</td>\n",
       "      <td>open</td>\n",
       "    </tr>\n",
       "    <tr>\n",
       "      <th>4</th>\n",
       "      <td>53784</td>\n",
       "      <td>TST: Refactor some slow tests</td>\n",
       "      <td>[{'id': 127685, 'node_id': 'MDU6TGFiZWwxMjc2OD...</td>\n",
       "      <td>open</td>\n",
       "    </tr>\n",
       "    <tr>\n",
       "      <th>...</th>\n",
       "      <td>...</td>\n",
       "      <td>...</td>\n",
       "      <td>...</td>\n",
       "      <td>...</td>\n",
       "    </tr>\n",
       "    <tr>\n",
       "      <th>25</th>\n",
       "      <td>53746</td>\n",
       "      <td>ENH / CoW: Add lazy copy to eval</td>\n",
       "      <td>[{'id': 2085877452, 'node_id': 'MDU6TGFiZWwyMD...</td>\n",
       "      <td>open</td>\n",
       "    </tr>\n",
       "    <tr>\n",
       "      <th>26</th>\n",
       "      <td>53745</td>\n",
       "      <td>TST / CoW: Add test for mask</td>\n",
       "      <td>[{'id': 2085877452, 'node_id': 'MDU6TGFiZWwyMD...</td>\n",
       "      <td>open</td>\n",
       "    </tr>\n",
       "    <tr>\n",
       "      <th>27</th>\n",
       "      <td>53744</td>\n",
       "      <td>BUG: df constructor not copying ea backed series</td>\n",
       "      <td>[{'id': 849023693, 'node_id': 'MDU6TGFiZWw4NDk...</td>\n",
       "      <td>open</td>\n",
       "    </tr>\n",
       "    <tr>\n",
       "      <th>28</th>\n",
       "      <td>53743</td>\n",
       "      <td>CI: Test Python 3.12</td>\n",
       "      <td>[{'id': 129350, 'node_id': 'MDU6TGFiZWwxMjkzNT...</td>\n",
       "      <td>open</td>\n",
       "    </tr>\n",
       "    <tr>\n",
       "      <th>29</th>\n",
       "      <td>53742</td>\n",
       "      <td>CLN: assorted</td>\n",
       "      <td>[]</td>\n",
       "      <td>open</td>\n",
       "    </tr>\n",
       "  </tbody>\n",
       "</table>\n",
       "<p>30 rows × 4 columns</p>\n",
       "</div>"
      ],
      "text/plain": [
       "    number                                              title  \\\n",
       "0    53788  DOC: fix Sphinx parallel build error caused fo...   \n",
       "1    53787                 BUG: DataFrame.stack sorts columns   \n",
       "2    53786                 BUG: DataFrame.stack sorts columns   \n",
       "3    53785  DEPR: Remove literal string/bytes input from r...   \n",
       "4    53784                      TST: Refactor some slow tests   \n",
       "..     ...                                                ...   \n",
       "25   53746                   ENH / CoW: Add lazy copy to eval   \n",
       "26   53745                       TST / CoW: Add test for mask   \n",
       "27   53744   BUG: df constructor not copying ea backed series   \n",
       "28   53743                               CI: Test Python 3.12   \n",
       "29   53742                                      CLN: assorted   \n",
       "\n",
       "                                               labels state  \n",
       "0                                                  []  open  \n",
       "1   [{'id': 76811, 'node_id': 'MDU6TGFiZWw3NjgxMQ=...  open  \n",
       "2   [{'id': 76811, 'node_id': 'MDU6TGFiZWw3NjgxMQ=...  open  \n",
       "3                                                  []  open  \n",
       "4   [{'id': 127685, 'node_id': 'MDU6TGFiZWwxMjc2OD...  open  \n",
       "..                                                ...   ...  \n",
       "25  [{'id': 2085877452, 'node_id': 'MDU6TGFiZWwyMD...  open  \n",
       "26  [{'id': 2085877452, 'node_id': 'MDU6TGFiZWwyMD...  open  \n",
       "27  [{'id': 849023693, 'node_id': 'MDU6TGFiZWw4NDk...  open  \n",
       "28  [{'id': 129350, 'node_id': 'MDU6TGFiZWwxMjkzNT...  open  \n",
       "29                                                 []  open  \n",
       "\n",
       "[30 rows x 4 columns]"
      ]
     },
     "execution_count": 46,
     "metadata": {},
     "output_type": "execute_result"
    }
   ],
   "source": [
    "issues = pd.DataFrame(data, columns=['number', 'title',\n",
    "                                     'labels', 'state'])\n",
    "issues"
   ]
  },
  {
   "cell_type": "markdown",
   "metadata": {},
   "source": [
    "## 데이터베이스와 함께 사용하기"
   ]
  },
  {
   "cell_type": "code",
   "execution_count": 52,
   "metadata": {},
   "outputs": [],
   "source": [
    "# DB 테이블 생성 및 연결\n",
    "import sqlite3\n",
    "query = \"\"\"\n",
    "CREATE TABLE contact\n",
    "(name VARCHAR(20), phone VARCHAR(20),\n",
    " age INTEGER\n",
    ");\"\"\"\n",
    "con = sqlite3.connect('contact.sqlite')\n",
    "con.execute(query)\n",
    "con.commit()"
   ]
  },
  {
   "cell_type": "code",
   "execution_count": 53,
   "metadata": {},
   "outputs": [],
   "source": [
    "# test 테이블에 데이터를 저장(insert)하는 코드\n",
    "data = [('김진혁', '1234', 20),\n",
    "        ('최진혁', '2345', 30),\n",
    "        ('목진혁', '3456', 40)]\n",
    "stmt = \"INSERT INTO contact VALUES(?, ?, ?)\"\n",
    "con.executemany(stmt, data)\n",
    "con.commit()"
   ]
  },
  {
   "cell_type": "code",
   "execution_count": 54,
   "metadata": {},
   "outputs": [
    {
     "data": {
      "text/plain": [
       "[('김진혁', '1234', 20), ('최진혁', '2345', 30), ('목진혁', '3456', 40)]"
      ]
     },
     "execution_count": 54,
     "metadata": {},
     "output_type": "execute_result"
    }
   ],
   "source": [
    "# contact 테이블에서 데이터를 선택(select)하는 코드\n",
    "cursor = con.execute('select * from contact')\n",
    "rows = cursor.fetchall()\n",
    "rows"
   ]
  },
  {
   "cell_type": "code",
   "execution_count": 18,
   "metadata": {},
   "outputs": [
    {
     "ename": "NameError",
     "evalue": "name 'cursor' is not defined",
     "output_type": "error",
     "traceback": [
      "\u001b[1;31m---------------------------------------------------------------------------\u001b[0m",
      "\u001b[1;31mNameError\u001b[0m                                 Traceback (most recent call last)",
      "Cell \u001b[1;32mIn[18], line 1\u001b[0m\n\u001b[1;32m----> 1\u001b[0m cursor\u001b[38;5;241m.\u001b[39mdescription\n\u001b[0;32m      2\u001b[0m pd\u001b[38;5;241m.\u001b[39mDataFrame(rows, columns\u001b[38;5;241m=\u001b[39m[x[\u001b[38;5;241m0\u001b[39m] \u001b[38;5;28;01mfor\u001b[39;00m x \u001b[38;5;129;01min\u001b[39;00m cursor\u001b[38;5;241m.\u001b[39mdescription])\n\u001b[0;32m      4\u001b[0m get_ipython()\u001b[38;5;241m.\u001b[39msystem(\u001b[38;5;124m'\u001b[39m\u001b[38;5;124mpip install --upgrade pip\u001b[39m\u001b[38;5;124m'\u001b[39m)\n",
      "\u001b[1;31mNameError\u001b[0m: name 'cursor' is not defined"
     ]
    }
   ],
   "source": [
    "cursor.description\n",
    "pd.DataFrame(rows, columns=[x[0] for x in cursor.description])"
   ]
  },
  {
   "cell_type": "code",
   "execution_count": 61,
   "metadata": {
    "scrolled": true
   },
   "outputs": [
    {
     "data": {
      "text/html": [
       "<div>\n",
       "<style scoped>\n",
       "    .dataframe tbody tr th:only-of-type {\n",
       "        vertical-align: middle;\n",
       "    }\n",
       "\n",
       "    .dataframe tbody tr th {\n",
       "        vertical-align: top;\n",
       "    }\n",
       "\n",
       "    .dataframe thead th {\n",
       "        text-align: right;\n",
       "    }\n",
       "</style>\n",
       "<table border=\"1\" class=\"dataframe\">\n",
       "  <thead>\n",
       "    <tr style=\"text-align: right;\">\n",
       "      <th></th>\n",
       "      <th>name</th>\n",
       "      <th>phone</th>\n",
       "      <th>age</th>\n",
       "    </tr>\n",
       "  </thead>\n",
       "  <tbody>\n",
       "  </tbody>\n",
       "</table>\n",
       "</div>"
      ],
      "text/plain": [
       "Empty DataFrame\n",
       "Columns: [name, phone, age]\n",
       "Index: []"
      ]
     },
     "execution_count": 61,
     "metadata": {},
     "output_type": "execute_result"
    }
   ],
   "source": [
    "# 데이터베이스에서 테이블 import 후에, 데이터 프레임으로 출력\n",
    "import sqlalchemy as sqla\n",
    "db = sqla.create_engine('sqlite:///contact.sqlite')\n",
    "pd.read_sql('select * from test', db)"
   ]
  },
  {
   "cell_type": "code",
   "execution_count": 56,
   "metadata": {},
   "outputs": [],
   "source": [
    "# 즉석 퀴즈\n",
    "# 1. test.sqlite 이름으로 DB 생성하기\n",
    "# 2. contact 이름의 테이블 생성하기\n",
    "# - 테이블 컬럼 (이름 - varchar(20), \n",
    "#    연락처 - varchar(20), 이메일 - varchar(20))) 생성\n",
    "# 3. contact 테이블에 임의의 연락처 정보 1개 입력(insert)\n",
    "# 4. contact 테이블에서 이름, 연락처 컬럼만 선택(select)하여 dataframe으로 출력\n"
   ]
  },
  {
   "cell_type": "code",
   "execution_count": 64,
   "metadata": {},
   "outputs": [],
   "source": [
    "import sqlalchemy as sqla\n",
    "query = \"\"\"\n",
    "CREATE TABLE contact\n",
    "(이름 VARCHAR(20), 연락처 VARCHAR(20), 이메일 VARCHAR(20)\n",
    ");\"\"\"\n",
    "con = sqlite3.connect('quiz.sqlite')\n",
    "con.execute(query)\n",
    "con.commit()"
   ]
  },
  {
   "cell_type": "code",
   "execution_count": 65,
   "metadata": {},
   "outputs": [],
   "source": [
    "data = [('목진혁', '010-9042-9548', '인천')]\n",
    "stmt = \"INSERT INTO contact VALUES(?, ?, ?)\"\n",
    "con.executemany(stmt, data)\n",
    "con.commit()"
   ]
  },
  {
   "cell_type": "code",
   "execution_count": 66,
   "metadata": {
    "scrolled": true
   },
   "outputs": [
    {
     "data": {
      "text/html": [
       "<div>\n",
       "<style scoped>\n",
       "    .dataframe tbody tr th:only-of-type {\n",
       "        vertical-align: middle;\n",
       "    }\n",
       "\n",
       "    .dataframe tbody tr th {\n",
       "        vertical-align: top;\n",
       "    }\n",
       "\n",
       "    .dataframe thead th {\n",
       "        text-align: right;\n",
       "    }\n",
       "</style>\n",
       "<table border=\"1\" class=\"dataframe\">\n",
       "  <thead>\n",
       "    <tr style=\"text-align: right;\">\n",
       "      <th></th>\n",
       "      <th>이름</th>\n",
       "      <th>연락처</th>\n",
       "      <th>이메일</th>\n",
       "    </tr>\n",
       "  </thead>\n",
       "  <tbody>\n",
       "    <tr>\n",
       "      <th>0</th>\n",
       "      <td>목진혁</td>\n",
       "      <td>010-9042-9548</td>\n",
       "      <td>인천</td>\n",
       "    </tr>\n",
       "    <tr>\n",
       "      <th>1</th>\n",
       "      <td>목진혁</td>\n",
       "      <td>010-9042-9548</td>\n",
       "      <td>인천</td>\n",
       "    </tr>\n",
       "  </tbody>\n",
       "</table>\n",
       "</div>"
      ],
      "text/plain": [
       "    이름            연락처 이메일\n",
       "0  목진혁  010-9042-9548  인천\n",
       "1  목진혁  010-9042-9548  인천"
      ]
     },
     "execution_count": 66,
     "metadata": {},
     "output_type": "execute_result"
    }
   ],
   "source": [
    "db = sqla.create_engine('sqlite:///test.sqlite')\n",
    "pd.read_sql('select * from contact', db)"
   ]
  },
  {
   "cell_type": "code",
   "execution_count": 67,
   "metadata": {},
   "outputs": [
    {
     "data": {
      "text/plain": [
       "<sqlite3.Cursor at 0x1a6cf5fff40>"
      ]
     },
     "execution_count": 67,
     "metadata": {},
     "output_type": "execute_result"
    }
   ],
   "source": [
    "# 데이터 삭제\n",
    "stmt = \"Delete from contact where 연락처 = '대한민국 인천'\"\n",
    "con.execute(stmt)"
   ]
  }
 ],
 "metadata": {
  "kernelspec": {
   "display_name": "Python 3 (ipykernel)",
   "language": "python",
   "name": "python3"
  },
  "language_info": {
   "codemirror_mode": {
    "name": "ipython",
    "version": 3
   },
   "file_extension": ".py",
   "mimetype": "text/x-python",
   "name": "python",
   "nbconvert_exporter": "python",
   "pygments_lexer": "ipython3",
   "version": "3.11.7"
  }
 },
 "nbformat": 4,
 "nbformat_minor": 4
}
